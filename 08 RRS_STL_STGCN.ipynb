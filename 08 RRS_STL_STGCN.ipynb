{
 "cells": [
  {
   "cell_type": "code",
   "execution_count": 1,
   "metadata": {
    "collapsed": true,
    "ExecuteTime": {
     "start_time": "2024-02-27T19:22:58.003722Z",
     "end_time": "2024-02-27T19:22:58.438150Z"
    }
   },
   "outputs": [
    {
     "name": "stderr",
     "output_type": "stream",
     "text": [
      "D:\\ProgramData\\Miniconda3\\lib\\site-packages\\numpy\\_distributor_init.py:30: UserWarning: loaded more than 1 DLL from .libs:\n",
      "D:\\ProgramData\\Miniconda3\\lib\\site-packages\\numpy\\.libs\\libopenblas.FB5AE2TYXYH2IJRDKGDGQ3XBKLKTF43H.gfortran-win_amd64.dll\n",
      "D:\\ProgramData\\Miniconda3\\lib\\site-packages\\numpy\\.libs\\libopenblas.XWYDX2IKJW2NMTWSFYNGFUWKQU3LYTCZ.gfortran-win_amd64.dll\n",
      "D:\\ProgramData\\Miniconda3\\lib\\site-packages\\numpy\\.libs\\libopenblas64__v0.3.21-gcc_10_3_0.dll\n",
      "  warnings.warn(\"loaded more than 1 DLL from .libs:\"\n"
     ]
    }
   ],
   "source": [
    "import pandas as pd\n",
    "import math\n",
    "import numpy as np\n",
    "import datetime\n",
    "import os"
   ]
  },
  {
   "cell_type": "code",
   "execution_count": 2,
   "outputs": [
    {
     "name": "stdout",
     "output_type": "stream",
     "text": [
      "2024-02-27 19:22:58.438150\n"
     ]
    }
   ],
   "source": [
    "T = datetime.datetime.now()\n",
    "print(T)\n",
    "if T<datetime.datetime(year=2023,month=11,day=15):\n",
    "    print(\"在期限内\")\n",
    "    # 在此处写原始代码\n",
    "\n",
    "\n"
   ],
   "metadata": {
    "collapsed": false,
    "ExecuteTime": {
     "start_time": "2024-02-27T19:22:58.440149Z",
     "end_time": "2024-02-27T19:22:58.453107Z"
    }
   }
  },
  {
   "cell_type": "code",
   "execution_count": 3,
   "outputs": [],
   "source": [
    "def Get_MRE(y_true,y_pre):\n",
    "    N=len(y_true)\n",
    "    y_true_ave=np.mean(y_true)\n",
    "    MRE=np.sum(np.abs(y_true-y_pre)/(y_true+1e-10))/N\n",
    "    return MRE\n",
    "\n",
    "def Get_MRME(y_true,y_pre):\n",
    "    N=len(y_true)\n",
    "    y_true_ave=np.mean(y_true)\n",
    "    MRME=np.sum(np.abs(y_true-y_pre))/y_true_ave/N\n",
    "    return MRME\n",
    "\n",
    "#求均方根误差\n",
    "def Get_RMSE(y_true,y_pre):\n",
    "    N=len(y_true)\n",
    "    # RMSE=math.sqrt(sum((y_true-y_pre)*(y_true-y_pre))/N)\n",
    "    RMSE = np.sqrt(np.sum((y_true - y_pre) * (y_true - y_pre)) / N)\n",
    "    return RMSE\n",
    "\n",
    "def Get_MSE(y_true,y_pre):\n",
    "    N=len(y_true)\n",
    "    # RMSE=math.sqrt(sum((y_true-y_pre)*(y_true-y_pre))/N)\n",
    "    MSE = np.sum((y_true - y_pre) * (y_true - y_pre)) / N\n",
    "    # return np.around(MSE,4)\n",
    "    return MSE\n",
    "\n",
    "\n",
    "def Get_R2(y_true, y_pre):\n",
    "    RSS = np.sum((y_true - y_pre) ** 2)\n",
    "    ave = np.mean(y_true)\n",
    "    TSS = np.sum((y_true - ave) ** 2)\n",
    "    R2 = 1 - RSS / TSS\n",
    "    return R2\n",
    "\n",
    "def Get_corr(x1,x2):\n",
    "    #x1某一列Series类型\n",
    "    #df2面板数据\n",
    "    ser_x1=pd.Series(x1.reshape(-1))\n",
    "    ser_x2=pd.Series(x2.reshape(-1))\n",
    "    corr=ser_x1.corr(ser_x2,method='pearson')\n",
    "    return corr\n",
    "\n",
    "\n",
    "def Get_SMAPE(y_true,y_pre):\n",
    "    N=len(y_true)\n",
    "    # y_true_ave=np.mean(y_true)\n",
    "    SMAPE=np.sum(np.abs(y_true-y_pre)/(np.abs(y_true)+np.abs(y_pre))/2)/N\n",
    "    return SMAPE"
   ],
   "metadata": {
    "collapsed": false,
    "ExecuteTime": {
     "start_time": "2024-02-27T19:23:05.915291Z",
     "end_time": "2024-02-27T19:23:05.996639Z"
    }
   }
  },
  {
   "cell_type": "markdown",
   "source": [
    "# step1 数据输入"
   ],
   "metadata": {
    "collapsed": false
   }
  },
  {
   "cell_type": "code",
   "execution_count": 4,
   "outputs": [
    {
     "data": {
      "text/plain": "    No.     STNM      STCD         lon        lat                  STNM_EN\n0     0      武侯镇  61800100  106.616667  33.150000                Wuhouzhen\n1     1       石门  61806250  106.950000  33.200000                   Shimen\n2     2       汉中  61800400  107.020000  33.050000                 Hanzhong\n3     3    石泉水文站  61800900  108.238800  33.038200                  Shiquan\n4     4       喜河  61800950  108.279700  32.829400                     Xihe\n5     5     巴山水库  61809971  108.467397  32.112650                   Bashan\n6     6      蔺河口  61810550  108.940000  32.312000                 Linhekou\n7     7      安康库  61801250  108.866666  32.583333                 Ankangku\n8     8       安康  61801300  109.000000  32.683333                   Ankang\n9     9      向家坪  61812100  109.282778  32.863056             Xiangjiaping\n10   10       白河  61801700  110.077515  32.841520                    Baihe\n11   11      黄龙滩  61902580  110.521800  32.676600             Huanglongtan\n12   12    丹凤(二)  62001200  110.316667  33.700000              Danfeng(er)\n13   13    丹江口水库  61802700  111.485000  32.555000              Danjiangkou\n14   14      黄家港  61802800  111.516700  32.516670             Huangjiagang\n15   15      王甫州  61803050  111.680000  32.400000               Wangfuzhou\n16   16      白水峪  61910200  111.380000  32.050000                Baishuiyu\n17   17      新甸铺  62011800  112.300000  32.416667                Xindianpu\n18   18       郭滩  62016400  112.600000  32.516667                   Guotan\n19   19       皇庄  61804110  112.583056  31.200000              Huangzhuang\n20   20   巴山水库出流  61809971  108.467397  32.112650       Bashanshuikuchuliu\n21   21    安康库出流  61801250  108.866666  32.583333           Ankangkuchuliu\n22   22  丹江口水库出流  61802700  111.485000  32.555000  Danjiangkoushuikuchuliu\n23   23    王甫州出流  61803050  111.680000  32.400000         Wangfuzhouchuliu\n24   24    白水峪出流  61910200  111.380000  32.050000          Baishuiyuchuliu",
      "text/html": "<div>\n<style scoped>\n    .dataframe tbody tr th:only-of-type {\n        vertical-align: middle;\n    }\n\n    .dataframe tbody tr th {\n        vertical-align: top;\n    }\n\n    .dataframe thead th {\n        text-align: right;\n    }\n</style>\n<table border=\"1\" class=\"dataframe\">\n  <thead>\n    <tr style=\"text-align: right;\">\n      <th></th>\n      <th>No.</th>\n      <th>STNM</th>\n      <th>STCD</th>\n      <th>lon</th>\n      <th>lat</th>\n      <th>STNM_EN</th>\n    </tr>\n  </thead>\n  <tbody>\n    <tr>\n      <th>0</th>\n      <td>0</td>\n      <td>武侯镇</td>\n      <td>61800100</td>\n      <td>106.616667</td>\n      <td>33.150000</td>\n      <td>Wuhouzhen</td>\n    </tr>\n    <tr>\n      <th>1</th>\n      <td>1</td>\n      <td>石门</td>\n      <td>61806250</td>\n      <td>106.950000</td>\n      <td>33.200000</td>\n      <td>Shimen</td>\n    </tr>\n    <tr>\n      <th>2</th>\n      <td>2</td>\n      <td>汉中</td>\n      <td>61800400</td>\n      <td>107.020000</td>\n      <td>33.050000</td>\n      <td>Hanzhong</td>\n    </tr>\n    <tr>\n      <th>3</th>\n      <td>3</td>\n      <td>石泉水文站</td>\n      <td>61800900</td>\n      <td>108.238800</td>\n      <td>33.038200</td>\n      <td>Shiquan</td>\n    </tr>\n    <tr>\n      <th>4</th>\n      <td>4</td>\n      <td>喜河</td>\n      <td>61800950</td>\n      <td>108.279700</td>\n      <td>32.829400</td>\n      <td>Xihe</td>\n    </tr>\n    <tr>\n      <th>5</th>\n      <td>5</td>\n      <td>巴山水库</td>\n      <td>61809971</td>\n      <td>108.467397</td>\n      <td>32.112650</td>\n      <td>Bashan</td>\n    </tr>\n    <tr>\n      <th>6</th>\n      <td>6</td>\n      <td>蔺河口</td>\n      <td>61810550</td>\n      <td>108.940000</td>\n      <td>32.312000</td>\n      <td>Linhekou</td>\n    </tr>\n    <tr>\n      <th>7</th>\n      <td>7</td>\n      <td>安康库</td>\n      <td>61801250</td>\n      <td>108.866666</td>\n      <td>32.583333</td>\n      <td>Ankangku</td>\n    </tr>\n    <tr>\n      <th>8</th>\n      <td>8</td>\n      <td>安康</td>\n      <td>61801300</td>\n      <td>109.000000</td>\n      <td>32.683333</td>\n      <td>Ankang</td>\n    </tr>\n    <tr>\n      <th>9</th>\n      <td>9</td>\n      <td>向家坪</td>\n      <td>61812100</td>\n      <td>109.282778</td>\n      <td>32.863056</td>\n      <td>Xiangjiaping</td>\n    </tr>\n    <tr>\n      <th>10</th>\n      <td>10</td>\n      <td>白河</td>\n      <td>61801700</td>\n      <td>110.077515</td>\n      <td>32.841520</td>\n      <td>Baihe</td>\n    </tr>\n    <tr>\n      <th>11</th>\n      <td>11</td>\n      <td>黄龙滩</td>\n      <td>61902580</td>\n      <td>110.521800</td>\n      <td>32.676600</td>\n      <td>Huanglongtan</td>\n    </tr>\n    <tr>\n      <th>12</th>\n      <td>12</td>\n      <td>丹凤(二)</td>\n      <td>62001200</td>\n      <td>110.316667</td>\n      <td>33.700000</td>\n      <td>Danfeng(er)</td>\n    </tr>\n    <tr>\n      <th>13</th>\n      <td>13</td>\n      <td>丹江口水库</td>\n      <td>61802700</td>\n      <td>111.485000</td>\n      <td>32.555000</td>\n      <td>Danjiangkou</td>\n    </tr>\n    <tr>\n      <th>14</th>\n      <td>14</td>\n      <td>黄家港</td>\n      <td>61802800</td>\n      <td>111.516700</td>\n      <td>32.516670</td>\n      <td>Huangjiagang</td>\n    </tr>\n    <tr>\n      <th>15</th>\n      <td>15</td>\n      <td>王甫州</td>\n      <td>61803050</td>\n      <td>111.680000</td>\n      <td>32.400000</td>\n      <td>Wangfuzhou</td>\n    </tr>\n    <tr>\n      <th>16</th>\n      <td>16</td>\n      <td>白水峪</td>\n      <td>61910200</td>\n      <td>111.380000</td>\n      <td>32.050000</td>\n      <td>Baishuiyu</td>\n    </tr>\n    <tr>\n      <th>17</th>\n      <td>17</td>\n      <td>新甸铺</td>\n      <td>62011800</td>\n      <td>112.300000</td>\n      <td>32.416667</td>\n      <td>Xindianpu</td>\n    </tr>\n    <tr>\n      <th>18</th>\n      <td>18</td>\n      <td>郭滩</td>\n      <td>62016400</td>\n      <td>112.600000</td>\n      <td>32.516667</td>\n      <td>Guotan</td>\n    </tr>\n    <tr>\n      <th>19</th>\n      <td>19</td>\n      <td>皇庄</td>\n      <td>61804110</td>\n      <td>112.583056</td>\n      <td>31.200000</td>\n      <td>Huangzhuang</td>\n    </tr>\n    <tr>\n      <th>20</th>\n      <td>20</td>\n      <td>巴山水库出流</td>\n      <td>61809971</td>\n      <td>108.467397</td>\n      <td>32.112650</td>\n      <td>Bashanshuikuchuliu</td>\n    </tr>\n    <tr>\n      <th>21</th>\n      <td>21</td>\n      <td>安康库出流</td>\n      <td>61801250</td>\n      <td>108.866666</td>\n      <td>32.583333</td>\n      <td>Ankangkuchuliu</td>\n    </tr>\n    <tr>\n      <th>22</th>\n      <td>22</td>\n      <td>丹江口水库出流</td>\n      <td>61802700</td>\n      <td>111.485000</td>\n      <td>32.555000</td>\n      <td>Danjiangkoushuikuchuliu</td>\n    </tr>\n    <tr>\n      <th>23</th>\n      <td>23</td>\n      <td>王甫州出流</td>\n      <td>61803050</td>\n      <td>111.680000</td>\n      <td>32.400000</td>\n      <td>Wangfuzhouchuliu</td>\n    </tr>\n    <tr>\n      <th>24</th>\n      <td>24</td>\n      <td>白水峪出流</td>\n      <td>61910200</td>\n      <td>111.380000</td>\n      <td>32.050000</td>\n      <td>Baishuiyuchuliu</td>\n    </tr>\n  </tbody>\n</table>\n</div>"
     },
     "execution_count": 4,
     "metadata": {},
     "output_type": "execute_result"
    }
   ],
   "source": [
    "df_info=pd.read_excel(\"data/流量统计表.xlsx\",skiprows=0)\n",
    "df_info"
   ],
   "metadata": {
    "collapsed": false,
    "ExecuteTime": {
     "start_time": "2024-02-27T19:23:22.450677Z",
     "end_time": "2024-02-27T19:23:22.654464Z"
    }
   }
  },
  {
   "cell_type": "code",
   "execution_count": 6,
   "outputs": [
    {
     "name": "stdout",
     "output_type": "stream",
     "text": [
      "Wuhouzhen 武侯镇\n",
      "Shimen 石门\n",
      "Hanzhong 汉中\n",
      "Shiquanshuiwenzhan 石泉水文站\n",
      "Xihe 喜河\n",
      "Bashanshuiku 巴山水库\n",
      "Linhekou 蔺河口\n",
      "Ankangku 安康库\n",
      "Ankang 安康\n",
      "Xiangjiaping 向家坪\n",
      "Baihe 白河\n",
      "Huanglongtan 黄龙滩\n",
      "Danfeng(er) 丹凤(二)\n",
      "Danjiangkoushuiku 丹江口水库\n",
      "Huangjiagang 黄家港\n",
      "Wangfuzhou 王甫州\n",
      "Baishuiyu 白水峪\n",
      "Xindianpu 新甸铺\n",
      "Guotan 郭滩\n",
      "Huangzhuang 皇庄\n",
      "Bashanshuikuchuliu 巴山水库出流\n",
      "Ankangkuchuliu 安康库出流\n",
      "Danjiangkoushuikuchuliu 丹江口水库出流\n",
      "Wangfuzhouchuliu 王甫州出流\n",
      "Baishuiyuchuliu 白水峪出流\n"
     ]
    },
    {
     "data": {
      "text/plain": "['WHZ',\n 'SM',\n 'HZ',\n 'SQSWZ',\n 'XH',\n 'BSSK',\n 'LHK',\n 'AKK',\n 'AK',\n 'XJP',\n 'BH',\n 'HLT',\n 'DF(E)',\n 'DJKSK',\n 'HJG',\n 'WFZ',\n 'BSY',\n 'XDP',\n 'GT',\n 'HZ',\n 'BSSKCL',\n 'AKKCL',\n 'DJKSKCL',\n 'WFZCL',\n 'BSYCL']"
     },
     "execution_count": 6,
     "metadata": {},
     "output_type": "execute_result"
    }
   ],
   "source": [
    "import pypinyin\n",
    "pinyin_name = []\n",
    "first_pinyin = []\n",
    "for i in df_info[\"STNM\"]:\n",
    "    result = pypinyin.pinyin(i, style=pypinyin.NORMAL)\n",
    "    result_ = [i[0] for i in result]\n",
    "    # result2 = result_[0].capitalize() + ' ' + ''.join(result_[1:]).capitalize()\n",
    "    result2 = result_[0].capitalize()+''.join(result_[1:])\n",
    "    result3 = ''.join([i[0].upper() for i in result_])\n",
    "    print(result2, i, sep=' ')\n",
    "    pinyin_name.append(result2)\n",
    "    first_pinyin.append(result3)\n",
    "first_pinyin"
   ],
   "metadata": {
    "collapsed": false,
    "ExecuteTime": {
     "start_time": "2024-02-26T10:00:53.039294Z",
     "end_time": "2024-02-26T10:00:53.228702Z"
    }
   }
  },
  {
   "cell_type": "code",
   "execution_count": 7,
   "outputs": [
    {
     "data": {
      "text/plain": "    No.     STNM      STCD         lon        lat                  STNM_EN  \\\n0     0      武侯镇  61800100  106.616667  33.150000                Wuhouzhen   \n1     1       石门  61806250  106.950000  33.200000                   Shimen   \n2     2       汉中  61800400  107.020000  33.050000                 Hanzhong   \n3     3    石泉水文站  61800900  108.238800  33.038200                  Shiquan   \n4     4       喜河  61800950  108.279700  32.829400                     Xihe   \n5     5     巴山水库  61809971  108.467397  32.112650                   Bashan   \n6     6      蔺河口  61810550  108.940000  32.312000                 Linhekou   \n7     7      安康库  61801250  108.866666  32.583333                 Ankangku   \n8     8       安康  61801300  109.000000  32.683333                   Ankang   \n9     9      向家坪  61812100  109.282778  32.863056             Xiangjiaping   \n10   10       白河  61801700  110.077515  32.841520                    Baihe   \n11   11      黄龙滩  61902580  110.521800  32.676600             Huanglongtan   \n12   12    丹凤(二)  62001200  110.316667  33.700000              Danfeng(er)   \n13   13    丹江口水库  61802700  111.485000  32.555000              Danjiangkou   \n14   14      黄家港  61802800  111.516700  32.516670             Huangjiagang   \n15   15      王甫州  61803050  111.680000  32.400000               Wangfuzhou   \n16   16      白水峪  61910200  111.380000  32.050000                Baishuiyu   \n17   17      新甸铺  62011800  112.300000  32.416667                Xindianpu   \n18   18       郭滩  62016400  112.600000  32.516667                   Guotan   \n19   19       皇庄  61804110  112.583056  31.200000              Huangzhuang   \n20   20   巴山水库出流  61809971  108.467397  32.112650       Bashanshuikuchuliu   \n21   21    安康库出流  61801250  108.866666  32.583333           Ankangkuchuliu   \n22   22  丹江口水库出流  61802700  111.485000  32.555000  Danjiangkoushuikuchuliu   \n23   23    王甫州出流  61803050  111.680000  32.400000         Wangfuzhouchuliu   \n24   24    白水峪出流  61910200  111.380000  32.050000          Baishuiyuchuliu   \n\n                       英文名称  \n0                 Wuhouzhen  \n1                    Shimen  \n2                  Hanzhong  \n3        Shiquanshuiwenzhan  \n4                      Xihe  \n5              Bashanshuiku  \n6                  Linhekou  \n7                  Ankangku  \n8                    Ankang  \n9              Xiangjiaping  \n10                    Baihe  \n11             Huanglongtan  \n12              Danfeng(er)  \n13        Danjiangkoushuiku  \n14             Huangjiagang  \n15               Wangfuzhou  \n16                Baishuiyu  \n17                Xindianpu  \n18                   Guotan  \n19              Huangzhuang  \n20       Bashanshuikuchuliu  \n21           Ankangkuchuliu  \n22  Danjiangkoushuikuchuliu  \n23         Wangfuzhouchuliu  \n24          Baishuiyuchuliu  ",
      "text/html": "<div>\n<style scoped>\n    .dataframe tbody tr th:only-of-type {\n        vertical-align: middle;\n    }\n\n    .dataframe tbody tr th {\n        vertical-align: top;\n    }\n\n    .dataframe thead th {\n        text-align: right;\n    }\n</style>\n<table border=\"1\" class=\"dataframe\">\n  <thead>\n    <tr style=\"text-align: right;\">\n      <th></th>\n      <th>No.</th>\n      <th>STNM</th>\n      <th>STCD</th>\n      <th>lon</th>\n      <th>lat</th>\n      <th>STNM_EN</th>\n      <th>英文名称</th>\n    </tr>\n  </thead>\n  <tbody>\n    <tr>\n      <th>0</th>\n      <td>0</td>\n      <td>武侯镇</td>\n      <td>61800100</td>\n      <td>106.616667</td>\n      <td>33.150000</td>\n      <td>Wuhouzhen</td>\n      <td>Wuhouzhen</td>\n    </tr>\n    <tr>\n      <th>1</th>\n      <td>1</td>\n      <td>石门</td>\n      <td>61806250</td>\n      <td>106.950000</td>\n      <td>33.200000</td>\n      <td>Shimen</td>\n      <td>Shimen</td>\n    </tr>\n    <tr>\n      <th>2</th>\n      <td>2</td>\n      <td>汉中</td>\n      <td>61800400</td>\n      <td>107.020000</td>\n      <td>33.050000</td>\n      <td>Hanzhong</td>\n      <td>Hanzhong</td>\n    </tr>\n    <tr>\n      <th>3</th>\n      <td>3</td>\n      <td>石泉水文站</td>\n      <td>61800900</td>\n      <td>108.238800</td>\n      <td>33.038200</td>\n      <td>Shiquan</td>\n      <td>Shiquanshuiwenzhan</td>\n    </tr>\n    <tr>\n      <th>4</th>\n      <td>4</td>\n      <td>喜河</td>\n      <td>61800950</td>\n      <td>108.279700</td>\n      <td>32.829400</td>\n      <td>Xihe</td>\n      <td>Xihe</td>\n    </tr>\n    <tr>\n      <th>5</th>\n      <td>5</td>\n      <td>巴山水库</td>\n      <td>61809971</td>\n      <td>108.467397</td>\n      <td>32.112650</td>\n      <td>Bashan</td>\n      <td>Bashanshuiku</td>\n    </tr>\n    <tr>\n      <th>6</th>\n      <td>6</td>\n      <td>蔺河口</td>\n      <td>61810550</td>\n      <td>108.940000</td>\n      <td>32.312000</td>\n      <td>Linhekou</td>\n      <td>Linhekou</td>\n    </tr>\n    <tr>\n      <th>7</th>\n      <td>7</td>\n      <td>安康库</td>\n      <td>61801250</td>\n      <td>108.866666</td>\n      <td>32.583333</td>\n      <td>Ankangku</td>\n      <td>Ankangku</td>\n    </tr>\n    <tr>\n      <th>8</th>\n      <td>8</td>\n      <td>安康</td>\n      <td>61801300</td>\n      <td>109.000000</td>\n      <td>32.683333</td>\n      <td>Ankang</td>\n      <td>Ankang</td>\n    </tr>\n    <tr>\n      <th>9</th>\n      <td>9</td>\n      <td>向家坪</td>\n      <td>61812100</td>\n      <td>109.282778</td>\n      <td>32.863056</td>\n      <td>Xiangjiaping</td>\n      <td>Xiangjiaping</td>\n    </tr>\n    <tr>\n      <th>10</th>\n      <td>10</td>\n      <td>白河</td>\n      <td>61801700</td>\n      <td>110.077515</td>\n      <td>32.841520</td>\n      <td>Baihe</td>\n      <td>Baihe</td>\n    </tr>\n    <tr>\n      <th>11</th>\n      <td>11</td>\n      <td>黄龙滩</td>\n      <td>61902580</td>\n      <td>110.521800</td>\n      <td>32.676600</td>\n      <td>Huanglongtan</td>\n      <td>Huanglongtan</td>\n    </tr>\n    <tr>\n      <th>12</th>\n      <td>12</td>\n      <td>丹凤(二)</td>\n      <td>62001200</td>\n      <td>110.316667</td>\n      <td>33.700000</td>\n      <td>Danfeng(er)</td>\n      <td>Danfeng(er)</td>\n    </tr>\n    <tr>\n      <th>13</th>\n      <td>13</td>\n      <td>丹江口水库</td>\n      <td>61802700</td>\n      <td>111.485000</td>\n      <td>32.555000</td>\n      <td>Danjiangkou</td>\n      <td>Danjiangkoushuiku</td>\n    </tr>\n    <tr>\n      <th>14</th>\n      <td>14</td>\n      <td>黄家港</td>\n      <td>61802800</td>\n      <td>111.516700</td>\n      <td>32.516670</td>\n      <td>Huangjiagang</td>\n      <td>Huangjiagang</td>\n    </tr>\n    <tr>\n      <th>15</th>\n      <td>15</td>\n      <td>王甫州</td>\n      <td>61803050</td>\n      <td>111.680000</td>\n      <td>32.400000</td>\n      <td>Wangfuzhou</td>\n      <td>Wangfuzhou</td>\n    </tr>\n    <tr>\n      <th>16</th>\n      <td>16</td>\n      <td>白水峪</td>\n      <td>61910200</td>\n      <td>111.380000</td>\n      <td>32.050000</td>\n      <td>Baishuiyu</td>\n      <td>Baishuiyu</td>\n    </tr>\n    <tr>\n      <th>17</th>\n      <td>17</td>\n      <td>新甸铺</td>\n      <td>62011800</td>\n      <td>112.300000</td>\n      <td>32.416667</td>\n      <td>Xindianpu</td>\n      <td>Xindianpu</td>\n    </tr>\n    <tr>\n      <th>18</th>\n      <td>18</td>\n      <td>郭滩</td>\n      <td>62016400</td>\n      <td>112.600000</td>\n      <td>32.516667</td>\n      <td>Guotan</td>\n      <td>Guotan</td>\n    </tr>\n    <tr>\n      <th>19</th>\n      <td>19</td>\n      <td>皇庄</td>\n      <td>61804110</td>\n      <td>112.583056</td>\n      <td>31.200000</td>\n      <td>Huangzhuang</td>\n      <td>Huangzhuang</td>\n    </tr>\n    <tr>\n      <th>20</th>\n      <td>20</td>\n      <td>巴山水库出流</td>\n      <td>61809971</td>\n      <td>108.467397</td>\n      <td>32.112650</td>\n      <td>Bashanshuikuchuliu</td>\n      <td>Bashanshuikuchuliu</td>\n    </tr>\n    <tr>\n      <th>21</th>\n      <td>21</td>\n      <td>安康库出流</td>\n      <td>61801250</td>\n      <td>108.866666</td>\n      <td>32.583333</td>\n      <td>Ankangkuchuliu</td>\n      <td>Ankangkuchuliu</td>\n    </tr>\n    <tr>\n      <th>22</th>\n      <td>22</td>\n      <td>丹江口水库出流</td>\n      <td>61802700</td>\n      <td>111.485000</td>\n      <td>32.555000</td>\n      <td>Danjiangkoushuikuchuliu</td>\n      <td>Danjiangkoushuikuchuliu</td>\n    </tr>\n    <tr>\n      <th>23</th>\n      <td>23</td>\n      <td>王甫州出流</td>\n      <td>61803050</td>\n      <td>111.680000</td>\n      <td>32.400000</td>\n      <td>Wangfuzhouchuliu</td>\n      <td>Wangfuzhouchuliu</td>\n    </tr>\n    <tr>\n      <th>24</th>\n      <td>24</td>\n      <td>白水峪出流</td>\n      <td>61910200</td>\n      <td>111.380000</td>\n      <td>32.050000</td>\n      <td>Baishuiyuchuliu</td>\n      <td>Baishuiyuchuliu</td>\n    </tr>\n  </tbody>\n</table>\n</div>"
     },
     "execution_count": 7,
     "metadata": {},
     "output_type": "execute_result"
    }
   ],
   "source": [
    "df_info[\"英文名称\"]=pinyin_name\n",
    "df_info"
   ],
   "metadata": {
    "collapsed": false
   }
  },
  {
   "cell_type": "code",
   "execution_count": 7,
   "outputs": [],
   "source": [
    "df_info.to_excel(\"站点名称增补.xlsx\")"
   ],
   "metadata": {
    "collapsed": false,
    "ExecuteTime": {
     "start_time": "2024-02-26T10:00:59.296809Z",
     "end_time": "2024-02-26T10:00:59.360075Z"
    }
   }
  },
  {
   "cell_type": "code",
   "execution_count": 9,
   "outputs": [
    {
     "data": {
      "text/plain": "['Wuhouzhen',\n 'Shimen',\n 'Hanzhong',\n 'Shiquanshuiwenzhan',\n 'Xihe',\n 'Bashanshuiku',\n 'Linhekou',\n 'Ankangku',\n 'Ankang',\n 'Xiangjiaping',\n 'Baihe',\n 'Huanglongtan',\n 'Danfeng(er)',\n 'Danjiangkoushuiku',\n 'Huangjiagang',\n 'Wangfuzhou',\n 'Baishuiyu',\n 'Xindianpu',\n 'Guotan',\n 'Huangzhuang',\n 'Bashanshuikuchuliu',\n 'Ankangkuchuliu',\n 'Danjiangkoushuikuchuliu',\n 'Wangfuzhouchuliu',\n 'Baishuiyuchuliu']"
     },
     "execution_count": 9,
     "metadata": {},
     "output_type": "execute_result"
    }
   ],
   "source": [
    "pinyin_name"
   ],
   "metadata": {
    "collapsed": false
   }
  },
  {
   "cell_type": "code",
   "execution_count": 8,
   "outputs": [
    {
     "data": {
      "text/plain": "array([[0., 0., 1., 0., 0., 0., 0., 0., 0., 0., 0., 0., 0., 0., 0., 0.,\n        0., 0., 0., 0., 0., 0., 0., 0., 0.],\n       [0., 0., 1., 0., 0., 0., 0., 0., 0., 0., 0., 0., 0., 0., 0., 0.,\n        0., 0., 0., 0., 0., 0., 0., 0., 0.],\n       [0., 0., 0., 1., 0., 0., 0., 0., 0., 0., 0., 0., 0., 0., 0., 0.,\n        0., 0., 0., 0., 0., 0., 0., 0., 0.],\n       [0., 0., 0., 0., 1., 0., 0., 0., 0., 0., 0., 0., 0., 0., 0., 0.,\n        0., 0., 0., 0., 0., 0., 0., 0., 0.],\n       [0., 0., 0., 0., 0., 0., 0., 1., 0., 0., 0., 0., 0., 0., 0., 0.,\n        0., 0., 0., 0., 0., 0., 0., 0., 0.],\n       [0., 0., 0., 0., 0., 0., 0., 1., 0., 0., 0., 0., 0., 0., 0., 0.,\n        0., 0., 0., 0., 1., 0., 0., 0., 0.],\n       [0., 0., 0., 0., 0., 0., 0., 1., 0., 0., 0., 0., 0., 0., 0., 0.,\n        0., 0., 0., 0., 0., 0., 0., 0., 0.],\n       [0., 0., 0., 0., 0., 0., 0., 0., 1., 0., 0., 0., 0., 0., 0., 0.,\n        0., 0., 0., 0., 0., 1., 0., 0., 0.],\n       [0., 0., 0., 0., 0., 0., 0., 0., 0., 0., 1., 0., 0., 0., 0., 0.,\n        0., 0., 0., 0., 0., 0., 0., 0., 0.],\n       [0., 0., 0., 0., 0., 0., 0., 0., 0., 0., 1., 0., 0., 0., 0., 0.,\n        0., 0., 0., 0., 0., 0., 0., 0., 0.],\n       [0., 0., 0., 0., 0., 0., 0., 0., 0., 0., 0., 0., 0., 1., 0., 0.,\n        0., 0., 0., 0., 0., 0., 0., 0., 0.],\n       [0., 0., 0., 0., 0., 0., 0., 0., 0., 0., 0., 0., 0., 1., 0., 0.,\n        0., 0., 0., 0., 0., 0., 0., 0., 0.],\n       [0., 0., 0., 0., 0., 0., 0., 0., 0., 0., 0., 0., 0., 1., 0., 0.,\n        0., 0., 0., 0., 0., 0., 0., 0., 0.],\n       [0., 0., 0., 0., 0., 0., 0., 0., 0., 0., 0., 0., 0., 0., 1., 0.,\n        0., 0., 0., 0., 0., 0., 1., 0., 0.],\n       [0., 0., 0., 0., 0., 0., 0., 0., 0., 0., 0., 0., 0., 0., 0., 1.,\n        0., 0., 0., 0., 0., 0., 0., 0., 0.],\n       [0., 0., 0., 0., 0., 0., 0., 0., 0., 0., 0., 0., 0., 0., 0., 0.,\n        0., 0., 0., 1., 0., 0., 0., 1., 0.],\n       [0., 0., 0., 0., 0., 0., 0., 0., 0., 0., 0., 0., 0., 0., 0., 0.,\n        0., 0., 0., 1., 0., 0., 0., 0., 1.],\n       [0., 0., 0., 0., 0., 0., 0., 0., 0., 0., 0., 0., 0., 0., 0., 0.,\n        0., 0., 0., 1., 0., 0., 0., 0., 0.],\n       [0., 0., 0., 0., 0., 0., 0., 0., 0., 0., 0., 0., 0., 0., 0., 0.,\n        0., 0., 0., 1., 0., 0., 0., 0., 0.],\n       [0., 0., 0., 0., 0., 0., 0., 0., 0., 0., 0., 0., 0., 0., 0., 0.,\n        0., 0., 0., 0., 0., 0., 0., 0., 0.],\n       [0., 0., 0., 0., 0., 1., 0., 1., 0., 0., 0., 0., 0., 0., 0., 0.,\n        0., 0., 0., 0., 0., 0., 0., 0., 0.],\n       [0., 0., 0., 0., 0., 0., 0., 1., 1., 0., 0., 0., 0., 0., 0., 0.,\n        0., 0., 0., 0., 0., 0., 0., 0., 0.],\n       [0., 0., 0., 0., 0., 0., 0., 0., 0., 0., 0., 0., 0., 1., 1., 0.,\n        0., 0., 0., 0., 0., 0., 0., 0., 0.],\n       [0., 0., 0., 0., 0., 0., 0., 0., 0., 0., 0., 0., 0., 0., 0., 1.,\n        0., 0., 0., 1., 0., 0., 0., 0., 0.],\n       [0., 0., 0., 0., 0., 0., 0., 0., 0., 0., 0., 0., 0., 0., 0., 0.,\n        1., 0., 0., 1., 0., 0., 0., 0., 0.]])"
     },
     "execution_count": 8,
     "metadata": {},
     "output_type": "execute_result"
    }
   ],
   "source": [
    "A=np.zeros((25,25))\n",
    "A[0,2]=1\n",
    "A[1,2]=1\n",
    "A[2,3]=1\n",
    "A[3,4]=1\n",
    "A[4,7]=1\n",
    "A[5,7]=1\n",
    "A[6,7]=1\n",
    "A[7,8]=1\n",
    "A[8,10]=1\n",
    "A[9,10]=1\n",
    "A[10,13]=1\n",
    "A[11,13]=1\n",
    "A[12,13]=1\n",
    "A[13,14]=1\n",
    "A[14,15]=1\n",
    "A[15,19]=1\n",
    "A[16,19]=1\n",
    "A[17,19]=1\n",
    "A[18,19]=1\n",
    "A[20,7]=1\n",
    "A[21,8]=1\n",
    "A[22,14]=1\n",
    "A[23,19]=1\n",
    "A[24,19]=1\n",
    "\n",
    "A[20,5]=1\n",
    "A[21,7]=1\n",
    "A[22,13]=1\n",
    "A[23,15]=1\n",
    "A[24,16]=1\n",
    "\n",
    "A[5,20]=1\n",
    "A[7,21]=1\n",
    "A[13,22]=1\n",
    "A[15,23]=1\n",
    "A[16,24]=1\n",
    "np.save(\"Areal_25node.npy\",A)\n",
    "A"
   ],
   "metadata": {
    "collapsed": false,
    "ExecuteTime": {
     "start_time": "2024-02-26T10:01:11.901319Z",
     "end_time": "2024-02-26T10:01:11.956471Z"
    }
   }
  },
  {
   "cell_type": "markdown",
   "source": [
    "## 1.2序列数据"
   ],
   "metadata": {
    "collapsed": false
   }
  },
  {
   "cell_type": "code",
   "execution_count": 5,
   "outputs": [],
   "source": [
    "\n",
    "from statsmodels.tsa.seasonal import STL\n",
    "\n",
    "import matplotlib.pyplot as plt\n",
    "\n",
    "from pandas.plotting import register_matplotlib_converters\n",
    "\n",
    "register_matplotlib_converters()"
   ],
   "metadata": {
    "collapsed": false,
    "ExecuteTime": {
     "start_time": "2024-02-27T19:23:55.509081Z",
     "end_time": "2024-02-27T19:23:57.941671Z"
    }
   }
  },
  {
   "cell_type": "code",
   "execution_count": 14,
   "outputs": [
    {
     "name": "stdout",
     "output_type": "stream",
     "text": [
      "皇庄\n",
      "2005/5/1       956.0\n",
      "2005/5/2       975.0\n",
      "2005/5/3      1000.0\n",
      "2005/5/4       968.0\n",
      "2005/5/5      1000.0\n",
      "               ...  \n",
      "2020/12/23     825.0\n",
      "2020/12/24     792.0\n",
      "2020/12/25     749.0\n",
      "2020/12/26     739.0\n",
      "2020/12/27     695.0\n",
      "Name: Q, Length: 5720, dtype: float64\n"
     ]
    },
    {
     "data": {
      "text/plain": "<Figure size 640x480 with 4 Axes>",
      "image/png": "[encoded data removed]"
     },
     "metadata": {},
     "output_type": "display_data"
    }
   ],
   "source": [
    "path=r\"data/Q\"\n",
    "for stcd in df_info[\"STNM\"].tolist()[19:20]:\n",
    "    print(stcd)\n",
    "    df_s=pd.read_csv(os.path.join(path,stcd+\".csv\"))\n",
    "    df_s.index=df_s[\"TM\"].to_list()\n",
    "    # df_sign=df_s[[\"Q\"]]\n",
    "    df_sign=df_s[\"Q\"]\n",
    "    print(df_sign)\n",
    "    # Time_list=pd.to_datetime(df_sign.index,format='%Y/%m/%d %H:%M')\n",
    "    Time_list=pd.to_datetime(df_sign.index,format='%Y/%m/%d')\n",
    "    # Time_list=pd.to_datetime(df_sign.index,format='%Y-%m-%d')\n",
    "    df_sign.index=Time_list\n",
    "    data = df_sign.resample('D').mean().ffill()\n",
    "    res = STL(data, period=365, robust=True).fit()\n",
    "    res.plot()\n",
    "\n"
   ],
   "metadata": {
    "collapsed": false
   }
  },
  {
   "cell_type": "code",
   "execution_count": 20,
   "outputs": [
    {
     "data": {
      "text/plain": "                Q\n2005-05-01   7.20\n2005-05-02   5.20\n2005-05-03   6.20\n2005-05-04   6.60\n2005-05-05   5.70\n...           ...\n2020-12-23   9.93\n2020-12-24  17.30\n2020-12-25  19.50\n2020-12-26  19.50\n2020-12-27  19.50\n\n[5720 rows x 1 columns]",
      "text/html": "<div>\n<style scoped>\n    .dataframe tbody tr th:only-of-type {\n        vertical-align: middle;\n    }\n\n    .dataframe tbody tr th {\n        vertical-align: top;\n    }\n\n    .dataframe thead th {\n        text-align: right;\n    }\n</style>\n<table border=\"1\" class=\"dataframe\">\n  <thead>\n    <tr style=\"text-align: right;\">\n      <th></th>\n      <th>Q</th>\n    </tr>\n  </thead>\n  <tbody>\n    <tr>\n      <th>2005-05-01</th>\n      <td>7.20</td>\n    </tr>\n    <tr>\n      <th>2005-05-02</th>\n      <td>5.20</td>\n    </tr>\n    <tr>\n      <th>2005-05-03</th>\n      <td>6.20</td>\n    </tr>\n    <tr>\n      <th>2005-05-04</th>\n      <td>6.60</td>\n    </tr>\n    <tr>\n      <th>2005-05-05</th>\n      <td>5.70</td>\n    </tr>\n    <tr>\n      <th>...</th>\n      <td>...</td>\n    </tr>\n    <tr>\n      <th>2020-12-23</th>\n      <td>9.93</td>\n    </tr>\n    <tr>\n      <th>2020-12-24</th>\n      <td>17.30</td>\n    </tr>\n    <tr>\n      <th>2020-12-25</th>\n      <td>19.50</td>\n    </tr>\n    <tr>\n      <th>2020-12-26</th>\n      <td>19.50</td>\n    </tr>\n    <tr>\n      <th>2020-12-27</th>\n      <td>19.50</td>\n    </tr>\n  </tbody>\n</table>\n<p>5720 rows × 1 columns</p>\n</div>"
     },
     "execution_count": 20,
     "metadata": {},
     "output_type": "execute_result"
    }
   ],
   "source": [
    "data"
   ],
   "metadata": {
    "collapsed": false
   }
  },
  {
   "cell_type": "code",
   "execution_count": 25,
   "outputs": [
    {
     "name": "stdout",
     "output_type": "stream",
     "text": [
      "皇庄\n"
     ]
    },
    {
     "data": {
      "text/plain": "2005-05-01 00:00:00                                                956.0\n2005-05-02 00:00:00                                                975.0\n2005-05-03 00:00:00                                               1000.0\n2005-05-04 00:00:00                                                968.0\n2005-05-05 00:00:00                                               1000.0\n                                             ...                        \n2020-12-26 00:00:00                                                739.0\n2020-12-27 00:00:00                                                695.0\ntrend                  2005-05-01    972.886247\n2005-05-02    972.436...\nseasonal               2005-05-01    -8.332773\n2005-05-02    -4.05869...\nresid                  2005-05-01    -8.553474\n2005-05-02     6.62204...\nName: Q, Length: 5723, dtype: object"
     },
     "execution_count": 25,
     "metadata": {},
     "output_type": "execute_result"
    }
   ],
   "source": [
    "path=r\"data/Q\"\n",
    "for stcd in df_info[\"STNM\"].tolist()[19:20]:\n",
    "    print(stcd)\n",
    "    df_s=pd.read_csv(os.path.join(path,stcd+\".csv\"))\n",
    "    df_s.index=df_s[\"TM\"].to_list()\n",
    "    df_sign=df_s[\"Q\"]\n",
    "    # Time_list=pd.to_datetime(df_sign.index,format='%Y/%m/%d %H:%M')\n",
    "    Time_list=pd.to_datetime(df_sign.index,format='%Y/%m/%d')\n",
    "    # Time_list=pd.to_datetime(df_sign.index,format='%Y-%m-%d')\n",
    "    df_sign.index=Time_list\n",
    "    data = df_sign.resample('D').mean().ffill()\n",
    "    res = STL(data).fit()\n",
    "    df=res.observed\n",
    "    df[\"trend\"]=res.trend\n",
    "    df[\"seasonal\"]=res.seasonal\n",
    "    df[\"resid\"]=res.resid\n",
    "    # df.to_excel(r\"data/STL_Q/\"+stcd+\".xlsx\")\n",
    "df"
   ],
   "metadata": {
    "collapsed": false
   }
  },
  {
   "cell_type": "markdown",
   "source": [],
   "metadata": {
    "collapsed": false
   }
  },
  {
   "cell_type": "code",
   "execution_count": 15,
   "outputs": [
    {
     "data": {
      "text/plain": "                 Q        trend      season       resid\n2005-05-01   956.0  1727.912919 -653.999197 -117.913721\n2005-05-02   975.0  1727.500970 -628.737855 -123.763115\n2005-05-03  1000.0  1727.088248 -611.090464 -115.997783\n2005-05-04   968.0  1726.674748 -657.368819 -101.305928\n2005-05-05  1000.0  1726.260466 -599.891931 -126.368535\n...            ...          ...         ...         ...\n2020-12-23   825.0  1253.261394 -386.123774  -42.137620\n2020-12-24   792.0  1253.856936 -404.615027  -57.241909\n2020-12-25   749.0  1254.452183 -432.482754  -72.969429\n2020-12-26   739.0  1255.047137 -403.166173 -112.880964\n2020-12-27   695.0  1255.641800 -447.809490 -112.832310\n\n[5720 rows x 4 columns]",
      "text/html": "<div>\n<style scoped>\n    .dataframe tbody tr th:only-of-type {\n        vertical-align: middle;\n    }\n\n    .dataframe tbody tr th {\n        vertical-align: top;\n    }\n\n    .dataframe thead th {\n        text-align: right;\n    }\n</style>\n<table border=\"1\" class=\"dataframe\">\n  <thead>\n    <tr style=\"text-align: right;\">\n      <th></th>\n      <th>Q</th>\n      <th>trend</th>\n      <th>season</th>\n      <th>resid</th>\n    </tr>\n  </thead>\n  <tbody>\n    <tr>\n      <th>2005-05-01</th>\n      <td>956.0</td>\n      <td>1727.912919</td>\n      <td>-653.999197</td>\n      <td>-117.913721</td>\n    </tr>\n    <tr>\n      <th>2005-05-02</th>\n      <td>975.0</td>\n      <td>1727.500970</td>\n      <td>-628.737855</td>\n      <td>-123.763115</td>\n    </tr>\n    <tr>\n      <th>2005-05-03</th>\n      <td>1000.0</td>\n      <td>1727.088248</td>\n      <td>-611.090464</td>\n      <td>-115.997783</td>\n    </tr>\n    <tr>\n      <th>2005-05-04</th>\n      <td>968.0</td>\n      <td>1726.674748</td>\n      <td>-657.368819</td>\n      <td>-101.305928</td>\n    </tr>\n    <tr>\n      <th>2005-05-05</th>\n      <td>1000.0</td>\n      <td>1726.260466</td>\n      <td>-599.891931</td>\n      <td>-126.368535</td>\n    </tr>\n    <tr>\n      <th>...</th>\n      <td>...</td>\n      <td>...</td>\n      <td>...</td>\n      <td>...</td>\n    </tr>\n    <tr>\n      <th>2020-12-23</th>\n      <td>825.0</td>\n      <td>1253.261394</td>\n      <td>-386.123774</td>\n      <td>-42.137620</td>\n    </tr>\n    <tr>\n      <th>2020-12-24</th>\n      <td>792.0</td>\n      <td>1253.856936</td>\n      <td>-404.615027</td>\n      <td>-57.241909</td>\n    </tr>\n    <tr>\n      <th>2020-12-25</th>\n      <td>749.0</td>\n      <td>1254.452183</td>\n      <td>-432.482754</td>\n      <td>-72.969429</td>\n    </tr>\n    <tr>\n      <th>2020-12-26</th>\n      <td>739.0</td>\n      <td>1255.047137</td>\n      <td>-403.166173</td>\n      <td>-112.880964</td>\n    </tr>\n    <tr>\n      <th>2020-12-27</th>\n      <td>695.0</td>\n      <td>1255.641800</td>\n      <td>-447.809490</td>\n      <td>-112.832310</td>\n    </tr>\n  </tbody>\n</table>\n<p>5720 rows × 4 columns</p>\n</div>"
     },
     "execution_count": 15,
     "metadata": {},
     "output_type": "execute_result"
    }
   ],
   "source": [
    "df_signs=pd.concat([res.observed,res.trend,res.seasonal,res.resid],axis=1)\n",
    "df_signs"
   ],
   "metadata": {
    "collapsed": false
   }
  },
  {
   "cell_type": "code",
   "execution_count": 9,
   "outputs": [],
   "source": [
    "# df_signs=pd.concat([res.trend,res.seasonal,res.resid],axis=1,ignore_index=True)\n",
    "# df_signs"
   ],
   "metadata": {
    "collapsed": false
   }
  },
  {
   "cell_type": "code",
   "execution_count": null,
   "outputs": [],
   "source": [
    "path=r\"data/STL_Q/\"\n",
    "ds_list=[]\n",
    "# for i in range(len(file_list)):\n",
    "for stcd in df_info[\"STNM\"].tolist()[0:25]:\n",
    "    print(stcd)\n",
    "    # df_s=pd.read_csv(os.path.join(path,stcd+\".csv\"))\n",
    "    # print(df_info[\"STNM\"][i])\n",
    "    # df_s=pd.read_csv(os.path.join(path,file_list[i]))\n",
    "    # df_s=pd.read_csv(os.path.join(path,df_info[\"STNM\"][i]+\".csv\"))\n",
    "    df_s=pd.read_excel(os.path.join(path,stcd+\".xlsx\"))\n",
    "    ds_list.append(df_s)\n",
    "    # print(df_s.head(2))\n",
    "time_length=df_s.shape[0]\n",
    "# V=np.zeros((4,2,df_s.shape[0]))\n",
    "V=np.zeros((len(ds_list),4,time_length))\n",
    "for i in range(len(ds_list)):\n",
    "    df_s=ds_list[i]\n",
    "    # v_temp=df_s.iloc[-time_length:,[3,4]]\n",
    "    # v_temp=df_s.iloc[-time_length:,[1]]\n",
    "    # v_temp=df_s.iloc[-time_length:,[1]]\n",
    "    v_temp=df_s.iloc[-time_length:,[1,2,3,4]]\n",
    "    v_temp2=v_temp.to_numpy()\n",
    "    v_temp3=v_temp2.T\n",
    "    V[i,:,:]=v_temp3\n",
    "np.save(\"Vreal_STL_25node.npy\",V)"
   ],
   "metadata": {
    "collapsed": false
   }
  },
  {
   "cell_type": "code",
   "execution_count": 12,
   "outputs": [
    {
     "name": "stdout",
     "output_type": "stream",
     "text": [
      "郭滩\n"
     ]
    },
    {
     "name": "stderr",
     "output_type": "stream",
     "text": [
      "\n",
      "KeyboardInterrupt\n",
      "\n"
     ]
    }
   ],
   "source": [
    "path=r\"data/站点逐日水位径流数据\"\n",
    "for stcd in df_info[\"STNM\"].tolist()[18:19]:\n",
    "    print(stcd)\n",
    "    df_s=pd.read_csv(os.path.join(path,stcd+\".csv\"))\n",
    "    df_s.index=df_s[\"TM\"].to_list()\n",
    "    df_sign=df_s[[\"Q\"]]\n",
    "    # Time_list=pd.to_datetime(df_sign.index,format='%Y/%m/%d %H:%M')\n",
    "    # Time_list=pd.to_datetime(df_sign.index,format='%Y/%m/%d')\n",
    "    Time_list=pd.to_datetime(df_sign.index,format='%Y-%m-%d')\n",
    "    df_sign.index=Time_list\n",
    "    data = df_sign.resample('D').mean().ffill()\n",
    "    res = STL(data, period=7, robust=True).fit()\n",
    "    res.plot()\n",
    "    # df=res.observed\n",
    "    # df[\"trend\"]=res.trend\n",
    "    # df[\"seasonal\"]=res.seasonal\n",
    "    # df[\"resid\"]=res.resid\n",
    "    # df.to_excel(r\"data/STL_data/\"+stcd+\".xlsx\")"
   ],
   "metadata": {
    "collapsed": false
   }
  },
  {
   "cell_type": "code",
   "execution_count": 13,
   "outputs": [
    {
     "name": "stdout",
     "output_type": "stream",
     "text": [
      "巴山水库出流\n",
      "安康库出流\n",
      "丹江口水库出流\n",
      "王甫州出流\n",
      "白水峪出流\n"
     ]
    }
   ],
   "source": [
    "path=r\"data/Q\"\n",
    "for stcd in df_info[\"STNM\"].tolist()[20:]:\n",
    "    print(stcd)\n",
    "    df_s=pd.read_csv(os.path.join(path,stcd+\".csv\"))\n",
    "    df_s.index=df_s[\"TM\"].to_list()\n",
    "    df_sign=df_s[[\"Q\"]]\n",
    "    # Time_list=pd.to_datetime(df_sign.index,format='%Y/%m/%d %H:%M')\n",
    "    Time_list=pd.to_datetime(df_sign.index,format='%Y/%m/%d')\n",
    "    # Time_list=pd.to_datetime(df_sign.index,format='%Y-%m-%d')\n",
    "    df_sign.index=Time_list\n",
    "    data = df_sign.resample('D').mean().ffill()\n",
    "    res = STL(data).fit()\n",
    "    df=res.observed\n",
    "    df[\"trend\"]=res.trend\n",
    "    df[\"seasonal\"]=res.seasonal\n",
    "    df[\"resid\"]=res.resid\n",
    "    df.to_excel(r\"data/STL_Q/\"+stcd+\".xlsx\")"
   ],
   "metadata": {
    "collapsed": false
   }
  },
  {
   "cell_type": "code",
   "execution_count": 14,
   "outputs": [
    {
     "name": "stdout",
     "output_type": "stream",
     "text": [
      "武侯镇\n",
      "石门\n",
      "汉中\n",
      "石泉水文站\n",
      "喜河\n",
      "巴山水库\n",
      "蔺河口\n",
      "安康库\n",
      "安康\n",
      "向家坪\n",
      "白河\n",
      "黄龙滩\n",
      "丹凤(二)\n",
      "丹江口水库\n",
      "黄家港\n",
      "王甫州\n",
      "白水峪\n",
      "新甸铺\n",
      "郭滩\n",
      "皇庄\n",
      "巴山水库出流\n",
      "安康库出流\n",
      "丹江口水库出流\n",
      "王甫州出流\n",
      "白水峪出流\n"
     ]
    }
   ],
   "source": [
    "path=r\"data/STL_Q\"\n",
    "ds_list=[]\n",
    "# for i in range(len(file_list)):\n",
    "for stnm in df_info[\"STNM\"].tolist():\n",
    "    print(stnm)\n",
    "    # df_s=pd.read_csv(os.path.join(path,stcd+\".csv\"))\n",
    "    df_s=pd.read_excel(os.path.join(path,stnm+\".xlsx\"))\n",
    "    # print(df_info[\"STNM\"][i])\n",
    "    # df_s=pd.read_csv(os.path.join(path,file_list[i]))\n",
    "    # df_s=pd.read_csv(os.path.join(path,df_info[\"STNM\"][i]+\".csv\"))\n",
    "    # df_s=pd.read_excel(os.path.join(path,file_list[i]))\n",
    "    ds_list.append(df_s)\n",
    "    # print(df_s.head(2))\n",
    "time_length=df_s.shape[0]\n",
    "# V=np.zeros((4,2,df_s.shape[0]))\n",
    "V=np.zeros((len(ds_list),4,time_length))\n",
    "for i in range(len(ds_list)):\n",
    "    df_s=ds_list[i]\n",
    "    # v_temp=df_s.iloc[-time_length:,[3,4]]\n",
    "    v_temp=df_s.iloc[-time_length:,[1,2,3,4]]\n",
    "    v_temp2=v_temp.to_numpy()\n",
    "    v_temp3=v_temp2.T\n",
    "    V[i,:,:]=v_temp3\n",
    "np.save(\"V_STL_real_25node.npy\",V)"
   ],
   "metadata": {
    "collapsed": false
   }
  },
  {
   "cell_type": "code",
   "execution_count": 6,
   "outputs": [],
   "source": [
    "from tqdm import tqdm\n",
    "# import matplotlib\n",
    "#\n",
    "# matplotlib.use('TkAgg')\n",
    "import matplotlib.pyplot as plt\n",
    "import argparse\n",
    "import pickle as pk\n",
    "import numpy as np\n",
    "import matplotlib.pyplot as plt\n",
    "import torch\n",
    "import torch.nn as nn\n",
    "\n",
    "from stgcn import STGCN\n",
    "# from utils import generate_dataset, load_metr_la_data, get_normalized_adj\n",
    "import os\n",
    "import zipfile\n",
    "import numpy as np\n",
    "import torch\n",
    "import time\n",
    "\n",
    "def load_metr_la_data2():\n",
    "\n",
    "    # A = np.load(\"Areal_3node2.npy\")\n",
    "    # X = np.load(\"Vreal_3node2.npy\")\n",
    "    # A = np.load(\"Areal_20node.npy\")\n",
    "    # X = np.load(\"V_STL_real_20node.npy\")\n",
    "\n",
    "    A = np.load(\"Areal_25node.npy\")\n",
    "    # X = np.load(\"V_STL_real_23node.npy\")\n",
    "    X = np.load(\"V_STL_real_25node.npy\")\n",
    "    A = A.astype(np.float32)\n",
    "    X = X.astype(np.float32)\n",
    "    print(\"before\")\n",
    "    print(\"A:\", A.shape)\n",
    "    print(\"X:\", X.shape)\n",
    "    # Normalization using Z-score method\n",
    "    means = np.mean(X, axis=2)\n",
    "    X = X - means.reshape(means.shape[0],means.shape[1], 1)\n",
    "    stds = np.std(X, axis=2)\n",
    "    X = X / stds.reshape(stds.shape[0], stds.shape[1], 1)\n",
    "    print(\"after\")\n",
    "    print(\"A:\", A.shape)\n",
    "    print(\"X:\", X.shape)\n",
    "    return A, X, means, stds\n",
    "\n",
    "\n",
    "def get_normalized_adj(A):\n",
    "    \"\"\"\n",
    "    Returns the degree normalized adjacency matrix.\n",
    "    \"\"\"\n",
    "    A = A + np.diag(np.ones(A.shape[0], dtype=np.float32))\n",
    "    # print(\"A:\", A)\n",
    "    D = np.array(np.sum(A, axis=1)).reshape((-1,))\n",
    "    D[D <= 10e-5] = 10e-5  # Prevent infs\n",
    "\n",
    "    print(\"D:\", D)\n",
    "    diag = np.reciprocal(np.sqrt(D))  #将其转换为每个元素的倒数\n",
    "    # print(\"diag:\", diag)\n",
    "    A_wave = np.multiply(np.multiply(diag.reshape((-1, 1)), A),\n",
    "                         diag.reshape((1, -1)))\n",
    "    return A_wave\n",
    "\n",
    "\n",
    "def generate_dataset_i(X,feature_i=0, num_timesteps_input=12, num_timesteps_output=3):\n",
    "    \"\"\"\n",
    "    Takes node features for the graph and divides them into multiple samples\n",
    "    along the time-axis by sliding a window of size (num_timesteps_input+\n",
    "    num_timesteps_output) across it in steps of 1.\n",
    "    :param X: Node features of shape (num_vertices, num_features,\n",
    "    num_timesteps)\n",
    "    :return:\n",
    "        - Node features divided into multiple samples. Shape is\n",
    "          (num_samples, num_vertices, num_features, num_timesteps_input).\n",
    "        - Node targets for the samples. Shape is\n",
    "          (num_samples, num_vertices, num_features, num_timesteps_output).\n",
    "    \"\"\"\n",
    "    # Generate the beginning index and the ending index of a sample, which\n",
    "    # contains (num_points_for_training + num_points_for_predicting) points\n",
    "    # print(\"X.shape:\",X.shape)\n",
    "    # print(\"num_timesteps_input:\",num_timesteps_input)\n",
    "    # print(\"num_timesteps_output:\",num_timesteps_output)\n",
    "    indices = [(i, i + (num_timesteps_input + num_timesteps_output)) for i in range(X.shape[2] - ( num_timesteps_input + num_timesteps_output) + 1)]\n",
    "\n",
    "    # Save samples\n",
    "    features, target = [], []\n",
    "    for i, j in indices:\n",
    "        features.append(\n",
    "            X[:, :, i: i + num_timesteps_input].transpose(\n",
    "                (0, 2, 1)))\n",
    "        # target.append(X[:, 0, i + num_timesteps_input: j])\n",
    "        target.append(X[:, feature_i, i + num_timesteps_input: j])\n",
    "    print(\"features:\", len(features))\n",
    "    print(\"features[0]:\", features[0].shape)\n",
    "    print(\"target:\", len(target))\n",
    "    print(\"target[0]:\", target[0].shape)\n",
    "    features_torch = torch.from_numpy(np.array(features))\n",
    "    target_torch = torch.from_numpy(np.array(target))\n",
    "    print(\"features_torch:\", features_torch.size())\n",
    "    print(\"target_torch\", target_torch.size())\n",
    "    return torch.from_numpy(np.array(features)), torch.from_numpy(np.array(target))\n",
    "\n",
    "\n",
    "\n",
    "def train_epoch(training_input, training_target, batch_size):\n",
    "    \"\"\"\n",
    "    Trains one epoch with the given data.\n",
    "    :param training_input: Training inputs of shape (num_samples, num_nodes,\n",
    "    num_timesteps_train, num_features).\n",
    "    :param training_target: Training targets of shape (num_samples, num_nodes,\n",
    "    num_timesteps_predict).\n",
    "    :param batch_size: Batch size to use during training.\n",
    "    :return: Average loss for this epoch.\n",
    "    \"\"\"\n",
    "    # permutation = torch.randperm(training_input.shape[0])\n",
    "    # permutation = torch.from_numpy(np.array([i for  i in range(training_input.shape[0])]))\n",
    "    permutation =torch.arange(0,training_input.shape[0])\n",
    "    epoch_training_losses = []\n",
    "    for i in range(0, training_input.shape[0], batch_size):\n",
    "        # print(i)\n",
    "        net.train()\n",
    "        optimizer.zero_grad()\n",
    "\n",
    "        indices = permutation[i:i + batch_size]\n",
    "        X_batch, y_batch = training_input[indices], training_target[indices]\n",
    "        X_batch = X_batch.to(device=args.device)\n",
    "        y_batch = y_batch.to(device=args.device)\n",
    "\n",
    "        out = net(A_wave, X_batch)\n",
    "        loss = loss_criterion(out, y_batch)\n",
    "        loss.backward()\n",
    "        optimizer.step()\n",
    "        epoch_training_losses.append(loss.detach().cpu().numpy())\n",
    "    return sum(epoch_training_losses) / len(epoch_training_losses)"
   ],
   "metadata": {
    "collapsed": false,
    "ExecuteTime": {
     "start_time": "2024-02-27T19:24:52.053707Z",
     "end_time": "2024-02-27T19:24:54.420956Z"
    }
   }
  },
  {
   "cell_type": "markdown",
   "source": [
    "# step2  模型训练部分"
   ],
   "metadata": {
    "collapsed": false
   }
  },
  {
   "cell_type": "code",
   "execution_count": 7,
   "outputs": [
    {
     "name": "stdout",
     "output_type": "stream",
     "text": [
      "before\n",
      "A: (25, 25)\n",
      "X: (25, 4, 5720)\n",
      "after\n",
      "A: (25, 25)\n",
      "X: (25, 4, 5720)\n",
      "D: [2. 2. 2. 2. 2. 3. 2. 3. 2. 2. 2. 2. 2. 3. 2. 3. 3. 2. 2. 1. 3. 3. 3. 3.\n",
      " 3.]\n",
      "A.shape: (25, 25)\n",
      "X.shape (25, 4, 5720)\n",
      "features: 3986\n",
      "features[0]: (25, 11, 4)\n",
      "target: 3986\n",
      "target[0]: (25, 7)\n",
      "features_torch: torch.Size([3986, 25, 11, 4])\n",
      "target_torch torch.Size([3986, 25, 7])\n",
      "features: 1700\n",
      "features[0]: (25, 11, 4)\n",
      "target: 1700\n",
      "target[0]: (25, 7)\n",
      "features_torch: torch.Size([1700, 25, 11, 4])\n",
      "target_torch torch.Size([1700, 25, 7])\n"
     ]
    }
   ],
   "source": [
    "# torch.empty()\n",
    "torch.manual_seed(42)\n",
    "use_gpu = True\n",
    "num_timesteps_output =7\n",
    "feature_i=0\n",
    "batch_size = 100\n",
    "num_timesteps_input =11\n",
    "parser = argparse.ArgumentParser(description='STGCN')\n",
    "parser.add_argument('--enable-cuda', action='store_true',\n",
    "                    help='Enable CUDA')\n",
    "# args = parser.parse_args() #z jupyter 中会报错\n",
    "args,unkouwn=parser.parse_known_args()\n",
    "args.device = None\n",
    "if args.enable_cuda and torch.cuda.is_available():\n",
    "    args.device = torch.device('cuda')\n",
    "else:\n",
    "    args.device = torch.device('cpu')\n",
    "A, X, means, stds = load_metr_la_data2()\n",
    "A_wave = get_normalized_adj(A)\n",
    "A_wave = torch.from_numpy(A_wave)\n",
    "A_wave = A_wave.to(device=args.device)\n",
    "print(\"A.shape:\",A.shape)\n",
    "print(\"X.shape\",X.shape)\n",
    "split_line1 = int(X.shape[2] * 0.7)\n",
    "split_line2 = int(X.shape[2] *1)\n",
    "train_original_data = X[:, :, :split_line1]\n",
    "val_original_data = X[:, :, split_line1:split_line2]\n",
    "\n",
    "training_input, training_target = generate_dataset_i(train_original_data,\n",
    "                                                     feature_i=feature_i,\n",
    "                                                     num_timesteps_input=num_timesteps_input,\n",
    "                                                     num_timesteps_output=num_timesteps_output)\n",
    "val_input, val_target = generate_dataset_i(val_original_data,\n",
    "                                           feature_i=feature_i,\n",
    "                                           num_timesteps_input=num_timesteps_input,\n",
    "                                           num_timesteps_output=num_timesteps_output)"
   ],
   "metadata": {
    "collapsed": false,
    "ExecuteTime": {
     "start_time": "2024-02-27T19:24:58.713299Z",
     "end_time": "2024-02-27T19:24:58.795577Z"
    }
   }
  },
  {
   "cell_type": "code",
   "execution_count": 4,
   "outputs": [
    {
     "data": {
      "text/plain": "4003"
     },
     "execution_count": 4,
     "metadata": {},
     "output_type": "execute_result"
    }
   ],
   "source": [
    "int(5720*0.7)"
   ],
   "metadata": {
    "collapsed": false
   }
  },
  {
   "cell_type": "code",
   "execution_count": 5,
   "outputs": [
    {
     "data": {
      "text/plain": "3986"
     },
     "execution_count": 5,
     "metadata": {},
     "output_type": "execute_result"
    }
   ],
   "source": [
    "(4003-17)"
   ],
   "metadata": {
    "collapsed": false
   }
  },
  {
   "cell_type": "code",
   "execution_count": 6,
   "outputs": [
    {
     "data": {
      "text/plain": "1700"
     },
     "execution_count": 6,
     "metadata": {},
     "output_type": "execute_result"
    }
   ],
   "source": [
    "5720-4003-17"
   ],
   "metadata": {
    "collapsed": false
   }
  },
  {
   "cell_type": "code",
   "execution_count": 10,
   "outputs": [
    {
     "name": "stderr",
     "output_type": "stream",
     "text": [
      "100%|██████████| 1/1 [00:04<00:00,  4.32s/it]"
     ]
    },
    {
     "name": "stdout",
     "output_type": "stream",
     "text": [
      "time_sum: 4.3237903118133545\n"
     ]
    },
    {
     "name": "stderr",
     "output_type": "stream",
     "text": [
      "\n"
     ]
    },
    {
     "data": {
      "text/plain": "<Figure size 640x480 with 1 Axes>",
      "image/png": "[encoded data removed]"
     },
     "metadata": {},
     "output_type": "display_data"
    },
    {
     "data": {
      "text/plain": "<Figure size 640x480 with 1 Axes>",
      "image/png": "[encoded data removed]"
     },
     "metadata": {},
     "output_type": "display_data"
    },
    {
     "name": "stderr",
     "output_type": "stream",
     "text": [
      "C:\\Users\\39362\\AppData\\Local\\Temp\\ipykernel_20892\\2228661037.py:78: PerformanceWarning: DataFrame is highly fragmented.  This is usually the result of calling `frame.insert` many times, which has poor performance.  Consider joining all columns at once using pd.concat(axis=1) instead. To get a de-fragmented frame, use `newframe = frame.copy()`\n",
      "  df_Q1[\"y_hat\"+\"day_\"+str(day_i)+\"stcd_\"+str(stcd_i)]=y_hat\n",
      "C:\\Users\\39362\\AppData\\Local\\Temp\\ipykernel_20892\\2228661037.py:79: PerformanceWarning: DataFrame is highly fragmented.  This is usually the result of calling `frame.insert` many times, which has poor performance.  Consider joining all columns at once using pd.concat(axis=1) instead. To get a de-fragmented frame, use `newframe = frame.copy()`\n",
      "  df_Q1[\"y_real\"+\"day_\"+str(day_i)+\"stcd_\"+str(stcd_i)]=y_real\n",
      "C:\\Users\\39362\\AppData\\Local\\Temp\\ipykernel_20892\\2228661037.py:78: PerformanceWarning: DataFrame is highly fragmented.  This is usually the result of calling `frame.insert` many times, which has poor performance.  Consider joining all columns at once using pd.concat(axis=1) instead. To get a de-fragmented frame, use `newframe = frame.copy()`\n",
      "  df_Q1[\"y_hat\"+\"day_\"+str(day_i)+\"stcd_\"+str(stcd_i)]=y_hat\n",
      "C:\\Users\\39362\\AppData\\Local\\Temp\\ipykernel_20892\\2228661037.py:79: PerformanceWarning: DataFrame is highly fragmented.  This is usually the result of calling `frame.insert` many times, which has poor performance.  Consider joining all columns at once using pd.concat(axis=1) instead. To get a de-fragmented frame, use `newframe = frame.copy()`\n",
      "  df_Q1[\"y_real\"+\"day_\"+str(day_i)+\"stcd_\"+str(stcd_i)]=y_real\n",
      "C:\\Users\\39362\\AppData\\Local\\Temp\\ipykernel_20892\\2228661037.py:78: PerformanceWarning: DataFrame is highly fragmented.  This is usually the result of calling `frame.insert` many times, which has poor performance.  Consider joining all columns at once using pd.concat(axis=1) instead. To get a de-fragmented frame, use `newframe = frame.copy()`\n",
      "  df_Q1[\"y_hat\"+\"day_\"+str(day_i)+\"stcd_\"+str(stcd_i)]=y_hat\n",
      "C:\\Users\\39362\\AppData\\Local\\Temp\\ipykernel_20892\\2228661037.py:79: PerformanceWarning: DataFrame is highly fragmented.  This is usually the result of calling `frame.insert` many times, which has poor performance.  Consider joining all columns at once using pd.concat(axis=1) instead. To get a de-fragmented frame, use `newframe = frame.copy()`\n",
      "  df_Q1[\"y_real\"+\"day_\"+str(day_i)+\"stcd_\"+str(stcd_i)]=y_real\n",
      "C:\\Users\\39362\\AppData\\Local\\Temp\\ipykernel_20892\\2228661037.py:78: PerformanceWarning: DataFrame is highly fragmented.  This is usually the result of calling `frame.insert` many times, which has poor performance.  Consider joining all columns at once using pd.concat(axis=1) instead. To get a de-fragmented frame, use `newframe = frame.copy()`\n",
      "  df_Q1[\"y_hat\"+\"day_\"+str(day_i)+\"stcd_\"+str(stcd_i)]=y_hat\n",
      "C:\\Users\\39362\\AppData\\Local\\Temp\\ipykernel_20892\\2228661037.py:79: PerformanceWarning: DataFrame is highly fragmented.  This is usually the result of calling `frame.insert` many times, which has poor performance.  Consider joining all columns at once using pd.concat(axis=1) instead. To get a de-fragmented frame, use `newframe = frame.copy()`\n",
      "  df_Q1[\"y_real\"+\"day_\"+str(day_i)+\"stcd_\"+str(stcd_i)]=y_real\n",
      "C:\\Users\\39362\\AppData\\Local\\Temp\\ipykernel_20892\\2228661037.py:78: PerformanceWarning: DataFrame is highly fragmented.  This is usually the result of calling `frame.insert` many times, which has poor performance.  Consider joining all columns at once using pd.concat(axis=1) instead. To get a de-fragmented frame, use `newframe = frame.copy()`\n",
      "  df_Q1[\"y_hat\"+\"day_\"+str(day_i)+\"stcd_\"+str(stcd_i)]=y_hat\n",
      "C:\\Users\\39362\\AppData\\Local\\Temp\\ipykernel_20892\\2228661037.py:79: PerformanceWarning: DataFrame is highly fragmented.  This is usually the result of calling `frame.insert` many times, which has poor performance.  Consider joining all columns at once using pd.concat(axis=1) instead. To get a de-fragmented frame, use `newframe = frame.copy()`\n",
      "  df_Q1[\"y_real\"+\"day_\"+str(day_i)+\"stcd_\"+str(stcd_i)]=y_real\n",
      "C:\\Users\\39362\\AppData\\Local\\Temp\\ipykernel_20892\\2228661037.py:78: PerformanceWarning: DataFrame is highly fragmented.  This is usually the result of calling `frame.insert` many times, which has poor performance.  Consider joining all columns at once using pd.concat(axis=1) instead. To get a de-fragmented frame, use `newframe = frame.copy()`\n",
      "  df_Q1[\"y_hat\"+\"day_\"+str(day_i)+\"stcd_\"+str(stcd_i)]=y_hat\n",
      "C:\\Users\\39362\\AppData\\Local\\Temp\\ipykernel_20892\\2228661037.py:79: PerformanceWarning: DataFrame is highly fragmented.  This is usually the result of calling `frame.insert` many times, which has poor performance.  Consider joining all columns at once using pd.concat(axis=1) instead. To get a de-fragmented frame, use `newframe = frame.copy()`\n",
      "  df_Q1[\"y_real\"+\"day_\"+str(day_i)+\"stcd_\"+str(stcd_i)]=y_real\n",
      "C:\\Users\\39362\\AppData\\Local\\Temp\\ipykernel_20892\\2228661037.py:78: PerformanceWarning: DataFrame is highly fragmented.  This is usually the result of calling `frame.insert` many times, which has poor performance.  Consider joining all columns at once using pd.concat(axis=1) instead. To get a de-fragmented frame, use `newframe = frame.copy()`\n",
      "  df_Q1[\"y_hat\"+\"day_\"+str(day_i)+\"stcd_\"+str(stcd_i)]=y_hat\n",
      "C:\\Users\\39362\\AppData\\Local\\Temp\\ipykernel_20892\\2228661037.py:79: PerformanceWarning: DataFrame is highly fragmented.  This is usually the result of calling `frame.insert` many times, which has poor performance.  Consider joining all columns at once using pd.concat(axis=1) instead. To get a de-fragmented frame, use `newframe = frame.copy()`\n",
      "  df_Q1[\"y_real\"+\"day_\"+str(day_i)+\"stcd_\"+str(stcd_i)]=y_real\n",
      "C:\\Users\\39362\\AppData\\Local\\Temp\\ipykernel_20892\\2228661037.py:78: PerformanceWarning: DataFrame is highly fragmented.  This is usually the result of calling `frame.insert` many times, which has poor performance.  Consider joining all columns at once using pd.concat(axis=1) instead. To get a de-fragmented frame, use `newframe = frame.copy()`\n",
      "  df_Q1[\"y_hat\"+\"day_\"+str(day_i)+\"stcd_\"+str(stcd_i)]=y_hat\n",
      "C:\\Users\\39362\\AppData\\Local\\Temp\\ipykernel_20892\\2228661037.py:79: PerformanceWarning: DataFrame is highly fragmented.  This is usually the result of calling `frame.insert` many times, which has poor performance.  Consider joining all columns at once using pd.concat(axis=1) instead. To get a de-fragmented frame, use `newframe = frame.copy()`\n",
      "  df_Q1[\"y_real\"+\"day_\"+str(day_i)+\"stcd_\"+str(stcd_i)]=y_real\n",
      "C:\\Users\\39362\\AppData\\Local\\Temp\\ipykernel_20892\\2228661037.py:78: PerformanceWarning: DataFrame is highly fragmented.  This is usually the result of calling `frame.insert` many times, which has poor performance.  Consider joining all columns at once using pd.concat(axis=1) instead. To get a de-fragmented frame, use `newframe = frame.copy()`\n",
      "  df_Q1[\"y_hat\"+\"day_\"+str(day_i)+\"stcd_\"+str(stcd_i)]=y_hat\n",
      "C:\\Users\\39362\\AppData\\Local\\Temp\\ipykernel_20892\\2228661037.py:79: PerformanceWarning: DataFrame is highly fragmented.  This is usually the result of calling `frame.insert` many times, which has poor performance.  Consider joining all columns at once using pd.concat(axis=1) instead. To get a de-fragmented frame, use `newframe = frame.copy()`\n",
      "  df_Q1[\"y_real\"+\"day_\"+str(day_i)+\"stcd_\"+str(stcd_i)]=y_real\n",
      "C:\\Users\\39362\\AppData\\Local\\Temp\\ipykernel_20892\\2228661037.py:78: PerformanceWarning: DataFrame is highly fragmented.  This is usually the result of calling `frame.insert` many times, which has poor performance.  Consider joining all columns at once using pd.concat(axis=1) instead. To get a de-fragmented frame, use `newframe = frame.copy()`\n",
      "  df_Q1[\"y_hat\"+\"day_\"+str(day_i)+\"stcd_\"+str(stcd_i)]=y_hat\n",
      "C:\\Users\\39362\\AppData\\Local\\Temp\\ipykernel_20892\\2228661037.py:79: PerformanceWarning: DataFrame is highly fragmented.  This is usually the result of calling `frame.insert` many times, which has poor performance.  Consider joining all columns at once using pd.concat(axis=1) instead. To get a de-fragmented frame, use `newframe = frame.copy()`\n",
      "  df_Q1[\"y_real\"+\"day_\"+str(day_i)+\"stcd_\"+str(stcd_i)]=y_real\n",
      "C:\\Users\\39362\\AppData\\Local\\Temp\\ipykernel_20892\\2228661037.py:78: PerformanceWarning: DataFrame is highly fragmented.  This is usually the result of calling `frame.insert` many times, which has poor performance.  Consider joining all columns at once using pd.concat(axis=1) instead. To get a de-fragmented frame, use `newframe = frame.copy()`\n",
      "  df_Q1[\"y_hat\"+\"day_\"+str(day_i)+\"stcd_\"+str(stcd_i)]=y_hat\n",
      "C:\\Users\\39362\\AppData\\Local\\Temp\\ipykernel_20892\\2228661037.py:79: PerformanceWarning: DataFrame is highly fragmented.  This is usually the result of calling `frame.insert` many times, which has poor performance.  Consider joining all columns at once using pd.concat(axis=1) instead. To get a de-fragmented frame, use `newframe = frame.copy()`\n",
      "  df_Q1[\"y_real\"+\"day_\"+str(day_i)+\"stcd_\"+str(stcd_i)]=y_real\n",
      "C:\\Users\\39362\\AppData\\Local\\Temp\\ipykernel_20892\\2228661037.py:78: PerformanceWarning: DataFrame is highly fragmented.  This is usually the result of calling `frame.insert` many times, which has poor performance.  Consider joining all columns at once using pd.concat(axis=1) instead. To get a de-fragmented frame, use `newframe = frame.copy()`\n",
      "  df_Q1[\"y_hat\"+\"day_\"+str(day_i)+\"stcd_\"+str(stcd_i)]=y_hat\n",
      "C:\\Users\\39362\\AppData\\Local\\Temp\\ipykernel_20892\\2228661037.py:79: PerformanceWarning: DataFrame is highly fragmented.  This is usually the result of calling `frame.insert` many times, which has poor performance.  Consider joining all columns at once using pd.concat(axis=1) instead. To get a de-fragmented frame, use `newframe = frame.copy()`\n",
      "  df_Q1[\"y_real\"+\"day_\"+str(day_i)+\"stcd_\"+str(stcd_i)]=y_real\n",
      "C:\\Users\\39362\\AppData\\Local\\Temp\\ipykernel_20892\\2228661037.py:78: PerformanceWarning: DataFrame is highly fragmented.  This is usually the result of calling `frame.insert` many times, which has poor performance.  Consider joining all columns at once using pd.concat(axis=1) instead. To get a de-fragmented frame, use `newframe = frame.copy()`\n",
      "  df_Q1[\"y_hat\"+\"day_\"+str(day_i)+\"stcd_\"+str(stcd_i)]=y_hat\n",
      "C:\\Users\\39362\\AppData\\Local\\Temp\\ipykernel_20892\\2228661037.py:79: PerformanceWarning: DataFrame is highly fragmented.  This is usually the result of calling `frame.insert` many times, which has poor performance.  Consider joining all columns at once using pd.concat(axis=1) instead. To get a de-fragmented frame, use `newframe = frame.copy()`\n",
      "  df_Q1[\"y_real\"+\"day_\"+str(day_i)+\"stcd_\"+str(stcd_i)]=y_real\n",
      "C:\\Users\\39362\\AppData\\Local\\Temp\\ipykernel_20892\\2228661037.py:78: PerformanceWarning: DataFrame is highly fragmented.  This is usually the result of calling `frame.insert` many times, which has poor performance.  Consider joining all columns at once using pd.concat(axis=1) instead. To get a de-fragmented frame, use `newframe = frame.copy()`\n",
      "  df_Q1[\"y_hat\"+\"day_\"+str(day_i)+\"stcd_\"+str(stcd_i)]=y_hat\n",
      "C:\\Users\\39362\\AppData\\Local\\Temp\\ipykernel_20892\\2228661037.py:79: PerformanceWarning: DataFrame is highly fragmented.  This is usually the result of calling `frame.insert` many times, which has poor performance.  Consider joining all columns at once using pd.concat(axis=1) instead. To get a de-fragmented frame, use `newframe = frame.copy()`\n",
      "  df_Q1[\"y_real\"+\"day_\"+str(day_i)+\"stcd_\"+str(stcd_i)]=y_real\n",
      "C:\\Users\\39362\\AppData\\Local\\Temp\\ipykernel_20892\\2228661037.py:78: PerformanceWarning: DataFrame is highly fragmented.  This is usually the result of calling `frame.insert` many times, which has poor performance.  Consider joining all columns at once using pd.concat(axis=1) instead. To get a de-fragmented frame, use `newframe = frame.copy()`\n",
      "  df_Q1[\"y_hat\"+\"day_\"+str(day_i)+\"stcd_\"+str(stcd_i)]=y_hat\n",
      "C:\\Users\\39362\\AppData\\Local\\Temp\\ipykernel_20892\\2228661037.py:79: PerformanceWarning: DataFrame is highly fragmented.  This is usually the result of calling `frame.insert` many times, which has poor performance.  Consider joining all columns at once using pd.concat(axis=1) instead. To get a de-fragmented frame, use `newframe = frame.copy()`\n",
      "  df_Q1[\"y_real\"+\"day_\"+str(day_i)+\"stcd_\"+str(stcd_i)]=y_real\n",
      "C:\\Users\\39362\\AppData\\Local\\Temp\\ipykernel_20892\\2228661037.py:78: PerformanceWarning: DataFrame is highly fragmented.  This is usually the result of calling `frame.insert` many times, which has poor performance.  Consider joining all columns at once using pd.concat(axis=1) instead. To get a de-fragmented frame, use `newframe = frame.copy()`\n",
      "  df_Q1[\"y_hat\"+\"day_\"+str(day_i)+\"stcd_\"+str(stcd_i)]=y_hat\n",
      "C:\\Users\\39362\\AppData\\Local\\Temp\\ipykernel_20892\\2228661037.py:79: PerformanceWarning: DataFrame is highly fragmented.  This is usually the result of calling `frame.insert` many times, which has poor performance.  Consider joining all columns at once using pd.concat(axis=1) instead. To get a de-fragmented frame, use `newframe = frame.copy()`\n",
      "  df_Q1[\"y_real\"+\"day_\"+str(day_i)+\"stcd_\"+str(stcd_i)]=y_real\n",
      "C:\\Users\\39362\\AppData\\Local\\Temp\\ipykernel_20892\\2228661037.py:78: PerformanceWarning: DataFrame is highly fragmented.  This is usually the result of calling `frame.insert` many times, which has poor performance.  Consider joining all columns at once using pd.concat(axis=1) instead. To get a de-fragmented frame, use `newframe = frame.copy()`\n",
      "  df_Q1[\"y_hat\"+\"day_\"+str(day_i)+\"stcd_\"+str(stcd_i)]=y_hat\n",
      "C:\\Users\\39362\\AppData\\Local\\Temp\\ipykernel_20892\\2228661037.py:79: PerformanceWarning: DataFrame is highly fragmented.  This is usually the result of calling `frame.insert` many times, which has poor performance.  Consider joining all columns at once using pd.concat(axis=1) instead. To get a de-fragmented frame, use `newframe = frame.copy()`\n",
      "  df_Q1[\"y_real\"+\"day_\"+str(day_i)+\"stcd_\"+str(stcd_i)]=y_real\n",
      "C:\\Users\\39362\\AppData\\Local\\Temp\\ipykernel_20892\\2228661037.py:78: PerformanceWarning: DataFrame is highly fragmented.  This is usually the result of calling `frame.insert` many times, which has poor performance.  Consider joining all columns at once using pd.concat(axis=1) instead. To get a de-fragmented frame, use `newframe = frame.copy()`\n",
      "  df_Q1[\"y_hat\"+\"day_\"+str(day_i)+\"stcd_\"+str(stcd_i)]=y_hat\n",
      "C:\\Users\\39362\\AppData\\Local\\Temp\\ipykernel_20892\\2228661037.py:79: PerformanceWarning: DataFrame is highly fragmented.  This is usually the result of calling `frame.insert` many times, which has poor performance.  Consider joining all columns at once using pd.concat(axis=1) instead. To get a de-fragmented frame, use `newframe = frame.copy()`\n",
      "  df_Q1[\"y_real\"+\"day_\"+str(day_i)+\"stcd_\"+str(stcd_i)]=y_real\n",
      "C:\\Users\\39362\\AppData\\Local\\Temp\\ipykernel_20892\\2228661037.py:78: PerformanceWarning: DataFrame is highly fragmented.  This is usually the result of calling `frame.insert` many times, which has poor performance.  Consider joining all columns at once using pd.concat(axis=1) instead. To get a de-fragmented frame, use `newframe = frame.copy()`\n",
      "  df_Q1[\"y_hat\"+\"day_\"+str(day_i)+\"stcd_\"+str(stcd_i)]=y_hat\n",
      "C:\\Users\\39362\\AppData\\Local\\Temp\\ipykernel_20892\\2228661037.py:79: PerformanceWarning: DataFrame is highly fragmented.  This is usually the result of calling `frame.insert` many times, which has poor performance.  Consider joining all columns at once using pd.concat(axis=1) instead. To get a de-fragmented frame, use `newframe = frame.copy()`\n",
      "  df_Q1[\"y_real\"+\"day_\"+str(day_i)+\"stcd_\"+str(stcd_i)]=y_real\n",
      "C:\\Users\\39362\\AppData\\Local\\Temp\\ipykernel_20892\\2228661037.py:78: PerformanceWarning: DataFrame is highly fragmented.  This is usually the result of calling `frame.insert` many times, which has poor performance.  Consider joining all columns at once using pd.concat(axis=1) instead. To get a de-fragmented frame, use `newframe = frame.copy()`\n",
      "  df_Q1[\"y_hat\"+\"day_\"+str(day_i)+\"stcd_\"+str(stcd_i)]=y_hat\n",
      "C:\\Users\\39362\\AppData\\Local\\Temp\\ipykernel_20892\\2228661037.py:79: PerformanceWarning: DataFrame is highly fragmented.  This is usually the result of calling `frame.insert` many times, which has poor performance.  Consider joining all columns at once using pd.concat(axis=1) instead. To get a de-fragmented frame, use `newframe = frame.copy()`\n",
      "  df_Q1[\"y_real\"+\"day_\"+str(day_i)+\"stcd_\"+str(stcd_i)]=y_real\n",
      "C:\\Users\\39362\\AppData\\Local\\Temp\\ipykernel_20892\\2228661037.py:78: PerformanceWarning: DataFrame is highly fragmented.  This is usually the result of calling `frame.insert` many times, which has poor performance.  Consider joining all columns at once using pd.concat(axis=1) instead. To get a de-fragmented frame, use `newframe = frame.copy()`\n",
      "  df_Q1[\"y_hat\"+\"day_\"+str(day_i)+\"stcd_\"+str(stcd_i)]=y_hat\n",
      "C:\\Users\\39362\\AppData\\Local\\Temp\\ipykernel_20892\\2228661037.py:79: PerformanceWarning: DataFrame is highly fragmented.  This is usually the result of calling `frame.insert` many times, which has poor performance.  Consider joining all columns at once using pd.concat(axis=1) instead. To get a de-fragmented frame, use `newframe = frame.copy()`\n",
      "  df_Q1[\"y_real\"+\"day_\"+str(day_i)+\"stcd_\"+str(stcd_i)]=y_real\n",
      "C:\\Users\\39362\\AppData\\Local\\Temp\\ipykernel_20892\\2228661037.py:78: PerformanceWarning: DataFrame is highly fragmented.  This is usually the result of calling `frame.insert` many times, which has poor performance.  Consider joining all columns at once using pd.concat(axis=1) instead. To get a de-fragmented frame, use `newframe = frame.copy()`\n",
      "  df_Q1[\"y_hat\"+\"day_\"+str(day_i)+\"stcd_\"+str(stcd_i)]=y_hat\n",
      "C:\\Users\\39362\\AppData\\Local\\Temp\\ipykernel_20892\\2228661037.py:79: PerformanceWarning: DataFrame is highly fragmented.  This is usually the result of calling `frame.insert` many times, which has poor performance.  Consider joining all columns at once using pd.concat(axis=1) instead. To get a de-fragmented frame, use `newframe = frame.copy()`\n",
      "  df_Q1[\"y_real\"+\"day_\"+str(day_i)+\"stcd_\"+str(stcd_i)]=y_real\n",
      "C:\\Users\\39362\\AppData\\Local\\Temp\\ipykernel_20892\\2228661037.py:78: PerformanceWarning: DataFrame is highly fragmented.  This is usually the result of calling `frame.insert` many times, which has poor performance.  Consider joining all columns at once using pd.concat(axis=1) instead. To get a de-fragmented frame, use `newframe = frame.copy()`\n",
      "  df_Q1[\"y_hat\"+\"day_\"+str(day_i)+\"stcd_\"+str(stcd_i)]=y_hat\n",
      "C:\\Users\\39362\\AppData\\Local\\Temp\\ipykernel_20892\\2228661037.py:79: PerformanceWarning: DataFrame is highly fragmented.  This is usually the result of calling `frame.insert` many times, which has poor performance.  Consider joining all columns at once using pd.concat(axis=1) instead. To get a de-fragmented frame, use `newframe = frame.copy()`\n",
      "  df_Q1[\"y_real\"+\"day_\"+str(day_i)+\"stcd_\"+str(stcd_i)]=y_real\n",
      "C:\\Users\\39362\\AppData\\Local\\Temp\\ipykernel_20892\\2228661037.py:78: PerformanceWarning: DataFrame is highly fragmented.  This is usually the result of calling `frame.insert` many times, which has poor performance.  Consider joining all columns at once using pd.concat(axis=1) instead. To get a de-fragmented frame, use `newframe = frame.copy()`\n",
      "  df_Q1[\"y_hat\"+\"day_\"+str(day_i)+\"stcd_\"+str(stcd_i)]=y_hat\n",
      "C:\\Users\\39362\\AppData\\Local\\Temp\\ipykernel_20892\\2228661037.py:79: PerformanceWarning: DataFrame is highly fragmented.  This is usually the result of calling `frame.insert` many times, which has poor performance.  Consider joining all columns at once using pd.concat(axis=1) instead. To get a de-fragmented frame, use `newframe = frame.copy()`\n",
      "  df_Q1[\"y_real\"+\"day_\"+str(day_i)+\"stcd_\"+str(stcd_i)]=y_real\n",
      "C:\\Users\\39362\\AppData\\Local\\Temp\\ipykernel_20892\\2228661037.py:78: PerformanceWarning: DataFrame is highly fragmented.  This is usually the result of calling `frame.insert` many times, which has poor performance.  Consider joining all columns at once using pd.concat(axis=1) instead. To get a de-fragmented frame, use `newframe = frame.copy()`\n",
      "  df_Q1[\"y_hat\"+\"day_\"+str(day_i)+\"stcd_\"+str(stcd_i)]=y_hat\n",
      "C:\\Users\\39362\\AppData\\Local\\Temp\\ipykernel_20892\\2228661037.py:79: PerformanceWarning: DataFrame is highly fragmented.  This is usually the result of calling `frame.insert` many times, which has poor performance.  Consider joining all columns at once using pd.concat(axis=1) instead. To get a de-fragmented frame, use `newframe = frame.copy()`\n",
      "  df_Q1[\"y_real\"+\"day_\"+str(day_i)+\"stcd_\"+str(stcd_i)]=y_real\n",
      "C:\\Users\\39362\\AppData\\Local\\Temp\\ipykernel_20892\\2228661037.py:78: PerformanceWarning: DataFrame is highly fragmented.  This is usually the result of calling `frame.insert` many times, which has poor performance.  Consider joining all columns at once using pd.concat(axis=1) instead. To get a de-fragmented frame, use `newframe = frame.copy()`\n",
      "  df_Q1[\"y_hat\"+\"day_\"+str(day_i)+\"stcd_\"+str(stcd_i)]=y_hat\n",
      "C:\\Users\\39362\\AppData\\Local\\Temp\\ipykernel_20892\\2228661037.py:79: PerformanceWarning: DataFrame is highly fragmented.  This is usually the result of calling `frame.insert` many times, which has poor performance.  Consider joining all columns at once using pd.concat(axis=1) instead. To get a de-fragmented frame, use `newframe = frame.copy()`\n",
      "  df_Q1[\"y_real\"+\"day_\"+str(day_i)+\"stcd_\"+str(stcd_i)]=y_real\n",
      "C:\\Users\\39362\\AppData\\Local\\Temp\\ipykernel_20892\\2228661037.py:78: PerformanceWarning: DataFrame is highly fragmented.  This is usually the result of calling `frame.insert` many times, which has poor performance.  Consider joining all columns at once using pd.concat(axis=1) instead. To get a de-fragmented frame, use `newframe = frame.copy()`\n",
      "  df_Q1[\"y_hat\"+\"day_\"+str(day_i)+\"stcd_\"+str(stcd_i)]=y_hat\n",
      "C:\\Users\\39362\\AppData\\Local\\Temp\\ipykernel_20892\\2228661037.py:79: PerformanceWarning: DataFrame is highly fragmented.  This is usually the result of calling `frame.insert` many times, which has poor performance.  Consider joining all columns at once using pd.concat(axis=1) instead. To get a de-fragmented frame, use `newframe = frame.copy()`\n",
      "  df_Q1[\"y_real\"+\"day_\"+str(day_i)+\"stcd_\"+str(stcd_i)]=y_real\n",
      "C:\\Users\\39362\\AppData\\Local\\Temp\\ipykernel_20892\\2228661037.py:78: PerformanceWarning: DataFrame is highly fragmented.  This is usually the result of calling `frame.insert` many times, which has poor performance.  Consider joining all columns at once using pd.concat(axis=1) instead. To get a de-fragmented frame, use `newframe = frame.copy()`\n",
      "  df_Q1[\"y_hat\"+\"day_\"+str(day_i)+\"stcd_\"+str(stcd_i)]=y_hat\n",
      "C:\\Users\\39362\\AppData\\Local\\Temp\\ipykernel_20892\\2228661037.py:79: PerformanceWarning: DataFrame is highly fragmented.  This is usually the result of calling `frame.insert` many times, which has poor performance.  Consider joining all columns at once using pd.concat(axis=1) instead. To get a de-fragmented frame, use `newframe = frame.copy()`\n",
      "  df_Q1[\"y_real\"+\"day_\"+str(day_i)+\"stcd_\"+str(stcd_i)]=y_real\n",
      "C:\\Users\\39362\\AppData\\Local\\Temp\\ipykernel_20892\\2228661037.py:78: PerformanceWarning: DataFrame is highly fragmented.  This is usually the result of calling `frame.insert` many times, which has poor performance.  Consider joining all columns at once using pd.concat(axis=1) instead. To get a de-fragmented frame, use `newframe = frame.copy()`\n",
      "  df_Q1[\"y_hat\"+\"day_\"+str(day_i)+\"stcd_\"+str(stcd_i)]=y_hat\n",
      "C:\\Users\\39362\\AppData\\Local\\Temp\\ipykernel_20892\\2228661037.py:79: PerformanceWarning: DataFrame is highly fragmented.  This is usually the result of calling `frame.insert` many times, which has poor performance.  Consider joining all columns at once using pd.concat(axis=1) instead. To get a de-fragmented frame, use `newframe = frame.copy()`\n",
      "  df_Q1[\"y_real\"+\"day_\"+str(day_i)+\"stcd_\"+str(stcd_i)]=y_real\n",
      "C:\\Users\\39362\\AppData\\Local\\Temp\\ipykernel_20892\\2228661037.py:78: PerformanceWarning: DataFrame is highly fragmented.  This is usually the result of calling `frame.insert` many times, which has poor performance.  Consider joining all columns at once using pd.concat(axis=1) instead. To get a de-fragmented frame, use `newframe = frame.copy()`\n",
      "  df_Q1[\"y_hat\"+\"day_\"+str(day_i)+\"stcd_\"+str(stcd_i)]=y_hat\n",
      "C:\\Users\\39362\\AppData\\Local\\Temp\\ipykernel_20892\\2228661037.py:79: PerformanceWarning: DataFrame is highly fragmented.  This is usually the result of calling `frame.insert` many times, which has poor performance.  Consider joining all columns at once using pd.concat(axis=1) instead. To get a de-fragmented frame, use `newframe = frame.copy()`\n",
      "  df_Q1[\"y_real\"+\"day_\"+str(day_i)+\"stcd_\"+str(stcd_i)]=y_real\n",
      "C:\\Users\\39362\\AppData\\Local\\Temp\\ipykernel_20892\\2228661037.py:78: PerformanceWarning: DataFrame is highly fragmented.  This is usually the result of calling `frame.insert` many times, which has poor performance.  Consider joining all columns at once using pd.concat(axis=1) instead. To get a de-fragmented frame, use `newframe = frame.copy()`\n",
      "  df_Q1[\"y_hat\"+\"day_\"+str(day_i)+\"stcd_\"+str(stcd_i)]=y_hat\n",
      "C:\\Users\\39362\\AppData\\Local\\Temp\\ipykernel_20892\\2228661037.py:79: PerformanceWarning: DataFrame is highly fragmented.  This is usually the result of calling `frame.insert` many times, which has poor performance.  Consider joining all columns at once using pd.concat(axis=1) instead. To get a de-fragmented frame, use `newframe = frame.copy()`\n",
      "  df_Q1[\"y_real\"+\"day_\"+str(day_i)+\"stcd_\"+str(stcd_i)]=y_real\n",
      "C:\\Users\\39362\\AppData\\Local\\Temp\\ipykernel_20892\\2228661037.py:78: PerformanceWarning: DataFrame is highly fragmented.  This is usually the result of calling `frame.insert` many times, which has poor performance.  Consider joining all columns at once using pd.concat(axis=1) instead. To get a de-fragmented frame, use `newframe = frame.copy()`\n",
      "  df_Q1[\"y_hat\"+\"day_\"+str(day_i)+\"stcd_\"+str(stcd_i)]=y_hat\n",
      "C:\\Users\\39362\\AppData\\Local\\Temp\\ipykernel_20892\\2228661037.py:79: PerformanceWarning: DataFrame is highly fragmented.  This is usually the result of calling `frame.insert` many times, which has poor performance.  Consider joining all columns at once using pd.concat(axis=1) instead. To get a de-fragmented frame, use `newframe = frame.copy()`\n",
      "  df_Q1[\"y_real\"+\"day_\"+str(day_i)+\"stcd_\"+str(stcd_i)]=y_real\n",
      "C:\\Users\\39362\\AppData\\Local\\Temp\\ipykernel_20892\\2228661037.py:78: PerformanceWarning: DataFrame is highly fragmented.  This is usually the result of calling `frame.insert` many times, which has poor performance.  Consider joining all columns at once using pd.concat(axis=1) instead. To get a de-fragmented frame, use `newframe = frame.copy()`\n",
      "  df_Q1[\"y_hat\"+\"day_\"+str(day_i)+\"stcd_\"+str(stcd_i)]=y_hat\n",
      "C:\\Users\\39362\\AppData\\Local\\Temp\\ipykernel_20892\\2228661037.py:79: PerformanceWarning: DataFrame is highly fragmented.  This is usually the result of calling `frame.insert` many times, which has poor performance.  Consider joining all columns at once using pd.concat(axis=1) instead. To get a de-fragmented frame, use `newframe = frame.copy()`\n",
      "  df_Q1[\"y_real\"+\"day_\"+str(day_i)+\"stcd_\"+str(stcd_i)]=y_real\n",
      "C:\\Users\\39362\\AppData\\Local\\Temp\\ipykernel_20892\\2228661037.py:78: PerformanceWarning: DataFrame is highly fragmented.  This is usually the result of calling `frame.insert` many times, which has poor performance.  Consider joining all columns at once using pd.concat(axis=1) instead. To get a de-fragmented frame, use `newframe = frame.copy()`\n",
      "  df_Q1[\"y_hat\"+\"day_\"+str(day_i)+\"stcd_\"+str(stcd_i)]=y_hat\n",
      "C:\\Users\\39362\\AppData\\Local\\Temp\\ipykernel_20892\\2228661037.py:79: PerformanceWarning: DataFrame is highly fragmented.  This is usually the result of calling `frame.insert` many times, which has poor performance.  Consider joining all columns at once using pd.concat(axis=1) instead. To get a de-fragmented frame, use `newframe = frame.copy()`\n",
      "  df_Q1[\"y_real\"+\"day_\"+str(day_i)+\"stcd_\"+str(stcd_i)]=y_real\n",
      "C:\\Users\\39362\\AppData\\Local\\Temp\\ipykernel_20892\\2228661037.py:78: PerformanceWarning: DataFrame is highly fragmented.  This is usually the result of calling `frame.insert` many times, which has poor performance.  Consider joining all columns at once using pd.concat(axis=1) instead. To get a de-fragmented frame, use `newframe = frame.copy()`\n",
      "  df_Q1[\"y_hat\"+\"day_\"+str(day_i)+\"stcd_\"+str(stcd_i)]=y_hat\n",
      "C:\\Users\\39362\\AppData\\Local\\Temp\\ipykernel_20892\\2228661037.py:79: PerformanceWarning: DataFrame is highly fragmented.  This is usually the result of calling `frame.insert` many times, which has poor performance.  Consider joining all columns at once using pd.concat(axis=1) instead. To get a de-fragmented frame, use `newframe = frame.copy()`\n",
      "  df_Q1[\"y_real\"+\"day_\"+str(day_i)+\"stcd_\"+str(stcd_i)]=y_real\n",
      "C:\\Users\\39362\\AppData\\Local\\Temp\\ipykernel_20892\\2228661037.py:78: PerformanceWarning: DataFrame is highly fragmented.  This is usually the result of calling `frame.insert` many times, which has poor performance.  Consider joining all columns at once using pd.concat(axis=1) instead. To get a de-fragmented frame, use `newframe = frame.copy()`\n",
      "  df_Q1[\"y_hat\"+\"day_\"+str(day_i)+\"stcd_\"+str(stcd_i)]=y_hat\n",
      "C:\\Users\\39362\\AppData\\Local\\Temp\\ipykernel_20892\\2228661037.py:79: PerformanceWarning: DataFrame is highly fragmented.  This is usually the result of calling `frame.insert` many times, which has poor performance.  Consider joining all columns at once using pd.concat(axis=1) instead. To get a de-fragmented frame, use `newframe = frame.copy()`\n",
      "  df_Q1[\"y_real\"+\"day_\"+str(day_i)+\"stcd_\"+str(stcd_i)]=y_real\n",
      "C:\\Users\\39362\\AppData\\Local\\Temp\\ipykernel_20892\\2228661037.py:78: PerformanceWarning: DataFrame is highly fragmented.  This is usually the result of calling `frame.insert` many times, which has poor performance.  Consider joining all columns at once using pd.concat(axis=1) instead. To get a de-fragmented frame, use `newframe = frame.copy()`\n",
      "  df_Q1[\"y_hat\"+\"day_\"+str(day_i)+\"stcd_\"+str(stcd_i)]=y_hat\n",
      "C:\\Users\\39362\\AppData\\Local\\Temp\\ipykernel_20892\\2228661037.py:79: PerformanceWarning: DataFrame is highly fragmented.  This is usually the result of calling `frame.insert` many times, which has poor performance.  Consider joining all columns at once using pd.concat(axis=1) instead. To get a de-fragmented frame, use `newframe = frame.copy()`\n",
      "  df_Q1[\"y_real\"+\"day_\"+str(day_i)+\"stcd_\"+str(stcd_i)]=y_real\n",
      "C:\\Users\\39362\\AppData\\Local\\Temp\\ipykernel_20892\\2228661037.py:78: PerformanceWarning: DataFrame is highly fragmented.  This is usually the result of calling `frame.insert` many times, which has poor performance.  Consider joining all columns at once using pd.concat(axis=1) instead. To get a de-fragmented frame, use `newframe = frame.copy()`\n",
      "  df_Q1[\"y_hat\"+\"day_\"+str(day_i)+\"stcd_\"+str(stcd_i)]=y_hat\n",
      "C:\\Users\\39362\\AppData\\Local\\Temp\\ipykernel_20892\\2228661037.py:79: PerformanceWarning: DataFrame is highly fragmented.  This is usually the result of calling `frame.insert` many times, which has poor performance.  Consider joining all columns at once using pd.concat(axis=1) instead. To get a de-fragmented frame, use `newframe = frame.copy()`\n",
      "  df_Q1[\"y_real\"+\"day_\"+str(day_i)+\"stcd_\"+str(stcd_i)]=y_real\n",
      "C:\\Users\\39362\\AppData\\Local\\Temp\\ipykernel_20892\\2228661037.py:78: PerformanceWarning: DataFrame is highly fragmented.  This is usually the result of calling `frame.insert` many times, which has poor performance.  Consider joining all columns at once using pd.concat(axis=1) instead. To get a de-fragmented frame, use `newframe = frame.copy()`\n",
      "  df_Q1[\"y_hat\"+\"day_\"+str(day_i)+\"stcd_\"+str(stcd_i)]=y_hat\n",
      "C:\\Users\\39362\\AppData\\Local\\Temp\\ipykernel_20892\\2228661037.py:79: PerformanceWarning: DataFrame is highly fragmented.  This is usually the result of calling `frame.insert` many times, which has poor performance.  Consider joining all columns at once using pd.concat(axis=1) instead. To get a de-fragmented frame, use `newframe = frame.copy()`\n",
      "  df_Q1[\"y_real\"+\"day_\"+str(day_i)+\"stcd_\"+str(stcd_i)]=y_real\n",
      "C:\\Users\\39362\\AppData\\Local\\Temp\\ipykernel_20892\\2228661037.py:78: PerformanceWarning: DataFrame is highly fragmented.  This is usually the result of calling `frame.insert` many times, which has poor performance.  Consider joining all columns at once using pd.concat(axis=1) instead. To get a de-fragmented frame, use `newframe = frame.copy()`\n",
      "  df_Q1[\"y_hat\"+\"day_\"+str(day_i)+\"stcd_\"+str(stcd_i)]=y_hat\n",
      "C:\\Users\\39362\\AppData\\Local\\Temp\\ipykernel_20892\\2228661037.py:79: PerformanceWarning: DataFrame is highly fragmented.  This is usually the result of calling `frame.insert` many times, which has poor performance.  Consider joining all columns at once using pd.concat(axis=1) instead. To get a de-fragmented frame, use `newframe = frame.copy()`\n",
      "  df_Q1[\"y_real\"+\"day_\"+str(day_i)+\"stcd_\"+str(stcd_i)]=y_real\n",
      "C:\\Users\\39362\\AppData\\Local\\Temp\\ipykernel_20892\\2228661037.py:78: PerformanceWarning: DataFrame is highly fragmented.  This is usually the result of calling `frame.insert` many times, which has poor performance.  Consider joining all columns at once using pd.concat(axis=1) instead. To get a de-fragmented frame, use `newframe = frame.copy()`\n",
      "  df_Q1[\"y_hat\"+\"day_\"+str(day_i)+\"stcd_\"+str(stcd_i)]=y_hat\n",
      "C:\\Users\\39362\\AppData\\Local\\Temp\\ipykernel_20892\\2228661037.py:79: PerformanceWarning: DataFrame is highly fragmented.  This is usually the result of calling `frame.insert` many times, which has poor performance.  Consider joining all columns at once using pd.concat(axis=1) instead. To get a de-fragmented frame, use `newframe = frame.copy()`\n",
      "  df_Q1[\"y_real\"+\"day_\"+str(day_i)+\"stcd_\"+str(stcd_i)]=y_real\n",
      "C:\\Users\\39362\\AppData\\Local\\Temp\\ipykernel_20892\\2228661037.py:78: PerformanceWarning: DataFrame is highly fragmented.  This is usually the result of calling `frame.insert` many times, which has poor performance.  Consider joining all columns at once using pd.concat(axis=1) instead. To get a de-fragmented frame, use `newframe = frame.copy()`\n",
      "  df_Q1[\"y_hat\"+\"day_\"+str(day_i)+\"stcd_\"+str(stcd_i)]=y_hat\n",
      "C:\\Users\\39362\\AppData\\Local\\Temp\\ipykernel_20892\\2228661037.py:79: PerformanceWarning: DataFrame is highly fragmented.  This is usually the result of calling `frame.insert` many times, which has poor performance.  Consider joining all columns at once using pd.concat(axis=1) instead. To get a de-fragmented frame, use `newframe = frame.copy()`\n",
      "  df_Q1[\"y_real\"+\"day_\"+str(day_i)+\"stcd_\"+str(stcd_i)]=y_real\n",
      "C:\\Users\\39362\\AppData\\Local\\Temp\\ipykernel_20892\\2228661037.py:78: PerformanceWarning: DataFrame is highly fragmented.  This is usually the result of calling `frame.insert` many times, which has poor performance.  Consider joining all columns at once using pd.concat(axis=1) instead. To get a de-fragmented frame, use `newframe = frame.copy()`\n",
      "  df_Q1[\"y_hat\"+\"day_\"+str(day_i)+\"stcd_\"+str(stcd_i)]=y_hat\n",
      "C:\\Users\\39362\\AppData\\Local\\Temp\\ipykernel_20892\\2228661037.py:79: PerformanceWarning: DataFrame is highly fragmented.  This is usually the result of calling `frame.insert` many times, which has poor performance.  Consider joining all columns at once using pd.concat(axis=1) instead. To get a de-fragmented frame, use `newframe = frame.copy()`\n",
      "  df_Q1[\"y_real\"+\"day_\"+str(day_i)+\"stcd_\"+str(stcd_i)]=y_real\n",
      "C:\\Users\\39362\\AppData\\Local\\Temp\\ipykernel_20892\\2228661037.py:78: PerformanceWarning: DataFrame is highly fragmented.  This is usually the result of calling `frame.insert` many times, which has poor performance.  Consider joining all columns at once using pd.concat(axis=1) instead. To get a de-fragmented frame, use `newframe = frame.copy()`\n",
      "  df_Q1[\"y_hat\"+\"day_\"+str(day_i)+\"stcd_\"+str(stcd_i)]=y_hat\n",
      "C:\\Users\\39362\\AppData\\Local\\Temp\\ipykernel_20892\\2228661037.py:79: PerformanceWarning: DataFrame is highly fragmented.  This is usually the result of calling `frame.insert` many times, which has poor performance.  Consider joining all columns at once using pd.concat(axis=1) instead. To get a de-fragmented frame, use `newframe = frame.copy()`\n",
      "  df_Q1[\"y_real\"+\"day_\"+str(day_i)+\"stcd_\"+str(stcd_i)]=y_real\n",
      "C:\\Users\\39362\\AppData\\Local\\Temp\\ipykernel_20892\\2228661037.py:78: PerformanceWarning: DataFrame is highly fragmented.  This is usually the result of calling `frame.insert` many times, which has poor performance.  Consider joining all columns at once using pd.concat(axis=1) instead. To get a de-fragmented frame, use `newframe = frame.copy()`\n",
      "  df_Q1[\"y_hat\"+\"day_\"+str(day_i)+\"stcd_\"+str(stcd_i)]=y_hat\n",
      "C:\\Users\\39362\\AppData\\Local\\Temp\\ipykernel_20892\\2228661037.py:79: PerformanceWarning: DataFrame is highly fragmented.  This is usually the result of calling `frame.insert` many times, which has poor performance.  Consider joining all columns at once using pd.concat(axis=1) instead. To get a de-fragmented frame, use `newframe = frame.copy()`\n",
      "  df_Q1[\"y_real\"+\"day_\"+str(day_i)+\"stcd_\"+str(stcd_i)]=y_real\n",
      "C:\\Users\\39362\\AppData\\Local\\Temp\\ipykernel_20892\\2228661037.py:78: PerformanceWarning: DataFrame is highly fragmented.  This is usually the result of calling `frame.insert` many times, which has poor performance.  Consider joining all columns at once using pd.concat(axis=1) instead. To get a de-fragmented frame, use `newframe = frame.copy()`\n",
      "  df_Q1[\"y_hat\"+\"day_\"+str(day_i)+\"stcd_\"+str(stcd_i)]=y_hat\n",
      "C:\\Users\\39362\\AppData\\Local\\Temp\\ipykernel_20892\\2228661037.py:79: PerformanceWarning: DataFrame is highly fragmented.  This is usually the result of calling `frame.insert` many times, which has poor performance.  Consider joining all columns at once using pd.concat(axis=1) instead. To get a de-fragmented frame, use `newframe = frame.copy()`\n",
      "  df_Q1[\"y_real\"+\"day_\"+str(day_i)+\"stcd_\"+str(stcd_i)]=y_real\n",
      "C:\\Users\\39362\\AppData\\Local\\Temp\\ipykernel_20892\\2228661037.py:78: PerformanceWarning: DataFrame is highly fragmented.  This is usually the result of calling `frame.insert` many times, which has poor performance.  Consider joining all columns at once using pd.concat(axis=1) instead. To get a de-fragmented frame, use `newframe = frame.copy()`\n",
      "  df_Q1[\"y_hat\"+\"day_\"+str(day_i)+\"stcd_\"+str(stcd_i)]=y_hat\n",
      "C:\\Users\\39362\\AppData\\Local\\Temp\\ipykernel_20892\\2228661037.py:79: PerformanceWarning: DataFrame is highly fragmented.  This is usually the result of calling `frame.insert` many times, which has poor performance.  Consider joining all columns at once using pd.concat(axis=1) instead. To get a de-fragmented frame, use `newframe = frame.copy()`\n",
      "  df_Q1[\"y_real\"+\"day_\"+str(day_i)+\"stcd_\"+str(stcd_i)]=y_real\n",
      "C:\\Users\\39362\\AppData\\Local\\Temp\\ipykernel_20892\\2228661037.py:78: PerformanceWarning: DataFrame is highly fragmented.  This is usually the result of calling `frame.insert` many times, which has poor performance.  Consider joining all columns at once using pd.concat(axis=1) instead. To get a de-fragmented frame, use `newframe = frame.copy()`\n",
      "  df_Q1[\"y_hat\"+\"day_\"+str(day_i)+\"stcd_\"+str(stcd_i)]=y_hat\n",
      "C:\\Users\\39362\\AppData\\Local\\Temp\\ipykernel_20892\\2228661037.py:79: PerformanceWarning: DataFrame is highly fragmented.  This is usually the result of calling `frame.insert` many times, which has poor performance.  Consider joining all columns at once using pd.concat(axis=1) instead. To get a de-fragmented frame, use `newframe = frame.copy()`\n",
      "  df_Q1[\"y_real\"+\"day_\"+str(day_i)+\"stcd_\"+str(stcd_i)]=y_real\n",
      "C:\\Users\\39362\\AppData\\Local\\Temp\\ipykernel_20892\\2228661037.py:78: PerformanceWarning: DataFrame is highly fragmented.  This is usually the result of calling `frame.insert` many times, which has poor performance.  Consider joining all columns at once using pd.concat(axis=1) instead. To get a de-fragmented frame, use `newframe = frame.copy()`\n",
      "  df_Q1[\"y_hat\"+\"day_\"+str(day_i)+\"stcd_\"+str(stcd_i)]=y_hat\n",
      "C:\\Users\\39362\\AppData\\Local\\Temp\\ipykernel_20892\\2228661037.py:79: PerformanceWarning: DataFrame is highly fragmented.  This is usually the result of calling `frame.insert` many times, which has poor performance.  Consider joining all columns at once using pd.concat(axis=1) instead. To get a de-fragmented frame, use `newframe = frame.copy()`\n",
      "  df_Q1[\"y_real\"+\"day_\"+str(day_i)+\"stcd_\"+str(stcd_i)]=y_real\n",
      "C:\\Users\\39362\\AppData\\Local\\Temp\\ipykernel_20892\\2228661037.py:78: PerformanceWarning: DataFrame is highly fragmented.  This is usually the result of calling `frame.insert` many times, which has poor performance.  Consider joining all columns at once using pd.concat(axis=1) instead. To get a de-fragmented frame, use `newframe = frame.copy()`\n",
      "  df_Q1[\"y_hat\"+\"day_\"+str(day_i)+\"stcd_\"+str(stcd_i)]=y_hat\n",
      "C:\\Users\\39362\\AppData\\Local\\Temp\\ipykernel_20892\\2228661037.py:79: PerformanceWarning: DataFrame is highly fragmented.  This is usually the result of calling `frame.insert` many times, which has poor performance.  Consider joining all columns at once using pd.concat(axis=1) instead. To get a de-fragmented frame, use `newframe = frame.copy()`\n",
      "  df_Q1[\"y_real\"+\"day_\"+str(day_i)+\"stcd_\"+str(stcd_i)]=y_real\n",
      "C:\\Users\\39362\\AppData\\Local\\Temp\\ipykernel_20892\\2228661037.py:78: PerformanceWarning: DataFrame is highly fragmented.  This is usually the result of calling `frame.insert` many times, which has poor performance.  Consider joining all columns at once using pd.concat(axis=1) instead. To get a de-fragmented frame, use `newframe = frame.copy()`\n",
      "  df_Q1[\"y_hat\"+\"day_\"+str(day_i)+\"stcd_\"+str(stcd_i)]=y_hat\n",
      "C:\\Users\\39362\\AppData\\Local\\Temp\\ipykernel_20892\\2228661037.py:79: PerformanceWarning: DataFrame is highly fragmented.  This is usually the result of calling `frame.insert` many times, which has poor performance.  Consider joining all columns at once using pd.concat(axis=1) instead. To get a de-fragmented frame, use `newframe = frame.copy()`\n",
      "  df_Q1[\"y_real\"+\"day_\"+str(day_i)+\"stcd_\"+str(stcd_i)]=y_real\n",
      "C:\\Users\\39362\\AppData\\Local\\Temp\\ipykernel_20892\\2228661037.py:78: PerformanceWarning: DataFrame is highly fragmented.  This is usually the result of calling `frame.insert` many times, which has poor performance.  Consider joining all columns at once using pd.concat(axis=1) instead. To get a de-fragmented frame, use `newframe = frame.copy()`\n",
      "  df_Q1[\"y_hat\"+\"day_\"+str(day_i)+\"stcd_\"+str(stcd_i)]=y_hat\n",
      "C:\\Users\\39362\\AppData\\Local\\Temp\\ipykernel_20892\\2228661037.py:79: PerformanceWarning: DataFrame is highly fragmented.  This is usually the result of calling `frame.insert` many times, which has poor performance.  Consider joining all columns at once using pd.concat(axis=1) instead. To get a de-fragmented frame, use `newframe = frame.copy()`\n",
      "  df_Q1[\"y_real\"+\"day_\"+str(day_i)+\"stcd_\"+str(stcd_i)]=y_real\n",
      "C:\\Users\\39362\\AppData\\Local\\Temp\\ipykernel_20892\\2228661037.py:78: PerformanceWarning: DataFrame is highly fragmented.  This is usually the result of calling `frame.insert` many times, which has poor performance.  Consider joining all columns at once using pd.concat(axis=1) instead. To get a de-fragmented frame, use `newframe = frame.copy()`\n",
      "  df_Q1[\"y_hat\"+\"day_\"+str(day_i)+\"stcd_\"+str(stcd_i)]=y_hat\n",
      "C:\\Users\\39362\\AppData\\Local\\Temp\\ipykernel_20892\\2228661037.py:79: PerformanceWarning: DataFrame is highly fragmented.  This is usually the result of calling `frame.insert` many times, which has poor performance.  Consider joining all columns at once using pd.concat(axis=1) instead. To get a de-fragmented frame, use `newframe = frame.copy()`\n",
      "  df_Q1[\"y_real\"+\"day_\"+str(day_i)+\"stcd_\"+str(stcd_i)]=y_real\n",
      "C:\\Users\\39362\\AppData\\Local\\Temp\\ipykernel_20892\\2228661037.py:78: PerformanceWarning: DataFrame is highly fragmented.  This is usually the result of calling `frame.insert` many times, which has poor performance.  Consider joining all columns at once using pd.concat(axis=1) instead. To get a de-fragmented frame, use `newframe = frame.copy()`\n",
      "  df_Q1[\"y_hat\"+\"day_\"+str(day_i)+\"stcd_\"+str(stcd_i)]=y_hat\n",
      "C:\\Users\\39362\\AppData\\Local\\Temp\\ipykernel_20892\\2228661037.py:79: PerformanceWarning: DataFrame is highly fragmented.  This is usually the result of calling `frame.insert` many times, which has poor performance.  Consider joining all columns at once using pd.concat(axis=1) instead. To get a de-fragmented frame, use `newframe = frame.copy()`\n",
      "  df_Q1[\"y_real\"+\"day_\"+str(day_i)+\"stcd_\"+str(stcd_i)]=y_real\n",
      "C:\\Users\\39362\\AppData\\Local\\Temp\\ipykernel_20892\\2228661037.py:78: PerformanceWarning: DataFrame is highly fragmented.  This is usually the result of calling `frame.insert` many times, which has poor performance.  Consider joining all columns at once using pd.concat(axis=1) instead. To get a de-fragmented frame, use `newframe = frame.copy()`\n",
      "  df_Q1[\"y_hat\"+\"day_\"+str(day_i)+\"stcd_\"+str(stcd_i)]=y_hat\n",
      "C:\\Users\\39362\\AppData\\Local\\Temp\\ipykernel_20892\\2228661037.py:79: PerformanceWarning: DataFrame is highly fragmented.  This is usually the result of calling `frame.insert` many times, which has poor performance.  Consider joining all columns at once using pd.concat(axis=1) instead. To get a de-fragmented frame, use `newframe = frame.copy()`\n",
      "  df_Q1[\"y_real\"+\"day_\"+str(day_i)+\"stcd_\"+str(stcd_i)]=y_real\n",
      "C:\\Users\\39362\\AppData\\Local\\Temp\\ipykernel_20892\\2228661037.py:78: PerformanceWarning: DataFrame is highly fragmented.  This is usually the result of calling `frame.insert` many times, which has poor performance.  Consider joining all columns at once using pd.concat(axis=1) instead. To get a de-fragmented frame, use `newframe = frame.copy()`\n",
      "  df_Q1[\"y_hat\"+\"day_\"+str(day_i)+\"stcd_\"+str(stcd_i)]=y_hat\n",
      "C:\\Users\\39362\\AppData\\Local\\Temp\\ipykernel_20892\\2228661037.py:79: PerformanceWarning: DataFrame is highly fragmented.  This is usually the result of calling `frame.insert` many times, which has poor performance.  Consider joining all columns at once using pd.concat(axis=1) instead. To get a de-fragmented frame, use `newframe = frame.copy()`\n",
      "  df_Q1[\"y_real\"+\"day_\"+str(day_i)+\"stcd_\"+str(stcd_i)]=y_real\n",
      "C:\\Users\\39362\\AppData\\Local\\Temp\\ipykernel_20892\\2228661037.py:78: PerformanceWarning: DataFrame is highly fragmented.  This is usually the result of calling `frame.insert` many times, which has poor performance.  Consider joining all columns at once using pd.concat(axis=1) instead. To get a de-fragmented frame, use `newframe = frame.copy()`\n",
      "  df_Q1[\"y_hat\"+\"day_\"+str(day_i)+\"stcd_\"+str(stcd_i)]=y_hat\n",
      "C:\\Users\\39362\\AppData\\Local\\Temp\\ipykernel_20892\\2228661037.py:79: PerformanceWarning: DataFrame is highly fragmented.  This is usually the result of calling `frame.insert` many times, which has poor performance.  Consider joining all columns at once using pd.concat(axis=1) instead. To get a de-fragmented frame, use `newframe = frame.copy()`\n",
      "  df_Q1[\"y_real\"+\"day_\"+str(day_i)+\"stcd_\"+str(stcd_i)]=y_real\n",
      "C:\\Users\\39362\\AppData\\Local\\Temp\\ipykernel_20892\\2228661037.py:78: PerformanceWarning: DataFrame is highly fragmented.  This is usually the result of calling `frame.insert` many times, which has poor performance.  Consider joining all columns at once using pd.concat(axis=1) instead. To get a de-fragmented frame, use `newframe = frame.copy()`\n",
      "  df_Q1[\"y_hat\"+\"day_\"+str(day_i)+\"stcd_\"+str(stcd_i)]=y_hat\n",
      "C:\\Users\\39362\\AppData\\Local\\Temp\\ipykernel_20892\\2228661037.py:79: PerformanceWarning: DataFrame is highly fragmented.  This is usually the result of calling `frame.insert` many times, which has poor performance.  Consider joining all columns at once using pd.concat(axis=1) instead. To get a de-fragmented frame, use `newframe = frame.copy()`\n",
      "  df_Q1[\"y_real\"+\"day_\"+str(day_i)+\"stcd_\"+str(stcd_i)]=y_real\n",
      "C:\\Users\\39362\\AppData\\Local\\Temp\\ipykernel_20892\\2228661037.py:78: PerformanceWarning: DataFrame is highly fragmented.  This is usually the result of calling `frame.insert` many times, which has poor performance.  Consider joining all columns at once using pd.concat(axis=1) instead. To get a de-fragmented frame, use `newframe = frame.copy()`\n",
      "  df_Q1[\"y_hat\"+\"day_\"+str(day_i)+\"stcd_\"+str(stcd_i)]=y_hat\n",
      "C:\\Users\\39362\\AppData\\Local\\Temp\\ipykernel_20892\\2228661037.py:79: PerformanceWarning: DataFrame is highly fragmented.  This is usually the result of calling `frame.insert` many times, which has poor performance.  Consider joining all columns at once using pd.concat(axis=1) instead. To get a de-fragmented frame, use `newframe = frame.copy()`\n",
      "  df_Q1[\"y_real\"+\"day_\"+str(day_i)+\"stcd_\"+str(stcd_i)]=y_real\n",
      "C:\\Users\\39362\\AppData\\Local\\Temp\\ipykernel_20892\\2228661037.py:78: PerformanceWarning: DataFrame is highly fragmented.  This is usually the result of calling `frame.insert` many times, which has poor performance.  Consider joining all columns at once using pd.concat(axis=1) instead. To get a de-fragmented frame, use `newframe = frame.copy()`\n",
      "  df_Q1[\"y_hat\"+\"day_\"+str(day_i)+\"stcd_\"+str(stcd_i)]=y_hat\n",
      "C:\\Users\\39362\\AppData\\Local\\Temp\\ipykernel_20892\\2228661037.py:79: PerformanceWarning: DataFrame is highly fragmented.  This is usually the result of calling `frame.insert` many times, which has poor performance.  Consider joining all columns at once using pd.concat(axis=1) instead. To get a de-fragmented frame, use `newframe = frame.copy()`\n",
      "  df_Q1[\"y_real\"+\"day_\"+str(day_i)+\"stcd_\"+str(stcd_i)]=y_real\n",
      "C:\\Users\\39362\\AppData\\Local\\Temp\\ipykernel_20892\\2228661037.py:78: PerformanceWarning: DataFrame is highly fragmented.  This is usually the result of calling `frame.insert` many times, which has poor performance.  Consider joining all columns at once using pd.concat(axis=1) instead. To get a de-fragmented frame, use `newframe = frame.copy()`\n",
      "  df_Q1[\"y_hat\"+\"day_\"+str(day_i)+\"stcd_\"+str(stcd_i)]=y_hat\n",
      "C:\\Users\\39362\\AppData\\Local\\Temp\\ipykernel_20892\\2228661037.py:79: PerformanceWarning: DataFrame is highly fragmented.  This is usually the result of calling `frame.insert` many times, which has poor performance.  Consider joining all columns at once using pd.concat(axis=1) instead. To get a de-fragmented frame, use `newframe = frame.copy()`\n",
      "  df_Q1[\"y_real\"+\"day_\"+str(day_i)+\"stcd_\"+str(stcd_i)]=y_real\n",
      "C:\\Users\\39362\\AppData\\Local\\Temp\\ipykernel_20892\\2228661037.py:78: PerformanceWarning: DataFrame is highly fragmented.  This is usually the result of calling `frame.insert` many times, which has poor performance.  Consider joining all columns at once using pd.concat(axis=1) instead. To get a de-fragmented frame, use `newframe = frame.copy()`\n",
      "  df_Q1[\"y_hat\"+\"day_\"+str(day_i)+\"stcd_\"+str(stcd_i)]=y_hat\n",
      "C:\\Users\\39362\\AppData\\Local\\Temp\\ipykernel_20892\\2228661037.py:79: PerformanceWarning: DataFrame is highly fragmented.  This is usually the result of calling `frame.insert` many times, which has poor performance.  Consider joining all columns at once using pd.concat(axis=1) instead. To get a de-fragmented frame, use `newframe = frame.copy()`\n",
      "  df_Q1[\"y_real\"+\"day_\"+str(day_i)+\"stcd_\"+str(stcd_i)]=y_real\n",
      "C:\\Users\\39362\\AppData\\Local\\Temp\\ipykernel_20892\\2228661037.py:78: PerformanceWarning: DataFrame is highly fragmented.  This is usually the result of calling `frame.insert` many times, which has poor performance.  Consider joining all columns at once using pd.concat(axis=1) instead. To get a de-fragmented frame, use `newframe = frame.copy()`\n",
      "  df_Q1[\"y_hat\"+\"day_\"+str(day_i)+\"stcd_\"+str(stcd_i)]=y_hat\n",
      "C:\\Users\\39362\\AppData\\Local\\Temp\\ipykernel_20892\\2228661037.py:79: PerformanceWarning: DataFrame is highly fragmented.  This is usually the result of calling `frame.insert` many times, which has poor performance.  Consider joining all columns at once using pd.concat(axis=1) instead. To get a de-fragmented frame, use `newframe = frame.copy()`\n",
      "  df_Q1[\"y_real\"+\"day_\"+str(day_i)+\"stcd_\"+str(stcd_i)]=y_real\n",
      "C:\\Users\\39362\\AppData\\Local\\Temp\\ipykernel_20892\\2228661037.py:78: PerformanceWarning: DataFrame is highly fragmented.  This is usually the result of calling `frame.insert` many times, which has poor performance.  Consider joining all columns at once using pd.concat(axis=1) instead. To get a de-fragmented frame, use `newframe = frame.copy()`\n",
      "  df_Q1[\"y_hat\"+\"day_\"+str(day_i)+\"stcd_\"+str(stcd_i)]=y_hat\n",
      "C:\\Users\\39362\\AppData\\Local\\Temp\\ipykernel_20892\\2228661037.py:79: PerformanceWarning: DataFrame is highly fragmented.  This is usually the result of calling `frame.insert` many times, which has poor performance.  Consider joining all columns at once using pd.concat(axis=1) instead. To get a de-fragmented frame, use `newframe = frame.copy()`\n",
      "  df_Q1[\"y_real\"+\"day_\"+str(day_i)+\"stcd_\"+str(stcd_i)]=y_real\n",
      "C:\\Users\\39362\\AppData\\Local\\Temp\\ipykernel_20892\\2228661037.py:78: PerformanceWarning: DataFrame is highly fragmented.  This is usually the result of calling `frame.insert` many times, which has poor performance.  Consider joining all columns at once using pd.concat(axis=1) instead. To get a de-fragmented frame, use `newframe = frame.copy()`\n",
      "  df_Q1[\"y_hat\"+\"day_\"+str(day_i)+\"stcd_\"+str(stcd_i)]=y_hat\n",
      "C:\\Users\\39362\\AppData\\Local\\Temp\\ipykernel_20892\\2228661037.py:79: PerformanceWarning: DataFrame is highly fragmented.  This is usually the result of calling `frame.insert` many times, which has poor performance.  Consider joining all columns at once using pd.concat(axis=1) instead. To get a de-fragmented frame, use `newframe = frame.copy()`\n",
      "  df_Q1[\"y_real\"+\"day_\"+str(day_i)+\"stcd_\"+str(stcd_i)]=y_real\n",
      "C:\\Users\\39362\\AppData\\Local\\Temp\\ipykernel_20892\\2228661037.py:78: PerformanceWarning: DataFrame is highly fragmented.  This is usually the result of calling `frame.insert` many times, which has poor performance.  Consider joining all columns at once using pd.concat(axis=1) instead. To get a de-fragmented frame, use `newframe = frame.copy()`\n",
      "  df_Q1[\"y_hat\"+\"day_\"+str(day_i)+\"stcd_\"+str(stcd_i)]=y_hat\n",
      "C:\\Users\\39362\\AppData\\Local\\Temp\\ipykernel_20892\\2228661037.py:79: PerformanceWarning: DataFrame is highly fragmented.  This is usually the result of calling `frame.insert` many times, which has poor performance.  Consider joining all columns at once using pd.concat(axis=1) instead. To get a de-fragmented frame, use `newframe = frame.copy()`\n",
      "  df_Q1[\"y_real\"+\"day_\"+str(day_i)+\"stcd_\"+str(stcd_i)]=y_real\n",
      "C:\\Users\\39362\\AppData\\Local\\Temp\\ipykernel_20892\\2228661037.py:78: PerformanceWarning: DataFrame is highly fragmented.  This is usually the result of calling `frame.insert` many times, which has poor performance.  Consider joining all columns at once using pd.concat(axis=1) instead. To get a de-fragmented frame, use `newframe = frame.copy()`\n",
      "  df_Q1[\"y_hat\"+\"day_\"+str(day_i)+\"stcd_\"+str(stcd_i)]=y_hat\n",
      "C:\\Users\\39362\\AppData\\Local\\Temp\\ipykernel_20892\\2228661037.py:79: PerformanceWarning: DataFrame is highly fragmented.  This is usually the result of calling `frame.insert` many times, which has poor performance.  Consider joining all columns at once using pd.concat(axis=1) instead. To get a de-fragmented frame, use `newframe = frame.copy()`\n",
      "  df_Q1[\"y_real\"+\"day_\"+str(day_i)+\"stcd_\"+str(stcd_i)]=y_real\n",
      "C:\\Users\\39362\\AppData\\Local\\Temp\\ipykernel_20892\\2228661037.py:78: PerformanceWarning: DataFrame is highly fragmented.  This is usually the result of calling `frame.insert` many times, which has poor performance.  Consider joining all columns at once using pd.concat(axis=1) instead. To get a de-fragmented frame, use `newframe = frame.copy()`\n",
      "  df_Q1[\"y_hat\"+\"day_\"+str(day_i)+\"stcd_\"+str(stcd_i)]=y_hat\n",
      "C:\\Users\\39362\\AppData\\Local\\Temp\\ipykernel_20892\\2228661037.py:79: PerformanceWarning: DataFrame is highly fragmented.  This is usually the result of calling `frame.insert` many times, which has poor performance.  Consider joining all columns at once using pd.concat(axis=1) instead. To get a de-fragmented frame, use `newframe = frame.copy()`\n",
      "  df_Q1[\"y_real\"+\"day_\"+str(day_i)+\"stcd_\"+str(stcd_i)]=y_real\n",
      "C:\\Users\\39362\\AppData\\Local\\Temp\\ipykernel_20892\\2228661037.py:78: PerformanceWarning: DataFrame is highly fragmented.  This is usually the result of calling `frame.insert` many times, which has poor performance.  Consider joining all columns at once using pd.concat(axis=1) instead. To get a de-fragmented frame, use `newframe = frame.copy()`\n",
      "  df_Q1[\"y_hat\"+\"day_\"+str(day_i)+\"stcd_\"+str(stcd_i)]=y_hat\n",
      "C:\\Users\\39362\\AppData\\Local\\Temp\\ipykernel_20892\\2228661037.py:79: PerformanceWarning: DataFrame is highly fragmented.  This is usually the result of calling `frame.insert` many times, which has poor performance.  Consider joining all columns at once using pd.concat(axis=1) instead. To get a de-fragmented frame, use `newframe = frame.copy()`\n",
      "  df_Q1[\"y_real\"+\"day_\"+str(day_i)+\"stcd_\"+str(stcd_i)]=y_real\n",
      "C:\\Users\\39362\\AppData\\Local\\Temp\\ipykernel_20892\\2228661037.py:78: PerformanceWarning: DataFrame is highly fragmented.  This is usually the result of calling `frame.insert` many times, which has poor performance.  Consider joining all columns at once using pd.concat(axis=1) instead. To get a de-fragmented frame, use `newframe = frame.copy()`\n",
      "  df_Q1[\"y_hat\"+\"day_\"+str(day_i)+\"stcd_\"+str(stcd_i)]=y_hat\n",
      "C:\\Users\\39362\\AppData\\Local\\Temp\\ipykernel_20892\\2228661037.py:79: PerformanceWarning: DataFrame is highly fragmented.  This is usually the result of calling `frame.insert` many times, which has poor performance.  Consider joining all columns at once using pd.concat(axis=1) instead. To get a de-fragmented frame, use `newframe = frame.copy()`\n",
      "  df_Q1[\"y_real\"+\"day_\"+str(day_i)+\"stcd_\"+str(stcd_i)]=y_real\n",
      "C:\\Users\\39362\\AppData\\Local\\Temp\\ipykernel_20892\\2228661037.py:78: PerformanceWarning: DataFrame is highly fragmented.  This is usually the result of calling `frame.insert` many times, which has poor performance.  Consider joining all columns at once using pd.concat(axis=1) instead. To get a de-fragmented frame, use `newframe = frame.copy()`\n",
      "  df_Q1[\"y_hat\"+\"day_\"+str(day_i)+\"stcd_\"+str(stcd_i)]=y_hat\n",
      "C:\\Users\\39362\\AppData\\Local\\Temp\\ipykernel_20892\\2228661037.py:79: PerformanceWarning: DataFrame is highly fragmented.  This is usually the result of calling `frame.insert` many times, which has poor performance.  Consider joining all columns at once using pd.concat(axis=1) instead. To get a de-fragmented frame, use `newframe = frame.copy()`\n",
      "  df_Q1[\"y_real\"+\"day_\"+str(day_i)+\"stcd_\"+str(stcd_i)]=y_real\n",
      "C:\\Users\\39362\\AppData\\Local\\Temp\\ipykernel_20892\\2228661037.py:78: PerformanceWarning: DataFrame is highly fragmented.  This is usually the result of calling `frame.insert` many times, which has poor performance.  Consider joining all columns at once using pd.concat(axis=1) instead. To get a de-fragmented frame, use `newframe = frame.copy()`\n",
      "  df_Q1[\"y_hat\"+\"day_\"+str(day_i)+\"stcd_\"+str(stcd_i)]=y_hat\n",
      "C:\\Users\\39362\\AppData\\Local\\Temp\\ipykernel_20892\\2228661037.py:79: PerformanceWarning: DataFrame is highly fragmented.  This is usually the result of calling `frame.insert` many times, which has poor performance.  Consider joining all columns at once using pd.concat(axis=1) instead. To get a de-fragmented frame, use `newframe = frame.copy()`\n",
      "  df_Q1[\"y_real\"+\"day_\"+str(day_i)+\"stcd_\"+str(stcd_i)]=y_real\n",
      "C:\\Users\\39362\\AppData\\Local\\Temp\\ipykernel_20892\\2228661037.py:78: PerformanceWarning: DataFrame is highly fragmented.  This is usually the result of calling `frame.insert` many times, which has poor performance.  Consider joining all columns at once using pd.concat(axis=1) instead. To get a de-fragmented frame, use `newframe = frame.copy()`\n",
      "  df_Q1[\"y_hat\"+\"day_\"+str(day_i)+\"stcd_\"+str(stcd_i)]=y_hat\n",
      "C:\\Users\\39362\\AppData\\Local\\Temp\\ipykernel_20892\\2228661037.py:79: PerformanceWarning: DataFrame is highly fragmented.  This is usually the result of calling `frame.insert` many times, which has poor performance.  Consider joining all columns at once using pd.concat(axis=1) instead. To get a de-fragmented frame, use `newframe = frame.copy()`\n",
      "  df_Q1[\"y_real\"+\"day_\"+str(day_i)+\"stcd_\"+str(stcd_i)]=y_real\n",
      "C:\\Users\\39362\\AppData\\Local\\Temp\\ipykernel_20892\\2228661037.py:78: PerformanceWarning: DataFrame is highly fragmented.  This is usually the result of calling `frame.insert` many times, which has poor performance.  Consider joining all columns at once using pd.concat(axis=1) instead. To get a de-fragmented frame, use `newframe = frame.copy()`\n",
      "  df_Q1[\"y_hat\"+\"day_\"+str(day_i)+\"stcd_\"+str(stcd_i)]=y_hat\n",
      "C:\\Users\\39362\\AppData\\Local\\Temp\\ipykernel_20892\\2228661037.py:79: PerformanceWarning: DataFrame is highly fragmented.  This is usually the result of calling `frame.insert` many times, which has poor performance.  Consider joining all columns at once using pd.concat(axis=1) instead. To get a de-fragmented frame, use `newframe = frame.copy()`\n",
      "  df_Q1[\"y_real\"+\"day_\"+str(day_i)+\"stcd_\"+str(stcd_i)]=y_real\n",
      "C:\\Users\\39362\\AppData\\Local\\Temp\\ipykernel_20892\\2228661037.py:78: PerformanceWarning: DataFrame is highly fragmented.  This is usually the result of calling `frame.insert` many times, which has poor performance.  Consider joining all columns at once using pd.concat(axis=1) instead. To get a de-fragmented frame, use `newframe = frame.copy()`\n",
      "  df_Q1[\"y_hat\"+\"day_\"+str(day_i)+\"stcd_\"+str(stcd_i)]=y_hat\n",
      "C:\\Users\\39362\\AppData\\Local\\Temp\\ipykernel_20892\\2228661037.py:79: PerformanceWarning: DataFrame is highly fragmented.  This is usually the result of calling `frame.insert` many times, which has poor performance.  Consider joining all columns at once using pd.concat(axis=1) instead. To get a de-fragmented frame, use `newframe = frame.copy()`\n",
      "  df_Q1[\"y_real\"+\"day_\"+str(day_i)+\"stcd_\"+str(stcd_i)]=y_real\n",
      "C:\\Users\\39362\\AppData\\Local\\Temp\\ipykernel_20892\\2228661037.py:78: PerformanceWarning: DataFrame is highly fragmented.  This is usually the result of calling `frame.insert` many times, which has poor performance.  Consider joining all columns at once using pd.concat(axis=1) instead. To get a de-fragmented frame, use `newframe = frame.copy()`\n",
      "  df_Q1[\"y_hat\"+\"day_\"+str(day_i)+\"stcd_\"+str(stcd_i)]=y_hat\n",
      "C:\\Users\\39362\\AppData\\Local\\Temp\\ipykernel_20892\\2228661037.py:79: PerformanceWarning: DataFrame is highly fragmented.  This is usually the result of calling `frame.insert` many times, which has poor performance.  Consider joining all columns at once using pd.concat(axis=1) instead. To get a de-fragmented frame, use `newframe = frame.copy()`\n",
      "  df_Q1[\"y_real\"+\"day_\"+str(day_i)+\"stcd_\"+str(stcd_i)]=y_real\n",
      "C:\\Users\\39362\\AppData\\Local\\Temp\\ipykernel_20892\\2228661037.py:78: PerformanceWarning: DataFrame is highly fragmented.  This is usually the result of calling `frame.insert` many times, which has poor performance.  Consider joining all columns at once using pd.concat(axis=1) instead. To get a de-fragmented frame, use `newframe = frame.copy()`\n",
      "  df_Q1[\"y_hat\"+\"day_\"+str(day_i)+\"stcd_\"+str(stcd_i)]=y_hat\n",
      "C:\\Users\\39362\\AppData\\Local\\Temp\\ipykernel_20892\\2228661037.py:79: PerformanceWarning: DataFrame is highly fragmented.  This is usually the result of calling `frame.insert` many times, which has poor performance.  Consider joining all columns at once using pd.concat(axis=1) instead. To get a de-fragmented frame, use `newframe = frame.copy()`\n",
      "  df_Q1[\"y_real\"+\"day_\"+str(day_i)+\"stcd_\"+str(stcd_i)]=y_real\n",
      "C:\\Users\\39362\\AppData\\Local\\Temp\\ipykernel_20892\\2228661037.py:78: PerformanceWarning: DataFrame is highly fragmented.  This is usually the result of calling `frame.insert` many times, which has poor performance.  Consider joining all columns at once using pd.concat(axis=1) instead. To get a de-fragmented frame, use `newframe = frame.copy()`\n",
      "  df_Q1[\"y_hat\"+\"day_\"+str(day_i)+\"stcd_\"+str(stcd_i)]=y_hat\n",
      "C:\\Users\\39362\\AppData\\Local\\Temp\\ipykernel_20892\\2228661037.py:79: PerformanceWarning: DataFrame is highly fragmented.  This is usually the result of calling `frame.insert` many times, which has poor performance.  Consider joining all columns at once using pd.concat(axis=1) instead. To get a de-fragmented frame, use `newframe = frame.copy()`\n",
      "  df_Q1[\"y_real\"+\"day_\"+str(day_i)+\"stcd_\"+str(stcd_i)]=y_real\n",
      "C:\\Users\\39362\\AppData\\Local\\Temp\\ipykernel_20892\\2228661037.py:78: PerformanceWarning: DataFrame is highly fragmented.  This is usually the result of calling `frame.insert` many times, which has poor performance.  Consider joining all columns at once using pd.concat(axis=1) instead. To get a de-fragmented frame, use `newframe = frame.copy()`\n",
      "  df_Q1[\"y_hat\"+\"day_\"+str(day_i)+\"stcd_\"+str(stcd_i)]=y_hat\n",
      "C:\\Users\\39362\\AppData\\Local\\Temp\\ipykernel_20892\\2228661037.py:79: PerformanceWarning: DataFrame is highly fragmented.  This is usually the result of calling `frame.insert` many times, which has poor performance.  Consider joining all columns at once using pd.concat(axis=1) instead. To get a de-fragmented frame, use `newframe = frame.copy()`\n",
      "  df_Q1[\"y_real\"+\"day_\"+str(day_i)+\"stcd_\"+str(stcd_i)]=y_real\n",
      "C:\\Users\\39362\\AppData\\Local\\Temp\\ipykernel_20892\\2228661037.py:78: PerformanceWarning: DataFrame is highly fragmented.  This is usually the result of calling `frame.insert` many times, which has poor performance.  Consider joining all columns at once using pd.concat(axis=1) instead. To get a de-fragmented frame, use `newframe = frame.copy()`\n",
      "  df_Q1[\"y_hat\"+\"day_\"+str(day_i)+\"stcd_\"+str(stcd_i)]=y_hat\n",
      "C:\\Users\\39362\\AppData\\Local\\Temp\\ipykernel_20892\\2228661037.py:79: PerformanceWarning: DataFrame is highly fragmented.  This is usually the result of calling `frame.insert` many times, which has poor performance.  Consider joining all columns at once using pd.concat(axis=1) instead. To get a de-fragmented frame, use `newframe = frame.copy()`\n",
      "  df_Q1[\"y_real\"+\"day_\"+str(day_i)+\"stcd_\"+str(stcd_i)]=y_real\n",
      "C:\\Users\\39362\\AppData\\Local\\Temp\\ipykernel_20892\\2228661037.py:78: PerformanceWarning: DataFrame is highly fragmented.  This is usually the result of calling `frame.insert` many times, which has poor performance.  Consider joining all columns at once using pd.concat(axis=1) instead. To get a de-fragmented frame, use `newframe = frame.copy()`\n",
      "  df_Q1[\"y_hat\"+\"day_\"+str(day_i)+\"stcd_\"+str(stcd_i)]=y_hat\n",
      "C:\\Users\\39362\\AppData\\Local\\Temp\\ipykernel_20892\\2228661037.py:79: PerformanceWarning: DataFrame is highly fragmented.  This is usually the result of calling `frame.insert` many times, which has poor performance.  Consider joining all columns at once using pd.concat(axis=1) instead. To get a de-fragmented frame, use `newframe = frame.copy()`\n",
      "  df_Q1[\"y_real\"+\"day_\"+str(day_i)+\"stcd_\"+str(stcd_i)]=y_real\n",
      "C:\\Users\\39362\\AppData\\Local\\Temp\\ipykernel_20892\\2228661037.py:78: PerformanceWarning: DataFrame is highly fragmented.  This is usually the result of calling `frame.insert` many times, which has poor performance.  Consider joining all columns at once using pd.concat(axis=1) instead. To get a de-fragmented frame, use `newframe = frame.copy()`\n",
      "  df_Q1[\"y_hat\"+\"day_\"+str(day_i)+\"stcd_\"+str(stcd_i)]=y_hat\n",
      "C:\\Users\\39362\\AppData\\Local\\Temp\\ipykernel_20892\\2228661037.py:79: PerformanceWarning: DataFrame is highly fragmented.  This is usually the result of calling `frame.insert` many times, which has poor performance.  Consider joining all columns at once using pd.concat(axis=1) instead. To get a de-fragmented frame, use `newframe = frame.copy()`\n",
      "  df_Q1[\"y_real\"+\"day_\"+str(day_i)+\"stcd_\"+str(stcd_i)]=y_real\n",
      "C:\\Users\\39362\\AppData\\Local\\Temp\\ipykernel_20892\\2228661037.py:78: PerformanceWarning: DataFrame is highly fragmented.  This is usually the result of calling `frame.insert` many times, which has poor performance.  Consider joining all columns at once using pd.concat(axis=1) instead. To get a de-fragmented frame, use `newframe = frame.copy()`\n",
      "  df_Q1[\"y_hat\"+\"day_\"+str(day_i)+\"stcd_\"+str(stcd_i)]=y_hat\n",
      "C:\\Users\\39362\\AppData\\Local\\Temp\\ipykernel_20892\\2228661037.py:79: PerformanceWarning: DataFrame is highly fragmented.  This is usually the result of calling `frame.insert` many times, which has poor performance.  Consider joining all columns at once using pd.concat(axis=1) instead. To get a de-fragmented frame, use `newframe = frame.copy()`\n",
      "  df_Q1[\"y_real\"+\"day_\"+str(day_i)+\"stcd_\"+str(stcd_i)]=y_real\n",
      "C:\\Users\\39362\\AppData\\Local\\Temp\\ipykernel_20892\\2228661037.py:78: PerformanceWarning: DataFrame is highly fragmented.  This is usually the result of calling `frame.insert` many times, which has poor performance.  Consider joining all columns at once using pd.concat(axis=1) instead. To get a de-fragmented frame, use `newframe = frame.copy()`\n",
      "  df_Q1[\"y_hat\"+\"day_\"+str(day_i)+\"stcd_\"+str(stcd_i)]=y_hat\n",
      "C:\\Users\\39362\\AppData\\Local\\Temp\\ipykernel_20892\\2228661037.py:79: PerformanceWarning: DataFrame is highly fragmented.  This is usually the result of calling `frame.insert` many times, which has poor performance.  Consider joining all columns at once using pd.concat(axis=1) instead. To get a de-fragmented frame, use `newframe = frame.copy()`\n",
      "  df_Q1[\"y_real\"+\"day_\"+str(day_i)+\"stcd_\"+str(stcd_i)]=y_real\n",
      "C:\\Users\\39362\\AppData\\Local\\Temp\\ipykernel_20892\\2228661037.py:78: PerformanceWarning: DataFrame is highly fragmented.  This is usually the result of calling `frame.insert` many times, which has poor performance.  Consider joining all columns at once using pd.concat(axis=1) instead. To get a de-fragmented frame, use `newframe = frame.copy()`\n",
      "  df_Q1[\"y_hat\"+\"day_\"+str(day_i)+\"stcd_\"+str(stcd_i)]=y_hat\n",
      "C:\\Users\\39362\\AppData\\Local\\Temp\\ipykernel_20892\\2228661037.py:79: PerformanceWarning: DataFrame is highly fragmented.  This is usually the result of calling `frame.insert` many times, which has poor performance.  Consider joining all columns at once using pd.concat(axis=1) instead. To get a de-fragmented frame, use `newframe = frame.copy()`\n",
      "  df_Q1[\"y_real\"+\"day_\"+str(day_i)+\"stcd_\"+str(stcd_i)]=y_real\n",
      "C:\\Users\\39362\\AppData\\Local\\Temp\\ipykernel_20892\\2228661037.py:78: PerformanceWarning: DataFrame is highly fragmented.  This is usually the result of calling `frame.insert` many times, which has poor performance.  Consider joining all columns at once using pd.concat(axis=1) instead. To get a de-fragmented frame, use `newframe = frame.copy()`\n",
      "  df_Q1[\"y_hat\"+\"day_\"+str(day_i)+\"stcd_\"+str(stcd_i)]=y_hat\n",
      "C:\\Users\\39362\\AppData\\Local\\Temp\\ipykernel_20892\\2228661037.py:79: PerformanceWarning: DataFrame is highly fragmented.  This is usually the result of calling `frame.insert` many times, which has poor performance.  Consider joining all columns at once using pd.concat(axis=1) instead. To get a de-fragmented frame, use `newframe = frame.copy()`\n",
      "  df_Q1[\"y_real\"+\"day_\"+str(day_i)+\"stcd_\"+str(stcd_i)]=y_real\n",
      "C:\\Users\\39362\\AppData\\Local\\Temp\\ipykernel_20892\\2228661037.py:78: PerformanceWarning: DataFrame is highly fragmented.  This is usually the result of calling `frame.insert` many times, which has poor performance.  Consider joining all columns at once using pd.concat(axis=1) instead. To get a de-fragmented frame, use `newframe = frame.copy()`\n",
      "  df_Q1[\"y_hat\"+\"day_\"+str(day_i)+\"stcd_\"+str(stcd_i)]=y_hat\n",
      "C:\\Users\\39362\\AppData\\Local\\Temp\\ipykernel_20892\\2228661037.py:79: PerformanceWarning: DataFrame is highly fragmented.  This is usually the result of calling `frame.insert` many times, which has poor performance.  Consider joining all columns at once using pd.concat(axis=1) instead. To get a de-fragmented frame, use `newframe = frame.copy()`\n",
      "  df_Q1[\"y_real\"+\"day_\"+str(day_i)+\"stcd_\"+str(stcd_i)]=y_real\n",
      "C:\\Users\\39362\\AppData\\Local\\Temp\\ipykernel_20892\\2228661037.py:78: PerformanceWarning: DataFrame is highly fragmented.  This is usually the result of calling `frame.insert` many times, which has poor performance.  Consider joining all columns at once using pd.concat(axis=1) instead. To get a de-fragmented frame, use `newframe = frame.copy()`\n",
      "  df_Q1[\"y_hat\"+\"day_\"+str(day_i)+\"stcd_\"+str(stcd_i)]=y_hat\n",
      "C:\\Users\\39362\\AppData\\Local\\Temp\\ipykernel_20892\\2228661037.py:79: PerformanceWarning: DataFrame is highly fragmented.  This is usually the result of calling `frame.insert` many times, which has poor performance.  Consider joining all columns at once using pd.concat(axis=1) instead. To get a de-fragmented frame, use `newframe = frame.copy()`\n",
      "  df_Q1[\"y_real\"+\"day_\"+str(day_i)+\"stcd_\"+str(stcd_i)]=y_real\n",
      "C:\\Users\\39362\\AppData\\Local\\Temp\\ipykernel_20892\\2228661037.py:78: PerformanceWarning: DataFrame is highly fragmented.  This is usually the result of calling `frame.insert` many times, which has poor performance.  Consider joining all columns at once using pd.concat(axis=1) instead. To get a de-fragmented frame, use `newframe = frame.copy()`\n",
      "  df_Q1[\"y_hat\"+\"day_\"+str(day_i)+\"stcd_\"+str(stcd_i)]=y_hat\n",
      "C:\\Users\\39362\\AppData\\Local\\Temp\\ipykernel_20892\\2228661037.py:79: PerformanceWarning: DataFrame is highly fragmented.  This is usually the result of calling `frame.insert` many times, which has poor performance.  Consider joining all columns at once using pd.concat(axis=1) instead. To get a de-fragmented frame, use `newframe = frame.copy()`\n",
      "  df_Q1[\"y_real\"+\"day_\"+str(day_i)+\"stcd_\"+str(stcd_i)]=y_real\n",
      "C:\\Users\\39362\\AppData\\Local\\Temp\\ipykernel_20892\\2228661037.py:78: PerformanceWarning: DataFrame is highly fragmented.  This is usually the result of calling `frame.insert` many times, which has poor performance.  Consider joining all columns at once using pd.concat(axis=1) instead. To get a de-fragmented frame, use `newframe = frame.copy()`\n",
      "  df_Q1[\"y_hat\"+\"day_\"+str(day_i)+\"stcd_\"+str(stcd_i)]=y_hat\n",
      "C:\\Users\\39362\\AppData\\Local\\Temp\\ipykernel_20892\\2228661037.py:79: PerformanceWarning: DataFrame is highly fragmented.  This is usually the result of calling `frame.insert` many times, which has poor performance.  Consider joining all columns at once using pd.concat(axis=1) instead. To get a de-fragmented frame, use `newframe = frame.copy()`\n",
      "  df_Q1[\"y_real\"+\"day_\"+str(day_i)+\"stcd_\"+str(stcd_i)]=y_real\n",
      "C:\\Users\\39362\\AppData\\Local\\Temp\\ipykernel_20892\\2228661037.py:78: PerformanceWarning: DataFrame is highly fragmented.  This is usually the result of calling `frame.insert` many times, which has poor performance.  Consider joining all columns at once using pd.concat(axis=1) instead. To get a de-fragmented frame, use `newframe = frame.copy()`\n",
      "  df_Q1[\"y_hat\"+\"day_\"+str(day_i)+\"stcd_\"+str(stcd_i)]=y_hat\n",
      "C:\\Users\\39362\\AppData\\Local\\Temp\\ipykernel_20892\\2228661037.py:79: PerformanceWarning: DataFrame is highly fragmented.  This is usually the result of calling `frame.insert` many times, which has poor performance.  Consider joining all columns at once using pd.concat(axis=1) instead. To get a de-fragmented frame, use `newframe = frame.copy()`\n",
      "  df_Q1[\"y_real\"+\"day_\"+str(day_i)+\"stcd_\"+str(stcd_i)]=y_real\n",
      "C:\\Users\\39362\\AppData\\Local\\Temp\\ipykernel_20892\\2228661037.py:78: PerformanceWarning: DataFrame is highly fragmented.  This is usually the result of calling `frame.insert` many times, which has poor performance.  Consider joining all columns at once using pd.concat(axis=1) instead. To get a de-fragmented frame, use `newframe = frame.copy()`\n",
      "  df_Q1[\"y_hat\"+\"day_\"+str(day_i)+\"stcd_\"+str(stcd_i)]=y_hat\n",
      "C:\\Users\\39362\\AppData\\Local\\Temp\\ipykernel_20892\\2228661037.py:79: PerformanceWarning: DataFrame is highly fragmented.  This is usually the result of calling `frame.insert` many times, which has poor performance.  Consider joining all columns at once using pd.concat(axis=1) instead. To get a de-fragmented frame, use `newframe = frame.copy()`\n",
      "  df_Q1[\"y_real\"+\"day_\"+str(day_i)+\"stcd_\"+str(stcd_i)]=y_real\n",
      "C:\\Users\\39362\\AppData\\Local\\Temp\\ipykernel_20892\\2228661037.py:78: PerformanceWarning: DataFrame is highly fragmented.  This is usually the result of calling `frame.insert` many times, which has poor performance.  Consider joining all columns at once using pd.concat(axis=1) instead. To get a de-fragmented frame, use `newframe = frame.copy()`\n",
      "  df_Q1[\"y_hat\"+\"day_\"+str(day_i)+\"stcd_\"+str(stcd_i)]=y_hat\n",
      "C:\\Users\\39362\\AppData\\Local\\Temp\\ipykernel_20892\\2228661037.py:79: PerformanceWarning: DataFrame is highly fragmented.  This is usually the result of calling `frame.insert` many times, which has poor performance.  Consider joining all columns at once using pd.concat(axis=1) instead. To get a de-fragmented frame, use `newframe = frame.copy()`\n",
      "  df_Q1[\"y_real\"+\"day_\"+str(day_i)+\"stcd_\"+str(stcd_i)]=y_real\n",
      "C:\\Users\\39362\\AppData\\Local\\Temp\\ipykernel_20892\\2228661037.py:78: PerformanceWarning: DataFrame is highly fragmented.  This is usually the result of calling `frame.insert` many times, which has poor performance.  Consider joining all columns at once using pd.concat(axis=1) instead. To get a de-fragmented frame, use `newframe = frame.copy()`\n",
      "  df_Q1[\"y_hat\"+\"day_\"+str(day_i)+\"stcd_\"+str(stcd_i)]=y_hat\n",
      "C:\\Users\\39362\\AppData\\Local\\Temp\\ipykernel_20892\\2228661037.py:79: PerformanceWarning: DataFrame is highly fragmented.  This is usually the result of calling `frame.insert` many times, which has poor performance.  Consider joining all columns at once using pd.concat(axis=1) instead. To get a de-fragmented frame, use `newframe = frame.copy()`\n",
      "  df_Q1[\"y_real\"+\"day_\"+str(day_i)+\"stcd_\"+str(stcd_i)]=y_real\n",
      "C:\\Users\\39362\\AppData\\Local\\Temp\\ipykernel_20892\\2228661037.py:78: PerformanceWarning: DataFrame is highly fragmented.  This is usually the result of calling `frame.insert` many times, which has poor performance.  Consider joining all columns at once using pd.concat(axis=1) instead. To get a de-fragmented frame, use `newframe = frame.copy()`\n",
      "  df_Q1[\"y_hat\"+\"day_\"+str(day_i)+\"stcd_\"+str(stcd_i)]=y_hat\n",
      "C:\\Users\\39362\\AppData\\Local\\Temp\\ipykernel_20892\\2228661037.py:79: PerformanceWarning: DataFrame is highly fragmented.  This is usually the result of calling `frame.insert` many times, which has poor performance.  Consider joining all columns at once using pd.concat(axis=1) instead. To get a de-fragmented frame, use `newframe = frame.copy()`\n",
      "  df_Q1[\"y_real\"+\"day_\"+str(day_i)+\"stcd_\"+str(stcd_i)]=y_real\n",
      "C:\\Users\\39362\\AppData\\Local\\Temp\\ipykernel_20892\\2228661037.py:78: PerformanceWarning: DataFrame is highly fragmented.  This is usually the result of calling `frame.insert` many times, which has poor performance.  Consider joining all columns at once using pd.concat(axis=1) instead. To get a de-fragmented frame, use `newframe = frame.copy()`\n",
      "  df_Q1[\"y_hat\"+\"day_\"+str(day_i)+\"stcd_\"+str(stcd_i)]=y_hat\n",
      "C:\\Users\\39362\\AppData\\Local\\Temp\\ipykernel_20892\\2228661037.py:79: PerformanceWarning: DataFrame is highly fragmented.  This is usually the result of calling `frame.insert` many times, which has poor performance.  Consider joining all columns at once using pd.concat(axis=1) instead. To get a de-fragmented frame, use `newframe = frame.copy()`\n",
      "  df_Q1[\"y_real\"+\"day_\"+str(day_i)+\"stcd_\"+str(stcd_i)]=y_real\n",
      "C:\\Users\\39362\\AppData\\Local\\Temp\\ipykernel_20892\\2228661037.py:78: PerformanceWarning: DataFrame is highly fragmented.  This is usually the result of calling `frame.insert` many times, which has poor performance.  Consider joining all columns at once using pd.concat(axis=1) instead. To get a de-fragmented frame, use `newframe = frame.copy()`\n",
      "  df_Q1[\"y_hat\"+\"day_\"+str(day_i)+\"stcd_\"+str(stcd_i)]=y_hat\n",
      "C:\\Users\\39362\\AppData\\Local\\Temp\\ipykernel_20892\\2228661037.py:79: PerformanceWarning: DataFrame is highly fragmented.  This is usually the result of calling `frame.insert` many times, which has poor performance.  Consider joining all columns at once using pd.concat(axis=1) instead. To get a de-fragmented frame, use `newframe = frame.copy()`\n",
      "  df_Q1[\"y_real\"+\"day_\"+str(day_i)+\"stcd_\"+str(stcd_i)]=y_real\n",
      "C:\\Users\\39362\\AppData\\Local\\Temp\\ipykernel_20892\\2228661037.py:78: PerformanceWarning: DataFrame is highly fragmented.  This is usually the result of calling `frame.insert` many times, which has poor performance.  Consider joining all columns at once using pd.concat(axis=1) instead. To get a de-fragmented frame, use `newframe = frame.copy()`\n",
      "  df_Q1[\"y_hat\"+\"day_\"+str(day_i)+\"stcd_\"+str(stcd_i)]=y_hat\n",
      "C:\\Users\\39362\\AppData\\Local\\Temp\\ipykernel_20892\\2228661037.py:79: PerformanceWarning: DataFrame is highly fragmented.  This is usually the result of calling `frame.insert` many times, which has poor performance.  Consider joining all columns at once using pd.concat(axis=1) instead. To get a de-fragmented frame, use `newframe = frame.copy()`\n",
      "  df_Q1[\"y_real\"+\"day_\"+str(day_i)+\"stcd_\"+str(stcd_i)]=y_real\n",
      "C:\\Users\\39362\\AppData\\Local\\Temp\\ipykernel_20892\\2228661037.py:78: PerformanceWarning: DataFrame is highly fragmented.  This is usually the result of calling `frame.insert` many times, which has poor performance.  Consider joining all columns at once using pd.concat(axis=1) instead. To get a de-fragmented frame, use `newframe = frame.copy()`\n",
      "  df_Q1[\"y_hat\"+\"day_\"+str(day_i)+\"stcd_\"+str(stcd_i)]=y_hat\n",
      "C:\\Users\\39362\\AppData\\Local\\Temp\\ipykernel_20892\\2228661037.py:79: PerformanceWarning: DataFrame is highly fragmented.  This is usually the result of calling `frame.insert` many times, which has poor performance.  Consider joining all columns at once using pd.concat(axis=1) instead. To get a de-fragmented frame, use `newframe = frame.copy()`\n",
      "  df_Q1[\"y_real\"+\"day_\"+str(day_i)+\"stcd_\"+str(stcd_i)]=y_real\n"
     ]
    },
    {
     "name": "stdout",
     "output_type": "stream",
     "text": [
      "        NSE1         MAPE1    SMAPE1       RMSE1     Corr1         STD1  \\\n",
      "0   0.815510  1.049940e+08  0.109417   42.347208  0.927781    71.312363   \n",
      "1   0.459571  4.645389e-01  0.103838  160.597502  0.849722    74.334404   \n",
      "2   0.706623  6.053421e-01  0.110751   85.853415  0.860786   107.591774   \n",
      "3   0.588918  1.008078e+01  0.204694  701.402883  0.802609  1004.395386   \n",
      "4   0.845363  6.197139e-01  0.090929  232.728542  0.921118   515.192200   \n",
      "5   0.725194  2.361879e+08  0.094119   32.192610  0.883597    40.283100   \n",
      "6   0.726085  1.864600e+08  0.080803   27.680921  0.868594    37.407051   \n",
      "7   0.824388  3.803768e-01  0.073521  369.424366  0.926768   659.202515   \n",
      "8   0.849933  3.165922e-01  0.068773  395.954198  0.945259   780.571533   \n",
      "9   0.786643  1.076462e+00  0.102212   61.279432  0.904272    97.640572   \n",
      "10  0.881778  3.646983e-01  0.068723  351.440264  0.951472   829.101746   \n",
      "11  0.724275  1.278649e+00  0.132409  116.551917  0.888801   143.747192   \n",
      "12  0.789384  5.672891e-01  0.105110    9.576431  0.900678    15.710736   \n",
      "13  0.853491  8.003462e-01  0.088097  527.439810  0.925589  1237.557007   \n",
      "14  0.823190  1.740565e-01  0.039662  328.726369  0.909540   673.796631   \n",
      "15  0.831379  2.095727e-01  0.046035  309.615975  0.917434   656.220154   \n",
      "16  0.518474  1.389991e+00  0.158749   19.095325  0.723915    21.793341   \n",
      "17  0.681185  4.693079e-01  0.110777   39.026243  0.840356    67.647881   \n",
      "18  0.750265  8.567495e-01  0.137157   51.043574  0.869047    82.102921   \n",
      "19  0.929916  1.091927e-01  0.025909  300.528867  0.967966  1004.229370   \n",
      "20  0.724466  6.893516e-01  0.094224   32.149186  0.882649    40.249748   \n",
      "21  0.824986  3.735205e-01  0.072888  368.035216  0.926982   658.557251   \n",
      "22  0.853978  7.209447e-01  0.086833  524.286352  0.925819  1232.684937   \n",
      "23  0.831359  2.096090e-01  0.046041  309.633195  0.917424   656.215637   \n",
      "24  0.518192  1.408805e+00  0.158712   19.083981  0.723791    21.790691   \n",
      "\n",
      "          MEAN1      NSE2         MAPE2    SMAPE2  ...     Corr6         STD6  \\\n",
      "0     31.099104  0.805264  1.227845e+08  0.108104  ...  0.842763    57.235867   \n",
      "1     35.121681  0.443239  4.864718e-01  0.101024  ...  0.774111    56.714054   \n",
      "2     82.742592  0.697601  6.081321e-01  0.110201  ...  0.750038    99.845772   \n",
      "3    845.898376  0.604314  1.018473e+01  0.203989  ...  0.762052   950.781006   \n",
      "4    344.370148  0.842948  7.162293e-01  0.091118  ...  0.843062   456.682068   \n",
      "5     38.701828  0.705663  2.687456e+08  0.094942  ...  0.749795    35.178493   \n",
      "6     31.247360  0.695836  2.146887e+08  0.082932  ...  0.713023    30.786180   \n",
      "7    550.461426  0.819512  4.119598e-01  0.076680  ...  0.809991   614.588379   \n",
      "8    609.871399  0.847029  3.213724e-01  0.069899  ...  0.844840   722.882751   \n",
      "9     60.524910  0.767964  1.068597e+00  0.095985  ...  0.771322    79.550224   \n",
      "10   651.875061  0.877624  3.670790e-01  0.068585  ...  0.816149   801.930847   \n",
      "11   136.490662  0.705968  1.303704e+00  0.133487  ...  0.806678   140.514557   \n",
      "12     9.131512  0.783332  5.810699e-01  0.104588  ...  0.780890    12.470147   \n",
      "13   962.093994  0.849498  8.346698e-01  0.090634  ...  0.815091  1289.734985   \n",
      "14   824.934143  0.813860  1.717017e-01  0.039307  ...  0.822962   623.493652   \n",
      "15   825.360901  0.825410  1.986399e-01  0.043749  ...  0.853379   619.708069   \n",
      "16    11.867683  0.525282  1.472123e+00  0.162189  ...  0.555670    23.835432   \n",
      "17    38.542809  0.686717  4.624129e-01  0.106926  ...  0.755311    83.921722   \n",
      "18    28.962709  0.749627  8.600959e-01  0.153126  ...  0.738672    87.629288   \n",
      "19  1123.674927  0.925829  9.575457e-02  0.022879  ...  0.906272  1095.392822   \n",
      "20    38.694477  0.704835  7.136432e-01  0.095075  ...  0.749241    35.138393   \n",
      "21   550.394836  0.820043  4.050115e-01  0.076126  ...  0.810566   613.810181   \n",
      "22   962.506409  0.850094  7.494100e-01  0.089339  ...  0.815579  1284.124756   \n",
      "23   825.361450  0.825396  1.986584e-01  0.043751  ...  0.853383   619.703491   \n",
      "24    11.865843  0.524919  1.488455e+00  0.162650  ...  0.556071    23.828802   \n",
      "\n",
      "          MEAN6      NSE7         MAPE7    SMAPE7       RMSE7     Corr7  \\\n",
      "0     28.826517  0.627635  4.648253e+07  0.140387   60.161063  0.844592   \n",
      "1     28.350958  0.348802  5.083519e-01  0.141372  176.291136  0.801383   \n",
      "2     82.290504  0.532068  7.473487e-01  0.132459  108.422187  0.741183   \n",
      "3    847.565613  0.489588  1.127177e+01  0.200910  781.257580  0.725226   \n",
      "4    318.165009  0.678505  1.131017e+00  0.128126  335.563666  0.829201   \n",
      "5     36.849979  0.494637  2.103853e+08  0.117426   43.684504  0.724852   \n",
      "6     29.347372  0.474684  2.447711e+08  0.107390   38.335485  0.703139   \n",
      "7    530.441406  0.615622  5.487047e-01  0.100680  546.446816  0.792325   \n",
      "8    593.248352  0.670980  5.427146e-01  0.100504  586.463844  0.830825   \n",
      "9     57.527069  0.580573  1.104875e+00  0.102209   85.900421  0.782845   \n",
      "10   649.144531  0.639837  6.479676e-01  0.103911  613.591748  0.801634   \n",
      "11   131.268143  0.584421  1.628860e+00  0.152891  143.027270  0.789141   \n",
      "12     8.982684  0.560011  6.652762e-01  0.108717   13.842241  0.761418   \n",
      "13   955.405579  0.643975  1.110685e+00  0.111176  822.472691  0.811877   \n",
      "14   832.228577  0.618833  2.326903e-01  0.050256  482.657389  0.790468   \n",
      "15   844.419189  0.663606  2.602244e-01  0.055130  437.292461  0.823790   \n",
      "16    14.134489  0.174632  2.294078e+00  0.170591   24.996804  0.537775   \n",
      "17    44.896305  0.209868  5.651881e-01  0.093166   61.432737  0.704070   \n",
      "18    33.903606  0.501544  1.571729e+00  0.132985   72.108905  0.721344   \n",
      "19  1193.966797  0.781769  1.794059e-01  0.040851  530.244854  0.890696   \n",
      "20    36.844688  0.494562  9.902331e-01  0.117370   43.570376  0.724591   \n",
      "21   530.420654  0.616737  5.415136e-01  0.100200  544.532093  0.793063   \n",
      "22   955.842224  0.644926  1.001880e+00  0.109816  817.822601  0.812353   \n",
      "23   844.419861  0.663628  2.602437e-01  0.055131  437.277416  0.823802   \n",
      "24    14.131184  0.174648  2.306297e+00  0.170889   24.974253  0.537985   \n",
      "\n",
      "           STD7        MEAN7  \n",
      "0     55.576416    28.769270  \n",
      "1     58.398167    27.123735  \n",
      "2     97.810196    81.378510  \n",
      "3    907.129211   797.608459  \n",
      "4    454.379700   315.052948  \n",
      "5     35.245037    36.838531  \n",
      "6     30.865479    29.900269  \n",
      "7    621.087830   535.884216  \n",
      "8    758.324768   605.637756  \n",
      "9     82.094925    57.788879  \n",
      "10   812.348145   661.127258  \n",
      "11   136.876724   134.328949  \n",
      "12    12.957172     9.107202  \n",
      "13  1277.884033   969.436279  \n",
      "14   653.377380   840.891785  \n",
      "15   648.181091   845.995728  \n",
      "16    23.945663    14.465717  \n",
      "17    85.544930    46.036198  \n",
      "18    87.482101    34.065922  \n",
      "19  1118.684204  1170.491577  \n",
      "20    35.204014    36.834255  \n",
      "21   620.246155   535.849060  \n",
      "22  1272.239136   969.794861  \n",
      "23   648.176270   845.996155  \n",
      "24    23.938866    14.462599  \n",
      "\n",
      "[25 rows x 49 columns]\n"
     ]
    },
    {
     "name": "stderr",
     "output_type": "stream",
     "text": [
      "C:\\Users\\39362\\AppData\\Local\\Temp\\ipykernel_20892\\2228661037.py:78: PerformanceWarning: DataFrame is highly fragmented.  This is usually the result of calling `frame.insert` many times, which has poor performance.  Consider joining all columns at once using pd.concat(axis=1) instead. To get a de-fragmented frame, use `newframe = frame.copy()`\n",
      "  df_Q1[\"y_hat\"+\"day_\"+str(day_i)+\"stcd_\"+str(stcd_i)]=y_hat\n",
      "C:\\Users\\39362\\AppData\\Local\\Temp\\ipykernel_20892\\2228661037.py:79: PerformanceWarning: DataFrame is highly fragmented.  This is usually the result of calling `frame.insert` many times, which has poor performance.  Consider joining all columns at once using pd.concat(axis=1) instead. To get a de-fragmented frame, use `newframe = frame.copy()`\n",
      "  df_Q1[\"y_real\"+\"day_\"+str(day_i)+\"stcd_\"+str(stcd_i)]=y_real\n",
      "C:\\Users\\39362\\AppData\\Local\\Temp\\ipykernel_20892\\2228661037.py:78: PerformanceWarning: DataFrame is highly fragmented.  This is usually the result of calling `frame.insert` many times, which has poor performance.  Consider joining all columns at once using pd.concat(axis=1) instead. To get a de-fragmented frame, use `newframe = frame.copy()`\n",
      "  df_Q1[\"y_hat\"+\"day_\"+str(day_i)+\"stcd_\"+str(stcd_i)]=y_hat\n",
      "C:\\Users\\39362\\AppData\\Local\\Temp\\ipykernel_20892\\2228661037.py:79: PerformanceWarning: DataFrame is highly fragmented.  This is usually the result of calling `frame.insert` many times, which has poor performance.  Consider joining all columns at once using pd.concat(axis=1) instead. To get a de-fragmented frame, use `newframe = frame.copy()`\n",
      "  df_Q1[\"y_real\"+\"day_\"+str(day_i)+\"stcd_\"+str(stcd_i)]=y_real\n",
      "C:\\Users\\39362\\AppData\\Local\\Temp\\ipykernel_20892\\2228661037.py:78: PerformanceWarning: DataFrame is highly fragmented.  This is usually the result of calling `frame.insert` many times, which has poor performance.  Consider joining all columns at once using pd.concat(axis=1) instead. To get a de-fragmented frame, use `newframe = frame.copy()`\n",
      "  df_Q1[\"y_hat\"+\"day_\"+str(day_i)+\"stcd_\"+str(stcd_i)]=y_hat\n",
      "C:\\Users\\39362\\AppData\\Local\\Temp\\ipykernel_20892\\2228661037.py:79: PerformanceWarning: DataFrame is highly fragmented.  This is usually the result of calling `frame.insert` many times, which has poor performance.  Consider joining all columns at once using pd.concat(axis=1) instead. To get a de-fragmented frame, use `newframe = frame.copy()`\n",
      "  df_Q1[\"y_real\"+\"day_\"+str(day_i)+\"stcd_\"+str(stcd_i)]=y_real\n",
      "C:\\Users\\39362\\AppData\\Local\\Temp\\ipykernel_20892\\2228661037.py:78: PerformanceWarning: DataFrame is highly fragmented.  This is usually the result of calling `frame.insert` many times, which has poor performance.  Consider joining all columns at once using pd.concat(axis=1) instead. To get a de-fragmented frame, use `newframe = frame.copy()`\n",
      "  df_Q1[\"y_hat\"+\"day_\"+str(day_i)+\"stcd_\"+str(stcd_i)]=y_hat\n",
      "C:\\Users\\39362\\AppData\\Local\\Temp\\ipykernel_20892\\2228661037.py:79: PerformanceWarning: DataFrame is highly fragmented.  This is usually the result of calling `frame.insert` many times, which has poor performance.  Consider joining all columns at once using pd.concat(axis=1) instead. To get a de-fragmented frame, use `newframe = frame.copy()`\n",
      "  df_Q1[\"y_real\"+\"day_\"+str(day_i)+\"stcd_\"+str(stcd_i)]=y_real\n",
      "C:\\Users\\39362\\AppData\\Local\\Temp\\ipykernel_20892\\2228661037.py:78: PerformanceWarning: DataFrame is highly fragmented.  This is usually the result of calling `frame.insert` many times, which has poor performance.  Consider joining all columns at once using pd.concat(axis=1) instead. To get a de-fragmented frame, use `newframe = frame.copy()`\n",
      "  df_Q1[\"y_hat\"+\"day_\"+str(day_i)+\"stcd_\"+str(stcd_i)]=y_hat\n",
      "C:\\Users\\39362\\AppData\\Local\\Temp\\ipykernel_20892\\2228661037.py:79: PerformanceWarning: DataFrame is highly fragmented.  This is usually the result of calling `frame.insert` many times, which has poor performance.  Consider joining all columns at once using pd.concat(axis=1) instead. To get a de-fragmented frame, use `newframe = frame.copy()`\n",
      "  df_Q1[\"y_real\"+\"day_\"+str(day_i)+\"stcd_\"+str(stcd_i)]=y_real\n",
      "C:\\Users\\39362\\AppData\\Local\\Temp\\ipykernel_20892\\2228661037.py:78: PerformanceWarning: DataFrame is highly fragmented.  This is usually the result of calling `frame.insert` many times, which has poor performance.  Consider joining all columns at once using pd.concat(axis=1) instead. To get a de-fragmented frame, use `newframe = frame.copy()`\n",
      "  df_Q1[\"y_hat\"+\"day_\"+str(day_i)+\"stcd_\"+str(stcd_i)]=y_hat\n",
      "C:\\Users\\39362\\AppData\\Local\\Temp\\ipykernel_20892\\2228661037.py:79: PerformanceWarning: DataFrame is highly fragmented.  This is usually the result of calling `frame.insert` many times, which has poor performance.  Consider joining all columns at once using pd.concat(axis=1) instead. To get a de-fragmented frame, use `newframe = frame.copy()`\n",
      "  df_Q1[\"y_real\"+\"day_\"+str(day_i)+\"stcd_\"+str(stcd_i)]=y_real\n",
      "C:\\Users\\39362\\AppData\\Local\\Temp\\ipykernel_20892\\2228661037.py:78: PerformanceWarning: DataFrame is highly fragmented.  This is usually the result of calling `frame.insert` many times, which has poor performance.  Consider joining all columns at once using pd.concat(axis=1) instead. To get a de-fragmented frame, use `newframe = frame.copy()`\n",
      "  df_Q1[\"y_hat\"+\"day_\"+str(day_i)+\"stcd_\"+str(stcd_i)]=y_hat\n",
      "C:\\Users\\39362\\AppData\\Local\\Temp\\ipykernel_20892\\2228661037.py:79: PerformanceWarning: DataFrame is highly fragmented.  This is usually the result of calling `frame.insert` many times, which has poor performance.  Consider joining all columns at once using pd.concat(axis=1) instead. To get a de-fragmented frame, use `newframe = frame.copy()`\n",
      "  df_Q1[\"y_real\"+\"day_\"+str(day_i)+\"stcd_\"+str(stcd_i)]=y_real\n",
      "C:\\Users\\39362\\AppData\\Local\\Temp\\ipykernel_20892\\2228661037.py:78: PerformanceWarning: DataFrame is highly fragmented.  This is usually the result of calling `frame.insert` many times, which has poor performance.  Consider joining all columns at once using pd.concat(axis=1) instead. To get a de-fragmented frame, use `newframe = frame.copy()`\n",
      "  df_Q1[\"y_hat\"+\"day_\"+str(day_i)+\"stcd_\"+str(stcd_i)]=y_hat\n",
      "C:\\Users\\39362\\AppData\\Local\\Temp\\ipykernel_20892\\2228661037.py:79: PerformanceWarning: DataFrame is highly fragmented.  This is usually the result of calling `frame.insert` many times, which has poor performance.  Consider joining all columns at once using pd.concat(axis=1) instead. To get a de-fragmented frame, use `newframe = frame.copy()`\n",
      "  df_Q1[\"y_real\"+\"day_\"+str(day_i)+\"stcd_\"+str(stcd_i)]=y_real\n",
      "C:\\Users\\39362\\AppData\\Local\\Temp\\ipykernel_20892\\2228661037.py:78: PerformanceWarning: DataFrame is highly fragmented.  This is usually the result of calling `frame.insert` many times, which has poor performance.  Consider joining all columns at once using pd.concat(axis=1) instead. To get a de-fragmented frame, use `newframe = frame.copy()`\n",
      "  df_Q1[\"y_hat\"+\"day_\"+str(day_i)+\"stcd_\"+str(stcd_i)]=y_hat\n",
      "C:\\Users\\39362\\AppData\\Local\\Temp\\ipykernel_20892\\2228661037.py:79: PerformanceWarning: DataFrame is highly fragmented.  This is usually the result of calling `frame.insert` many times, which has poor performance.  Consider joining all columns at once using pd.concat(axis=1) instead. To get a de-fragmented frame, use `newframe = frame.copy()`\n",
      "  df_Q1[\"y_real\"+\"day_\"+str(day_i)+\"stcd_\"+str(stcd_i)]=y_real\n",
      "C:\\Users\\39362\\AppData\\Local\\Temp\\ipykernel_20892\\2228661037.py:78: PerformanceWarning: DataFrame is highly fragmented.  This is usually the result of calling `frame.insert` many times, which has poor performance.  Consider joining all columns at once using pd.concat(axis=1) instead. To get a de-fragmented frame, use `newframe = frame.copy()`\n",
      "  df_Q1[\"y_hat\"+\"day_\"+str(day_i)+\"stcd_\"+str(stcd_i)]=y_hat\n",
      "C:\\Users\\39362\\AppData\\Local\\Temp\\ipykernel_20892\\2228661037.py:79: PerformanceWarning: DataFrame is highly fragmented.  This is usually the result of calling `frame.insert` many times, which has poor performance.  Consider joining all columns at once using pd.concat(axis=1) instead. To get a de-fragmented frame, use `newframe = frame.copy()`\n",
      "  df_Q1[\"y_real\"+\"day_\"+str(day_i)+\"stcd_\"+str(stcd_i)]=y_real\n",
      "C:\\Users\\39362\\AppData\\Local\\Temp\\ipykernel_20892\\2228661037.py:78: PerformanceWarning: DataFrame is highly fragmented.  This is usually the result of calling `frame.insert` many times, which has poor performance.  Consider joining all columns at once using pd.concat(axis=1) instead. To get a de-fragmented frame, use `newframe = frame.copy()`\n",
      "  df_Q1[\"y_hat\"+\"day_\"+str(day_i)+\"stcd_\"+str(stcd_i)]=y_hat\n",
      "C:\\Users\\39362\\AppData\\Local\\Temp\\ipykernel_20892\\2228661037.py:79: PerformanceWarning: DataFrame is highly fragmented.  This is usually the result of calling `frame.insert` many times, which has poor performance.  Consider joining all columns at once using pd.concat(axis=1) instead. To get a de-fragmented frame, use `newframe = frame.copy()`\n",
      "  df_Q1[\"y_real\"+\"day_\"+str(day_i)+\"stcd_\"+str(stcd_i)]=y_real\n",
      "C:\\Users\\39362\\AppData\\Local\\Temp\\ipykernel_20892\\2228661037.py:78: PerformanceWarning: DataFrame is highly fragmented.  This is usually the result of calling `frame.insert` many times, which has poor performance.  Consider joining all columns at once using pd.concat(axis=1) instead. To get a de-fragmented frame, use `newframe = frame.copy()`\n",
      "  df_Q1[\"y_hat\"+\"day_\"+str(day_i)+\"stcd_\"+str(stcd_i)]=y_hat\n",
      "C:\\Users\\39362\\AppData\\Local\\Temp\\ipykernel_20892\\2228661037.py:79: PerformanceWarning: DataFrame is highly fragmented.  This is usually the result of calling `frame.insert` many times, which has poor performance.  Consider joining all columns at once using pd.concat(axis=1) instead. To get a de-fragmented frame, use `newframe = frame.copy()`\n",
      "  df_Q1[\"y_real\"+\"day_\"+str(day_i)+\"stcd_\"+str(stcd_i)]=y_real\n",
      "C:\\Users\\39362\\AppData\\Local\\Temp\\ipykernel_20892\\2228661037.py:78: PerformanceWarning: DataFrame is highly fragmented.  This is usually the result of calling `frame.insert` many times, which has poor performance.  Consider joining all columns at once using pd.concat(axis=1) instead. To get a de-fragmented frame, use `newframe = frame.copy()`\n",
      "  df_Q1[\"y_hat\"+\"day_\"+str(day_i)+\"stcd_\"+str(stcd_i)]=y_hat\n",
      "C:\\Users\\39362\\AppData\\Local\\Temp\\ipykernel_20892\\2228661037.py:79: PerformanceWarning: DataFrame is highly fragmented.  This is usually the result of calling `frame.insert` many times, which has poor performance.  Consider joining all columns at once using pd.concat(axis=1) instead. To get a de-fragmented frame, use `newframe = frame.copy()`\n",
      "  df_Q1[\"y_real\"+\"day_\"+str(day_i)+\"stcd_\"+str(stcd_i)]=y_real\n",
      "C:\\Users\\39362\\AppData\\Local\\Temp\\ipykernel_20892\\2228661037.py:78: PerformanceWarning: DataFrame is highly fragmented.  This is usually the result of calling `frame.insert` many times, which has poor performance.  Consider joining all columns at once using pd.concat(axis=1) instead. To get a de-fragmented frame, use `newframe = frame.copy()`\n",
      "  df_Q1[\"y_hat\"+\"day_\"+str(day_i)+\"stcd_\"+str(stcd_i)]=y_hat\n",
      "C:\\Users\\39362\\AppData\\Local\\Temp\\ipykernel_20892\\2228661037.py:79: PerformanceWarning: DataFrame is highly fragmented.  This is usually the result of calling `frame.insert` many times, which has poor performance.  Consider joining all columns at once using pd.concat(axis=1) instead. To get a de-fragmented frame, use `newframe = frame.copy()`\n",
      "  df_Q1[\"y_real\"+\"day_\"+str(day_i)+\"stcd_\"+str(stcd_i)]=y_real\n",
      "C:\\Users\\39362\\AppData\\Local\\Temp\\ipykernel_20892\\2228661037.py:78: PerformanceWarning: DataFrame is highly fragmented.  This is usually the result of calling `frame.insert` many times, which has poor performance.  Consider joining all columns at once using pd.concat(axis=1) instead. To get a de-fragmented frame, use `newframe = frame.copy()`\n",
      "  df_Q1[\"y_hat\"+\"day_\"+str(day_i)+\"stcd_\"+str(stcd_i)]=y_hat\n",
      "C:\\Users\\39362\\AppData\\Local\\Temp\\ipykernel_20892\\2228661037.py:79: PerformanceWarning: DataFrame is highly fragmented.  This is usually the result of calling `frame.insert` many times, which has poor performance.  Consider joining all columns at once using pd.concat(axis=1) instead. To get a de-fragmented frame, use `newframe = frame.copy()`\n",
      "  df_Q1[\"y_real\"+\"day_\"+str(day_i)+\"stcd_\"+str(stcd_i)]=y_real\n",
      "C:\\Users\\39362\\AppData\\Local\\Temp\\ipykernel_20892\\2228661037.py:78: PerformanceWarning: DataFrame is highly fragmented.  This is usually the result of calling `frame.insert` many times, which has poor performance.  Consider joining all columns at once using pd.concat(axis=1) instead. To get a de-fragmented frame, use `newframe = frame.copy()`\n",
      "  df_Q1[\"y_hat\"+\"day_\"+str(day_i)+\"stcd_\"+str(stcd_i)]=y_hat\n",
      "C:\\Users\\39362\\AppData\\Local\\Temp\\ipykernel_20892\\2228661037.py:79: PerformanceWarning: DataFrame is highly fragmented.  This is usually the result of calling `frame.insert` many times, which has poor performance.  Consider joining all columns at once using pd.concat(axis=1) instead. To get a de-fragmented frame, use `newframe = frame.copy()`\n",
      "  df_Q1[\"y_real\"+\"day_\"+str(day_i)+\"stcd_\"+str(stcd_i)]=y_real\n",
      "C:\\Users\\39362\\AppData\\Local\\Temp\\ipykernel_20892\\2228661037.py:78: PerformanceWarning: DataFrame is highly fragmented.  This is usually the result of calling `frame.insert` many times, which has poor performance.  Consider joining all columns at once using pd.concat(axis=1) instead. To get a de-fragmented frame, use `newframe = frame.copy()`\n",
      "  df_Q1[\"y_hat\"+\"day_\"+str(day_i)+\"stcd_\"+str(stcd_i)]=y_hat\n",
      "C:\\Users\\39362\\AppData\\Local\\Temp\\ipykernel_20892\\2228661037.py:79: PerformanceWarning: DataFrame is highly fragmented.  This is usually the result of calling `frame.insert` many times, which has poor performance.  Consider joining all columns at once using pd.concat(axis=1) instead. To get a de-fragmented frame, use `newframe = frame.copy()`\n",
      "  df_Q1[\"y_real\"+\"day_\"+str(day_i)+\"stcd_\"+str(stcd_i)]=y_real\n",
      "C:\\Users\\39362\\AppData\\Local\\Temp\\ipykernel_20892\\2228661037.py:78: PerformanceWarning: DataFrame is highly fragmented.  This is usually the result of calling `frame.insert` many times, which has poor performance.  Consider joining all columns at once using pd.concat(axis=1) instead. To get a de-fragmented frame, use `newframe = frame.copy()`\n",
      "  df_Q1[\"y_hat\"+\"day_\"+str(day_i)+\"stcd_\"+str(stcd_i)]=y_hat\n",
      "C:\\Users\\39362\\AppData\\Local\\Temp\\ipykernel_20892\\2228661037.py:79: PerformanceWarning: DataFrame is highly fragmented.  This is usually the result of calling `frame.insert` many times, which has poor performance.  Consider joining all columns at once using pd.concat(axis=1) instead. To get a de-fragmented frame, use `newframe = frame.copy()`\n",
      "  df_Q1[\"y_real\"+\"day_\"+str(day_i)+\"stcd_\"+str(stcd_i)]=y_real\n",
      "C:\\Users\\39362\\AppData\\Local\\Temp\\ipykernel_20892\\2228661037.py:78: PerformanceWarning: DataFrame is highly fragmented.  This is usually the result of calling `frame.insert` many times, which has poor performance.  Consider joining all columns at once using pd.concat(axis=1) instead. To get a de-fragmented frame, use `newframe = frame.copy()`\n",
      "  df_Q1[\"y_hat\"+\"day_\"+str(day_i)+\"stcd_\"+str(stcd_i)]=y_hat\n",
      "C:\\Users\\39362\\AppData\\Local\\Temp\\ipykernel_20892\\2228661037.py:79: PerformanceWarning: DataFrame is highly fragmented.  This is usually the result of calling `frame.insert` many times, which has poor performance.  Consider joining all columns at once using pd.concat(axis=1) instead. To get a de-fragmented frame, use `newframe = frame.copy()`\n",
      "  df_Q1[\"y_real\"+\"day_\"+str(day_i)+\"stcd_\"+str(stcd_i)]=y_real\n",
      "C:\\Users\\39362\\AppData\\Local\\Temp\\ipykernel_20892\\2228661037.py:78: PerformanceWarning: DataFrame is highly fragmented.  This is usually the result of calling `frame.insert` many times, which has poor performance.  Consider joining all columns at once using pd.concat(axis=1) instead. To get a de-fragmented frame, use `newframe = frame.copy()`\n",
      "  df_Q1[\"y_hat\"+\"day_\"+str(day_i)+\"stcd_\"+str(stcd_i)]=y_hat\n",
      "C:\\Users\\39362\\AppData\\Local\\Temp\\ipykernel_20892\\2228661037.py:79: PerformanceWarning: DataFrame is highly fragmented.  This is usually the result of calling `frame.insert` many times, which has poor performance.  Consider joining all columns at once using pd.concat(axis=1) instead. To get a de-fragmented frame, use `newframe = frame.copy()`\n",
      "  df_Q1[\"y_real\"+\"day_\"+str(day_i)+\"stcd_\"+str(stcd_i)]=y_real\n",
      "C:\\Users\\39362\\AppData\\Local\\Temp\\ipykernel_20892\\2228661037.py:78: PerformanceWarning: DataFrame is highly fragmented.  This is usually the result of calling `frame.insert` many times, which has poor performance.  Consider joining all columns at once using pd.concat(axis=1) instead. To get a de-fragmented frame, use `newframe = frame.copy()`\n",
      "  df_Q1[\"y_hat\"+\"day_\"+str(day_i)+\"stcd_\"+str(stcd_i)]=y_hat\n",
      "C:\\Users\\39362\\AppData\\Local\\Temp\\ipykernel_20892\\2228661037.py:79: PerformanceWarning: DataFrame is highly fragmented.  This is usually the result of calling `frame.insert` many times, which has poor performance.  Consider joining all columns at once using pd.concat(axis=1) instead. To get a de-fragmented frame, use `newframe = frame.copy()`\n",
      "  df_Q1[\"y_real\"+\"day_\"+str(day_i)+\"stcd_\"+str(stcd_i)]=y_real\n",
      "C:\\Users\\39362\\AppData\\Local\\Temp\\ipykernel_20892\\2228661037.py:78: PerformanceWarning: DataFrame is highly fragmented.  This is usually the result of calling `frame.insert` many times, which has poor performance.  Consider joining all columns at once using pd.concat(axis=1) instead. To get a de-fragmented frame, use `newframe = frame.copy()`\n",
      "  df_Q1[\"y_hat\"+\"day_\"+str(day_i)+\"stcd_\"+str(stcd_i)]=y_hat\n",
      "C:\\Users\\39362\\AppData\\Local\\Temp\\ipykernel_20892\\2228661037.py:79: PerformanceWarning: DataFrame is highly fragmented.  This is usually the result of calling `frame.insert` many times, which has poor performance.  Consider joining all columns at once using pd.concat(axis=1) instead. To get a de-fragmented frame, use `newframe = frame.copy()`\n",
      "  df_Q1[\"y_real\"+\"day_\"+str(day_i)+\"stcd_\"+str(stcd_i)]=y_real\n",
      "C:\\Users\\39362\\AppData\\Local\\Temp\\ipykernel_20892\\2228661037.py:78: PerformanceWarning: DataFrame is highly fragmented.  This is usually the result of calling `frame.insert` many times, which has poor performance.  Consider joining all columns at once using pd.concat(axis=1) instead. To get a de-fragmented frame, use `newframe = frame.copy()`\n",
      "  df_Q1[\"y_hat\"+\"day_\"+str(day_i)+\"stcd_\"+str(stcd_i)]=y_hat\n",
      "C:\\Users\\39362\\AppData\\Local\\Temp\\ipykernel_20892\\2228661037.py:79: PerformanceWarning: DataFrame is highly fragmented.  This is usually the result of calling `frame.insert` many times, which has poor performance.  Consider joining all columns at once using pd.concat(axis=1) instead. To get a de-fragmented frame, use `newframe = frame.copy()`\n",
      "  df_Q1[\"y_real\"+\"day_\"+str(day_i)+\"stcd_\"+str(stcd_i)]=y_real\n",
      "C:\\Users\\39362\\AppData\\Local\\Temp\\ipykernel_20892\\2228661037.py:78: PerformanceWarning: DataFrame is highly fragmented.  This is usually the result of calling `frame.insert` many times, which has poor performance.  Consider joining all columns at once using pd.concat(axis=1) instead. To get a de-fragmented frame, use `newframe = frame.copy()`\n",
      "  df_Q1[\"y_hat\"+\"day_\"+str(day_i)+\"stcd_\"+str(stcd_i)]=y_hat\n",
      "C:\\Users\\39362\\AppData\\Local\\Temp\\ipykernel_20892\\2228661037.py:79: PerformanceWarning: DataFrame is highly fragmented.  This is usually the result of calling `frame.insert` many times, which has poor performance.  Consider joining all columns at once using pd.concat(axis=1) instead. To get a de-fragmented frame, use `newframe = frame.copy()`\n",
      "  df_Q1[\"y_real\"+\"day_\"+str(day_i)+\"stcd_\"+str(stcd_i)]=y_real\n",
      "C:\\Users\\39362\\AppData\\Local\\Temp\\ipykernel_20892\\2228661037.py:78: PerformanceWarning: DataFrame is highly fragmented.  This is usually the result of calling `frame.insert` many times, which has poor performance.  Consider joining all columns at once using pd.concat(axis=1) instead. To get a de-fragmented frame, use `newframe = frame.copy()`\n",
      "  df_Q1[\"y_hat\"+\"day_\"+str(day_i)+\"stcd_\"+str(stcd_i)]=y_hat\n",
      "C:\\Users\\39362\\AppData\\Local\\Temp\\ipykernel_20892\\2228661037.py:79: PerformanceWarning: DataFrame is highly fragmented.  This is usually the result of calling `frame.insert` many times, which has poor performance.  Consider joining all columns at once using pd.concat(axis=1) instead. To get a de-fragmented frame, use `newframe = frame.copy()`\n",
      "  df_Q1[\"y_real\"+\"day_\"+str(day_i)+\"stcd_\"+str(stcd_i)]=y_real\n",
      "C:\\Users\\39362\\AppData\\Local\\Temp\\ipykernel_20892\\2228661037.py:78: PerformanceWarning: DataFrame is highly fragmented.  This is usually the result of calling `frame.insert` many times, which has poor performance.  Consider joining all columns at once using pd.concat(axis=1) instead. To get a de-fragmented frame, use `newframe = frame.copy()`\n",
      "  df_Q1[\"y_hat\"+\"day_\"+str(day_i)+\"stcd_\"+str(stcd_i)]=y_hat\n",
      "C:\\Users\\39362\\AppData\\Local\\Temp\\ipykernel_20892\\2228661037.py:79: PerformanceWarning: DataFrame is highly fragmented.  This is usually the result of calling `frame.insert` many times, which has poor performance.  Consider joining all columns at once using pd.concat(axis=1) instead. To get a de-fragmented frame, use `newframe = frame.copy()`\n",
      "  df_Q1[\"y_real\"+\"day_\"+str(day_i)+\"stcd_\"+str(stcd_i)]=y_real\n"
     ]
    },
    {
     "data": {
      "text/plain": "   STGCN-NSE  STGCN-MAPE  STGCN-SMAPE  STGCN-RMSE\n0   0.929916    0.109193     0.025909  300.528867\n1   0.925829    0.095755     0.022879  309.155053\n2   0.921202    0.114121     0.026958  318.641056\n3   0.909867    0.124422     0.029222  340.780019\n4   0.865588    0.147904     0.034005  416.143731\n5   0.812781    0.189435     0.042771  491.126992\n6   0.781769    0.179406     0.040851  530.244854",
      "text/html": "<div>\n<style scoped>\n    .dataframe tbody tr th:only-of-type {\n        vertical-align: middle;\n    }\n\n    .dataframe tbody tr th {\n        vertical-align: top;\n    }\n\n    .dataframe thead th {\n        text-align: right;\n    }\n</style>\n<table border=\"1\" class=\"dataframe\">\n  <thead>\n    <tr style=\"text-align: right;\">\n      <th></th>\n      <th>STGCN-NSE</th>\n      <th>STGCN-MAPE</th>\n      <th>STGCN-SMAPE</th>\n      <th>STGCN-RMSE</th>\n    </tr>\n  </thead>\n  <tbody>\n    <tr>\n      <th>0</th>\n      <td>0.929916</td>\n      <td>0.109193</td>\n      <td>0.025909</td>\n      <td>300.528867</td>\n    </tr>\n    <tr>\n      <th>1</th>\n      <td>0.925829</td>\n      <td>0.095755</td>\n      <td>0.022879</td>\n      <td>309.155053</td>\n    </tr>\n    <tr>\n      <th>2</th>\n      <td>0.921202</td>\n      <td>0.114121</td>\n      <td>0.026958</td>\n      <td>318.641056</td>\n    </tr>\n    <tr>\n      <th>3</th>\n      <td>0.909867</td>\n      <td>0.124422</td>\n      <td>0.029222</td>\n      <td>340.780019</td>\n    </tr>\n    <tr>\n      <th>4</th>\n      <td>0.865588</td>\n      <td>0.147904</td>\n      <td>0.034005</td>\n      <td>416.143731</td>\n    </tr>\n    <tr>\n      <th>5</th>\n      <td>0.812781</td>\n      <td>0.189435</td>\n      <td>0.042771</td>\n      <td>491.126992</td>\n    </tr>\n    <tr>\n      <th>6</th>\n      <td>0.781769</td>\n      <td>0.179406</td>\n      <td>0.040851</td>\n      <td>530.244854</td>\n    </tr>\n  </tbody>\n</table>\n</div>"
     },
     "execution_count": 10,
     "metadata": {},
     "output_type": "execute_result"
    }
   ],
   "source": [
    "training_losses = []\n",
    "validation_losses = []\n",
    "validation_maes = []\n",
    "torch.cuda.empty_cache()\n",
    "loss_criterion = nn.MSELoss()\n",
    "lr=1e-3\n",
    "epochs=50\n",
    "# epoch_start=1\n",
    "# net = STGCN(A_wave.shape[0],\n",
    "#             training_input.shape[3],\n",
    "#             num_timesteps_input,\n",
    "#             num_timesteps_output).to(device=args.device)\n",
    "# model_path=r\"train_result/node25/STL_STGCN_RunOff_lr\"+str(lr)+\"epoch\"+str(epochs)\n",
    "path_model=\"train_result/node25/STL_STGCN_RunOff_lr0.001epoch50lr0.0001epoch100.pmk\"\n",
    "net=torch.load(path_model)\n",
    "lr=1e-4\n",
    "epoch_start=1\n",
    "epochs=1\n",
    "optimizer = torch.optim.Adam(net.parameters(), lr=lr)\n",
    "model_path=r\"train_result/node25/STL_STGCN_RunOff_lr0.001epoch50lr\"+str(lr)+\"epoch\"+str(epochs)\n",
    "# epoch_start=100\n",
    "# epochs=100\n",
    "time_start = time.time()  # 记录开始时间\n",
    "for epoch in tqdm(range(epoch_start,epochs+1)):\n",
    "    # for epoch in tqdm(range(epoch_start,51)):\n",
    "    loss = train_epoch(training_input, training_target,batch_size=batch_size)\n",
    "    training_losses.append(loss)\n",
    "    # if epoch==50:\n",
    "    #     torch.save(net,\"train_model/STL_STGCN_RS_RunOff_epoch_\"+str(epoch)+\".pmk\")\n",
    "    with torch.no_grad():\n",
    "        net.eval()\n",
    "        val_input = val_input.to(device=args.device)\n",
    "        val_target = val_target.to(device=args.device)\n",
    "        out = net(A_wave, val_input)\n",
    "        val_loss = loss_criterion(out, val_target).to(device=\"cuda\")\n",
    "        # val_loss = loss_criterion(out, val_target).to(device=\"cuda\")\n",
    "        # validation_losses.append(np.asscalar(val_loss.detach().numpy())) #使用numpy.ndarray.item（）代替asscalar（）\n",
    "        # validation_losses.append(np.ndarray.item(val_loss.detach().numpy()))\n",
    "        validation_losses.append(np.ndarray.item(val_loss.cpu().numpy()))\n",
    "        out_unnormalized = out.detach().cpu().numpy()*stds[:,feature_i].reshape(1,-1,1)+means[:,feature_i].reshape(1,-1,1)\n",
    "        target_unnormalized = val_target.detach().cpu().numpy() *stds[:,feature_i].reshape(1,-1,1)+means[:,feature_i].reshape(1,-1,1)\n",
    "        mae = np.mean(np.absolute(out_unnormalized - target_unnormalized))\n",
    "        validation_maes.append(mae)\n",
    "        out = None\n",
    "        # val_input = val_input.to(device=\"cpu\")\n",
    "        # val_target = val_target.to(device=\"cpu\")\n",
    "        val_input = val_input.to(device=\"cuda\")\n",
    "        val_target = val_target.to(device=\"cuda\")\n",
    "\n",
    "df_train=pd.DataFrame()\n",
    "df_train[\"training_losses\"]=training_losses\n",
    "df_train[\"validation_losses\"]=validation_losses\n",
    "df_train[\"validation_maes\"]=validation_maes\n",
    "\n",
    "time_end = time.time()  # 记录结束时间\n",
    "time_sum = time_end - time_start  # 计算的时间差为程序的执行时间，单位为秒/s\n",
    "print(\"time_sum:\",time_sum)\n",
    "\n",
    "\n",
    "import matplotlib.pyplot as plt\n",
    "plt.plot(training_losses, label=\"training loss\")\n",
    "plt.plot(validation_losses, label=\"validation loss\")\n",
    "plt.legend()\n",
    "plt.savefig(\"训练和检验过程.png\",transparent=True)\n",
    "plt.show()\n",
    "\n",
    "plt.plot(validation_maes, label=\"validation  maes\")\n",
    "plt.show()\n",
    "df_P1=pd.DataFrame()\n",
    "df_Q1=pd.DataFrame()\n",
    "# P_list=[\"NSE\",\"MAPE\",\"MRME\",\"RMSE\",\"Corr\",\"STD\",\"MEAN\"]\n",
    "for stcd_i in range(out_unnormalized.shape[1]):\n",
    "    dict_p={}\n",
    "    for day_i in range(out_unnormalized.shape[2]):\n",
    "        # print(\"day_i:\",day_i)\n",
    "        y_hat = [out_unnormalized[i, stcd_i, day_i] for i in range(out_unnormalized.shape[0])]\n",
    "        y_real = [target_unnormalized[i, stcd_i, day_i] for i in range(target_unnormalized.shape[0])]\n",
    "        df_Q1[\"y_hat\"+\"day_\"+str(day_i)+\"stcd_\"+str(stcd_i)]=y_hat\n",
    "        df_Q1[\"y_real\"+\"day_\"+str(day_i)+\"stcd_\"+str(stcd_i)]=y_real\n",
    "        dict_p[\"NSE\"+str(day_i+1)]=Get_R2(np.array(y_real),np.array(y_hat))\n",
    "        dict_p[\"MAPE\"+str(day_i+1)]=Get_MRE(np.array(y_real),np.array(y_hat))\n",
    "        dict_p[\"SMAPE\"+str(day_i+1)]=Get_SMAPE(np.array(y_real),np.array(y_hat))\n",
    "        dict_p[\"RMSE\"+str(day_i+1)]=Get_RMSE(np.array(y_real),np.array(y_hat))\n",
    "        dict_p[\"Corr\"+str(day_i+1)]=Get_corr(np.array(y_real),np.array(y_hat))\n",
    "        dict_p[\"STD\"+str(day_i+1)]=np.std(y_hat)\n",
    "        dict_p[\"MEAN\"+str(day_i+1)]=np.mean(y_hat)\n",
    "    df_P1=df_P1._append(dict_p,ignore_index=True)\n",
    "    # col_name_list=[ col_name+ str(day_i+1) for day_i in range(out_unnormalized.shape[2]) for col_name in P_list]\n",
    "    # df_P1=df_P1[col_name_list]\n",
    "\n",
    "\n",
    "print(df_P1)\n",
    "stcd_i=19\n",
    "P_list=[\"NSE\",\"MAPE\",\"SMAPE\",\"RMSE\",\"Corr\",\"STD\",\"MEAN\",]\n",
    "p_index_list=[0,1,2,3]\n",
    "df_P_Choose=pd.DataFrame()\n",
    "for i in range(df_P1.shape[0]):\n",
    "    for p_index,p_value in enumerate(p_index_list):\n",
    "        df_P_Choose[\"STGCN\"+\"-\"+P_list[p_index]]=df_P1.iloc[stcd_i,[i*7+p_value   for i in range(num_timesteps_output)]].tolist()\n",
    "# print(df_P_Choose)\n",
    "df_P_Choose"
   ],
   "metadata": {
    "collapsed": false
   }
  },
  {
   "cell_type": "code",
   "execution_count": 13,
   "outputs": [],
   "source": [
    "torch.save(net,\"RRS-STL-STGCN.pmk\")\n",
    "writer=pd.ExcelWriter(\"RRS-STL-STGCN.xlsx\")\n",
    "df_train.to_excel(writer,sheet_name=\"迭代过程\")\n",
    "df_P1.to_excel(writer,sheet_name=\"指标评价\")\n",
    "df_Q1.to_excel(writer,sheet_name=\"预测结果\", index=None)\n",
    "df_P_Choose.to_excel(writer,sheet_name=\"20站点指标评价\", index=None)\n",
    "writer.close()"
   ],
   "metadata": {
    "collapsed": false,
    "ExecuteTime": {
     "start_time": "2024-02-27T19:59:56.542701Z",
     "end_time": "2024-02-27T20:00:03.326509Z"
    }
   }
  },
  {
   "cell_type": "markdown",
   "source": [
    "# 模型保存"
   ],
   "metadata": {
    "collapsed": false
   }
  }
 ],
 "metadata": {
  "kernelspec": {
   "display_name": "Python 3",
   "language": "python",
   "name": "python3"
  },
  "language_info": {
   "codemirror_mode": {
    "name": "ipython",
    "version": 2
   },
   "file_extension": ".py",
   "mimetype": "text/x-python",
   "name": "python",
   "nbconvert_exporter": "python",
   "pygments_lexer": "ipython2",
   "version": "2.7.6"
  }
 },
 "nbformat": 4,
 "nbformat_minor": 0
}
